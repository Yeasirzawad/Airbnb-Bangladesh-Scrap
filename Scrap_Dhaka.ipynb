{
 "cells": [
  {
   "cell_type": "code",
   "execution_count": null,
   "metadata": {},
   "outputs": [],
   "source": [
    "from xpaths import xpaths_dict "
   ]
  },
  {
   "cell_type": "code",
   "execution_count": null,
   "metadata": {},
   "outputs": [],
   "source": [
    "important_areas_dhaka = [\n",
    "    \"Gulshan\",\n",
    "    \"Banani\",\n",
    "    \"Baridhara\",\n",
    "    \"Dhanmondi\",\n",
    "    \"Uttara\",\n",
    "    \"Motijheel\",\n",
    "    \"Bashundhara Residential Area\",\n",
    "    \"Mirpur\",\n",
    "    \"Mohammadpur\",\n",
    "    \"Old Dhaka (Puran Dhaka)\",\n",
    "    \"Lalbagh\",\n",
    "    \"Tejgaon\",\n",
    "    \"Kawran Bazar\",\n",
    "    \"Farmgate\",\n",
    "    \"Savar\",\n",
    "    \"Panthapath\",\n",
    "    \"Nikunja\",\n",
    "    \"Banasree\",\n",
    "    \"Green Road\",\n",
    "    \"Shyamoli\",\n",
    "    \"Kalabagan\",\n",
    "    \"Agargaon\",\n",
    "    \"Shahbagh\",\n",
    "    \"Segunbagicha\",\n",
    "    \"Khilgaon\",\n",
    "    \"Moghbazar\"\n",
    "]"
   ]
  },
  {
   "cell_type": "code",
   "execution_count": null,
   "metadata": {},
   "outputs": [],
   "source": [
    "import pandas as pd\n",
    "import os\n",
    "import re\n",
    "from selenium import webdriver\n",
    "from selenium.webdriver.common.by import By\n",
    "import time"
   ]
  },
  {
   "cell_type": "code",
   "execution_count": null,
   "metadata": {},
   "outputs": [],
   "source": [
    "main_link = \"https://www.airbnb.com/s/\""
   ]
  },
  {
   "cell_type": "code",
   "execution_count": null,
   "metadata": {},
   "outputs": [],
   "source": [
    "def result_count_maker(string):  \n",
    "    numbers = \"\"\n",
    "    for char in string:\n",
    "        if char.isdigit():\n",
    "            numbers += char \n",
    "\n",
    "    return int(numbers)"
   ]
  },
  {
   "cell_type": "code",
   "execution_count": null,
   "metadata": {},
   "outputs": [],
   "source": [
    "driver = webdriver.Chrome()\n",
    "driver.maximize_window()\n",
    "total_dict = []\n",
    "\n",
    "for location in important_areas_dhaka:\n",
    "    \n",
    "    main_link = f\"https://www.airbnb.com/s/{location}/homes\"\n",
    "    driver.get(main_link)\n",
    "    time.sleep(2)\n",
    "   \n",
    "  \n",
    "    for i in range(1,19):\n",
    "      dict_ = {\n",
    "        \"location\":location,\n",
    "        \"listing_link\": None,\n",
    "\n",
    "         }\n",
    "      try:\n",
    "        listing_link = driver.find_element('xpath',f\"{xpaths_dict['apartment_link_xpath']}[{i}]\")\n",
    "        dict_['listing_link'] = listing_link.get_attribute('href')\n",
    "        total_dict.append(dict_)\n",
    "       \n",
    "      except:\n",
    "          print(\"No more listings in \", location)\n",
    "          break\n",
    "    \n",
    "    try:\n",
    "        result_count_string = driver.find_element('xpath',xpaths_dict['result_count_xpath']).text\n",
    "        result_count = result_count_maker(result_count_string)\n",
    "        print(result_count ,\" results in \", location)\n",
    "    except:\n",
    "        print(\"No results of \",location)\n",
    "        continue\n",
    "    \n",
    "    page_count = result_count // 18\n",
    "    \n",
    "    if(page_count >= 15):\n",
    "        page_count = 15\n",
    "\n",
    "    while(page_count > 0):\n",
    "\n",
    "       \n",
    "        try:\n",
    "\n",
    "            next_page_link = driver.find_element('xpath',xpaths_dict['next_page_xpath'])\n",
    "            print(next_page_link.get_attribute('href'))\n",
    "            \n",
    "            next_page_link.click()\n",
    "            time.sleep(2)\n",
    "            \n",
    "            for i in range(1,19):\n",
    "      \n",
    "                dict_ = {\n",
    "                    \"location\":location,\n",
    "                    \"listing_link\": None,\n",
    "\n",
    "                }\n",
    "                \n",
    "                try:\n",
    "                    listing_link = driver.find_element('xpath',f\"{xpaths_dict['apartment_link_xpath']}[{i}]\")\n",
    "                    dict_['listing_link'] = listing_link.get_attribute('href')\n",
    "                    total_dict.append(dict_)\n",
    "       \n",
    "                except:\n",
    "                    print(\"No more listings in \", location)\n",
    "                    break\n",
    "\n",
    "        except:\n",
    "            print(\"no next\")\n",
    "            break\n",
    "        \n",
    "\n",
    "        page_count = page_count - 1\n",
    "    \n",
    "\n",
    "    \n",
    "  \n",
    "    \n"
   ]
  },
  {
   "cell_type": "code",
   "execution_count": null,
   "metadata": {},
   "outputs": [],
   "source": [
    "df = pd.DataFrame(total_dict)"
   ]
  },
  {
   "cell_type": "code",
   "execution_count": null,
   "metadata": {},
   "outputs": [],
   "source": [
    "def get_base_url(url):\n",
    "    return url.split('?', 1)[0]\n",
    "\n",
    "# Apply the function to the 'urls' column\n",
    "df['base_urls'] = df['listing_link'].apply(get_base_url)"
   ]
  },
  {
   "cell_type": "code",
   "execution_count": null,
   "metadata": {},
   "outputs": [],
   "source": [
    "\n",
    "df.to_csv('links_Dhaka.csv',index=False)"
   ]
  },
  {
   "cell_type": "code",
   "execution_count": null,
   "metadata": {},
   "outputs": [],
   "source": [
    "df.info()"
   ]
  },
  {
   "cell_type": "code",
   "execution_count": null,
   "metadata": {},
   "outputs": [],
   "source": [
    "df[\"base_urls\"].nunique()"
   ]
  },
  {
   "cell_type": "code",
   "execution_count": null,
   "metadata": {},
   "outputs": [],
   "source": [
    "df2 = pd.read_csv(\"D:\\Sifat\\AirBNB\\links.csv\")"
   ]
  },
  {
   "cell_type": "code",
   "execution_count": null,
   "metadata": {},
   "outputs": [],
   "source": [
    "merged_df = pd.concat([df, df2], ignore_index=True)"
   ]
  },
  {
   "cell_type": "code",
   "execution_count": null,
   "metadata": {},
   "outputs": [],
   "source": [
    "merged_df.info()"
   ]
  },
  {
   "cell_type": "code",
   "execution_count": null,
   "metadata": {},
   "outputs": [],
   "source": [
    "merge_main = merged_df.drop_duplicates(subset= 'base_urls', keep= 'last')"
   ]
  },
  {
   "cell_type": "code",
   "execution_count": null,
   "metadata": {},
   "outputs": [],
   "source": [
    "merge_main.to_csv('Main_Links_All.csv',index=False)"
   ]
  },
  {
   "cell_type": "code",
   "execution_count": null,
   "metadata": {},
   "outputs": [],
   "source": []
  }
 ],
 "metadata": {
  "kernelspec": {
   "display_name": "base",
   "language": "python",
   "name": "python3"
  },
  "language_info": {
   "codemirror_mode": {
    "name": "ipython",
    "version": 3
   },
   "file_extension": ".py",
   "mimetype": "text/x-python",
   "name": "python",
   "nbconvert_exporter": "python",
   "pygments_lexer": "ipython3",
   "version": "3.11.7"
  }
 },
 "nbformat": 4,
 "nbformat_minor": 2
}
