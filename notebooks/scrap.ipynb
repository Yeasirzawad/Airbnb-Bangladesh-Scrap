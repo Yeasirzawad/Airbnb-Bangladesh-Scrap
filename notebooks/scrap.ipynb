{
 "cells": [
  {
   "cell_type": "code",
   "execution_count": 12,
   "metadata": {},
   "outputs": [],
   "source": [
    "import pandas as pd\n"
   ]
  },
  {
   "cell_type": "code",
   "execution_count": 13,
   "metadata": {},
   "outputs": [],
   "source": [
    "import numpy as np\n"
   ]
  },
  {
   "cell_type": "code",
   "execution_count": 14,
   "metadata": {},
   "outputs": [],
   "source": [
    "from xpaths import xpaths_dict"
   ]
  },
  {
   "cell_type": "code",
   "execution_count": 15,
   "metadata": {},
   "outputs": [
    {
     "data": {
      "text/plain": [
       "\"(//div[@class='cy5jw6o atm_5j_223wjw atm_70_87waog atm_j3_1u6x1zy atm_jb_4shrsx atm_mk_h2mmj6 atm_vy_7abht0 dir dir-ltr']/a)\""
      ]
     },
     "execution_count": 15,
     "metadata": {},
     "output_type": "execute_result"
    }
   ],
   "source": [
    "xpaths_dict['apartment_link_xpath']"
   ]
  },
  {
   "cell_type": "code",
   "execution_count": 16,
   "metadata": {},
   "outputs": [],
   "source": [
    "import pandas as pd\n",
    "import os\n",
    "import re\n",
    "from selenium import webdriver\n",
    "from selenium.webdriver.common.by import By\n",
    "import time"
   ]
  },
  {
   "cell_type": "code",
   "execution_count": 17,
   "metadata": {},
   "outputs": [],
   "source": [
    "main_link = \"https://www.airbnb.com/s/\""
   ]
  },
  {
   "cell_type": "code",
   "execution_count": 18,
   "metadata": {},
   "outputs": [],
   "source": [
    "districts_of_bangladesh = [\n",
    "    \"Bagerhat\", \"Bandarban\", \"Barguna\", \"Barisal\", \"Bhola\", \"Bogra\", \"Brahmanbaria\", \"Chandpur\", \n",
    "    \"Chapai Nawabganj\", \"Chattogram\", \"Chuadanga\", \"Cox's Bazar\", \"Cumilla\", \"Dhaka\", \"Dinajpur\", \n",
    "    \"Faridpur\", \"Feni\", \"Gaibandha\", \"Gazipur\", \"Gopalganj\", \"Habiganj\", \"Jamalpur\", \"Jashore\", \n",
    "    \"Jhalokathi\", \"Jhenaidah\", \"Joypurhat\", \"Khagrachari\", \"Khulna\", \"Kishoreganj\", \"Kurigram\", \n",
    "    \"Kushtia\", \"Lakshmipur\", \"Lalmonirhat\", \"Madaripur\", \"Magura\", \"Manikganj\", \"Meherpur\", \n",
    "    \"Moulvibazar\", \"Munshiganj\", \"Mymensingh\", \"Naogaon\", \"Narail\", \"Narayanganj\", \"Narsingdi\", \n",
    "    \"Natore\", \"Netrokona\", \"Nilphamari\", \"Noakhali\", \"Pabna\", \"Panchagarh\", \"Patuakhali\", \"Pirojpur\", \n",
    "    \"Rajbari\", \"Rajshahi\", \"Rangamati\", \"Rangpur\", \"Satkhira\", \"Shariatpur\", \"Sherpur\", \"Sirajganj\", \n",
    "    \"Sunamganj\", \"Sylhet\", \"Tangail\", \"Thakurgaon\"\n",
    "]\n"
   ]
  },
  {
   "cell_type": "code",
   "execution_count": 19,
   "metadata": {},
   "outputs": [],
   "source": [
    "def result_count_maker(string):  \n",
    "    numbers = \"\"\n",
    "    for char in string:\n",
    "        if char.isdigit():\n",
    "            numbers += char \n",
    "\n",
    "    return int(numbers)"
   ]
  },
  {
   "cell_type": "code",
   "execution_count": 20,
   "metadata": {},
   "outputs": [
    {
     "data": {
      "text/plain": [
       "28"
      ]
     },
     "execution_count": 20,
     "metadata": {},
     "output_type": "execute_result"
    }
   ],
   "source": [
    "result_count_maker('28 places in Bandarban')"
   ]
  },
  {
   "cell_type": "code",
   "execution_count": 21,
   "metadata": {},
   "outputs": [
    {
     "data": {
      "text/plain": [
       "3.888888888888889"
      ]
     },
     "execution_count": 21,
     "metadata": {},
     "output_type": "execute_result"
    }
   ],
   "source": [
    "70/18"
   ]
  },
  {
   "cell_type": "code",
   "execution_count": 22,
   "metadata": {},
   "outputs": [
    {
     "name": "stdout",
     "output_type": "stream",
     "text": [
      "(//div[@class='cy5jw6o atm_5j_223wjw atm_70_87waog atm_j3_1u6x1zy atm_jb_4shrsx atm_mk_h2mmj6 atm_vy_7abht0 dir dir-ltr']/a)[1]\n",
      "(//div[@class='cy5jw6o atm_5j_223wjw atm_70_87waog atm_j3_1u6x1zy atm_jb_4shrsx atm_mk_h2mmj6 atm_vy_7abht0 dir dir-ltr']/a)[2]\n",
      "(//div[@class='cy5jw6o atm_5j_223wjw atm_70_87waog atm_j3_1u6x1zy atm_jb_4shrsx atm_mk_h2mmj6 atm_vy_7abht0 dir dir-ltr']/a)[3]\n",
      "(//div[@class='cy5jw6o atm_5j_223wjw atm_70_87waog atm_j3_1u6x1zy atm_jb_4shrsx atm_mk_h2mmj6 atm_vy_7abht0 dir dir-ltr']/a)[4]\n",
      "(//div[@class='cy5jw6o atm_5j_223wjw atm_70_87waog atm_j3_1u6x1zy atm_jb_4shrsx atm_mk_h2mmj6 atm_vy_7abht0 dir dir-ltr']/a)[5]\n",
      "(//div[@class='cy5jw6o atm_5j_223wjw atm_70_87waog atm_j3_1u6x1zy atm_jb_4shrsx atm_mk_h2mmj6 atm_vy_7abht0 dir dir-ltr']/a)[6]\n",
      "(//div[@class='cy5jw6o atm_5j_223wjw atm_70_87waog atm_j3_1u6x1zy atm_jb_4shrsx atm_mk_h2mmj6 atm_vy_7abht0 dir dir-ltr']/a)[7]\n",
      "(//div[@class='cy5jw6o atm_5j_223wjw atm_70_87waog atm_j3_1u6x1zy atm_jb_4shrsx atm_mk_h2mmj6 atm_vy_7abht0 dir dir-ltr']/a)[8]\n",
      "(//div[@class='cy5jw6o atm_5j_223wjw atm_70_87waog atm_j3_1u6x1zy atm_jb_4shrsx atm_mk_h2mmj6 atm_vy_7abht0 dir dir-ltr']/a)[9]\n",
      "(//div[@class='cy5jw6o atm_5j_223wjw atm_70_87waog atm_j3_1u6x1zy atm_jb_4shrsx atm_mk_h2mmj6 atm_vy_7abht0 dir dir-ltr']/a)[10]\n",
      "(//div[@class='cy5jw6o atm_5j_223wjw atm_70_87waog atm_j3_1u6x1zy atm_jb_4shrsx atm_mk_h2mmj6 atm_vy_7abht0 dir dir-ltr']/a)[11]\n",
      "(//div[@class='cy5jw6o atm_5j_223wjw atm_70_87waog atm_j3_1u6x1zy atm_jb_4shrsx atm_mk_h2mmj6 atm_vy_7abht0 dir dir-ltr']/a)[12]\n",
      "(//div[@class='cy5jw6o atm_5j_223wjw atm_70_87waog atm_j3_1u6x1zy atm_jb_4shrsx atm_mk_h2mmj6 atm_vy_7abht0 dir dir-ltr']/a)[13]\n",
      "(//div[@class='cy5jw6o atm_5j_223wjw atm_70_87waog atm_j3_1u6x1zy atm_jb_4shrsx atm_mk_h2mmj6 atm_vy_7abht0 dir dir-ltr']/a)[14]\n",
      "(//div[@class='cy5jw6o atm_5j_223wjw atm_70_87waog atm_j3_1u6x1zy atm_jb_4shrsx atm_mk_h2mmj6 atm_vy_7abht0 dir dir-ltr']/a)[15]\n",
      "(//div[@class='cy5jw6o atm_5j_223wjw atm_70_87waog atm_j3_1u6x1zy atm_jb_4shrsx atm_mk_h2mmj6 atm_vy_7abht0 dir dir-ltr']/a)[16]\n",
      "(//div[@class='cy5jw6o atm_5j_223wjw atm_70_87waog atm_j3_1u6x1zy atm_jb_4shrsx atm_mk_h2mmj6 atm_vy_7abht0 dir dir-ltr']/a)[17]\n",
      "(//div[@class='cy5jw6o atm_5j_223wjw atm_70_87waog atm_j3_1u6x1zy atm_jb_4shrsx atm_mk_h2mmj6 atm_vy_7abht0 dir dir-ltr']/a)[18]\n"
     ]
    }
   ],
   "source": [
    "for i in range(1,19):\n",
    "    print(f\"{xpaths_dict['apartment_link_xpath']}[{i}]\")"
   ]
  },
  {
   "cell_type": "code",
   "execution_count": 23,
   "metadata": {},
   "outputs": [
    {
     "name": "stdout",
     "output_type": "stream",
     "text": [
      "36  results in  Bagerhat\n",
      "https://www.airbnb.com/s/Bagerhat/homes?tab_id=home_tab&refinement_paths%5B%5D=%2Fhomes&query=Bagerhat&place_id=ChIJPW5_49f1_zkRr9XR6hwDcLs&flexible_trip_lengths%5B%5D=one_week&monthly_start_date=2024-07-01&monthly_length=3&monthly_end_date=2024-10-01&search_mode=regular_search&price_filter_input_type=0&channel=EXPLORE&federated_search_session_id=f5e05328-5fcb-431a-9fec-582d1df14e44&search_type=unknown&pagination_search=true&cursor=eyJzZWN0aW9uX29mZnNldCI6MCwiaXRlbXNfb2Zmc2V0IjoxOCwidmVyc2lvbiI6MX0%3D\n",
      "https://www.airbnb.com/s/Bagerhat/homes?tab_id=home_tab&refinement_paths%5B%5D=%2Fhomes&query=Bagerhat&place_id=ChIJPW5_49f1_zkRr9XR6hwDcLs&flexible_trip_lengths%5B%5D=one_week&monthly_start_date=2024-07-01&monthly_length=3&monthly_end_date=2024-10-01&search_mode=regular_search&price_filter_input_type=0&channel=EXPLORE&search_type=unknown&price_filter_num_nights=5&federated_search_session_id=f5e05328-5fcb-431a-9fec-582d1df14e44&pagination_search=true&cursor=eyJzZWN0aW9uX29mZnNldCI6MCwiaXRlbXNfb2Zmc2V0IjozNiwidmVyc2lvbiI6MX0%3D\n",
      "No more listings in  Bagerhat\n",
      "30  results in  Bandarban\n",
      "https://www.airbnb.com/s/Bandarban/homes?tab_id=home_tab&refinement_paths%5B%5D=%2Fhomes&query=Bandarban&place_id=ChIJK-YUhBhqrTAR0JC6gY8Zw6Q&flexible_trip_lengths%5B%5D=one_week&monthly_start_date=2024-07-01&monthly_length=3&monthly_end_date=2024-10-01&search_mode=regular_search&price_filter_input_type=0&channel=EXPLORE&federated_search_session_id=553bdeb8-3fe9-4013-b632-af30c8dd83ef&search_type=unknown&pagination_search=true&cursor=eyJzZWN0aW9uX29mZnNldCI6MCwiaXRlbXNfb2Zmc2V0IjoxOCwidmVyc2lvbiI6MX0%3D\n",
      "No more listings in  Bandarban\n",
      "No more listings in  Barguna\n",
      "1  results in  Barguna\n",
      "59  results in  Barisal\n",
      "https://www.airbnb.com/s/Barisal/homes?tab_id=home_tab&refinement_paths%5B%5D=%2Fhomes&query=Barisal&place_id=ChIJh-Ts-wc0VTcR4p__WGnMHFU&flexible_trip_lengths%5B%5D=one_week&monthly_start_date=2024-07-01&monthly_length=3&monthly_end_date=2024-10-01&search_mode=regular_search&price_filter_input_type=0&channel=EXPLORE&federated_search_session_id=869ba83d-ca07-4bb0-ac17-e35fd3062f7d&search_type=unknown&pagination_search=true&cursor=eyJzZWN0aW9uX29mZnNldCI6MCwiaXRlbXNfb2Zmc2V0IjoxOCwidmVyc2lvbiI6MX0%3D\n",
      "https://www.airbnb.com/s/Barisal/homes?tab_id=home_tab&refinement_paths%5B%5D=%2Fhomes&query=Barisal&place_id=ChIJh-Ts-wc0VTcR4p__WGnMHFU&flexible_trip_lengths%5B%5D=one_week&monthly_start_date=2024-07-01&monthly_length=3&monthly_end_date=2024-10-01&search_mode=regular_search&price_filter_input_type=0&channel=EXPLORE&search_type=unknown&price_filter_num_nights=5&federated_search_session_id=869ba83d-ca07-4bb0-ac17-e35fd3062f7d&pagination_search=true&cursor=eyJzZWN0aW9uX29mZnNldCI6MCwiaXRlbXNfb2Zmc2V0IjozNiwidmVyc2lvbiI6MX0%3D\n",
      "https://www.airbnb.com/s/Barisal/homes?tab_id=home_tab&refinement_paths%5B%5D=%2Fhomes&query=Barisal&place_id=ChIJh-Ts-wc0VTcR4p__WGnMHFU&flexible_trip_lengths%5B%5D=one_week&monthly_start_date=2024-07-01&monthly_length=3&monthly_end_date=2024-10-01&search_mode=regular_search&price_filter_input_type=0&channel=EXPLORE&search_type=unknown&price_filter_num_nights=5&federated_search_session_id=869ba83d-ca07-4bb0-ac17-e35fd3062f7d&pagination_search=true&cursor=eyJzZWN0aW9uX29mZnNldCI6MCwiaXRlbXNfb2Zmc2V0Ijo1NCwidmVyc2lvbiI6MX0%3D\n",
      "No more listings in  Barisal\n",
      "No more listings in  Bhola\n",
      "13  results in  Bhola\n",
      "18  results in  Bogra\n",
      "https://www.airbnb.com/s/Bogra/homes?tab_id=home_tab&refinement_paths%5B%5D=%2Fhomes&query=Bogra&place_id=ChIJQfQd6OdU_DkR9HP-Idk-Eyc&flexible_trip_lengths%5B%5D=one_week&monthly_start_date=2024-07-01&monthly_length=3&monthly_end_date=2024-10-01&search_mode=regular_search&price_filter_input_type=0&channel=EXPLORE&federated_search_session_id=6201fdb5-a9bb-4709-90ce-8dd732c536f2&search_type=unknown&pagination_search=true&cursor=eyJzZWN0aW9uX29mZnNldCI6MCwiaXRlbXNfb2Zmc2V0IjoxOCwidmVyc2lvbiI6MX0%3D\n",
      "No more listings in  Bogra\n",
      "No more listings in  Brahmanbaria\n",
      "4  results in  Brahmanbaria\n",
      "No more listings in  Chandpur\n",
      "2  results in  Chandpur\n",
      "64  results in  Chapai Nawabganj\n",
      "no next\n",
      "86  results in  Chattogram\n",
      "https://www.airbnb.com/s/Chattogram/homes?tab_id=home_tab&refinement_paths%5B%5D=%2Fhomes&query=Chattogram&place_id=ChIJ09-VQKbYrDAR2QVpy1vMFVA&flexible_trip_lengths%5B%5D=one_week&monthly_start_date=2024-07-01&monthly_length=3&monthly_end_date=2024-10-01&search_mode=regular_search&price_filter_input_type=0&channel=EXPLORE&federated_search_session_id=0ac42a0b-f427-4f74-bce2-63993d821293&search_type=unknown&pagination_search=true&cursor=eyJzZWN0aW9uX29mZnNldCI6MCwiaXRlbXNfb2Zmc2V0IjoxOCwidmVyc2lvbiI6MX0%3D\n",
      "https://www.airbnb.com/s/Chattogram/homes?tab_id=home_tab&refinement_paths%5B%5D=%2Fhomes&query=Chattogram&place_id=ChIJ09-VQKbYrDAR2QVpy1vMFVA&flexible_trip_lengths%5B%5D=one_week&monthly_start_date=2024-07-01&monthly_length=3&monthly_end_date=2024-10-01&search_mode=regular_search&price_filter_input_type=0&channel=EXPLORE&search_type=unknown&price_filter_num_nights=5&federated_search_session_id=0ac42a0b-f427-4f74-bce2-63993d821293&pagination_search=true&cursor=eyJzZWN0aW9uX29mZnNldCI6MCwiaXRlbXNfb2Zmc2V0IjozNiwidmVyc2lvbiI6MX0%3D\n",
      "https://www.airbnb.com/s/Chattogram/homes?tab_id=home_tab&refinement_paths%5B%5D=%2Fhomes&query=Chattogram&place_id=ChIJ09-VQKbYrDAR2QVpy1vMFVA&flexible_trip_lengths%5B%5D=one_week&monthly_start_date=2024-07-01&monthly_length=3&monthly_end_date=2024-10-01&search_mode=regular_search&price_filter_input_type=0&channel=EXPLORE&search_type=unknown&price_filter_num_nights=5&federated_search_session_id=0ac42a0b-f427-4f74-bce2-63993d821293&pagination_search=true&cursor=eyJzZWN0aW9uX29mZnNldCI6MCwiaXRlbXNfb2Zmc2V0Ijo1NCwidmVyc2lvbiI6MX0%3D\n",
      "https://www.airbnb.com/s/Chattogram/homes?tab_id=home_tab&refinement_paths%5B%5D=%2Fhomes&query=Chattogram&place_id=ChIJ09-VQKbYrDAR2QVpy1vMFVA&flexible_trip_lengths%5B%5D=one_week&monthly_start_date=2024-07-01&monthly_length=3&monthly_end_date=2024-10-01&search_mode=regular_search&price_filter_input_type=0&channel=EXPLORE&search_type=unknown&price_filter_num_nights=5&federated_search_session_id=0ac42a0b-f427-4f74-bce2-63993d821293&pagination_search=true&cursor=eyJzZWN0aW9uX29mZnNldCI6MCwiaXRlbXNfb2Zmc2V0Ijo3MiwidmVyc2lvbiI6MX0%3D\n",
      "No more listings in  Chattogram\n",
      "20  results in  Chuadanga\n",
      "https://www.airbnb.com/s/Chuadanga/homes?tab_id=home_tab&refinement_paths%5B%5D=%2Fhomes&query=Chuadanga&place_id=ChIJSwhWuD0x-TkRsI7gz0wGCH8&flexible_trip_lengths%5B%5D=one_week&monthly_start_date=2024-07-01&monthly_length=3&monthly_end_date=2024-10-01&search_mode=regular_search&price_filter_input_type=0&channel=EXPLORE&federated_search_session_id=9a445f9a-b81b-4e88-94c4-c55ce8da47ab&search_type=unknown&pagination_search=true&cursor=eyJzZWN0aW9uX29mZnNldCI6MCwiaXRlbXNfb2Zmc2V0IjoxOCwidmVyc2lvbiI6MX0%3D\n",
      "No more listings in  Chuadanga\n",
      "197  results in  Cox's Bazar\n",
      "https://www.airbnb.com/s/Cox's-Bazar/homes?tab_id=home_tab&refinement_paths%5B%5D=%2Fhomes&query=Cox%27s%20Bazar&place_id=ChIJJUltcWjIrTAROzrarWDaOs0&flexible_trip_lengths%5B%5D=one_week&monthly_start_date=2024-07-01&monthly_length=3&monthly_end_date=2024-10-01&search_mode=regular_search&price_filter_input_type=0&channel=EXPLORE&federated_search_session_id=54951b16-b403-408f-a5d4-cb7842ed1bf3&search_type=unknown&pagination_search=true&cursor=eyJzZWN0aW9uX29mZnNldCI6MCwiaXRlbXNfb2Zmc2V0IjoxOCwidmVyc2lvbiI6MX0%3D\n",
      "https://www.airbnb.com/s/Cox's-Bazar/homes?tab_id=home_tab&refinement_paths%5B%5D=%2Fhomes&query=Cox%27s%20Bazar&place_id=ChIJJUltcWjIrTAROzrarWDaOs0&flexible_trip_lengths%5B%5D=one_week&monthly_start_date=2024-07-01&monthly_length=3&monthly_end_date=2024-10-01&search_mode=regular_search&price_filter_input_type=0&channel=EXPLORE&search_type=unknown&price_filter_num_nights=5&federated_search_session_id=54951b16-b403-408f-a5d4-cb7842ed1bf3&pagination_search=true&cursor=eyJzZWN0aW9uX29mZnNldCI6MCwiaXRlbXNfb2Zmc2V0IjozNiwidmVyc2lvbiI6MX0%3D\n",
      "https://www.airbnb.com/s/Cox's-Bazar/homes?tab_id=home_tab&refinement_paths%5B%5D=%2Fhomes&query=Cox%27s%20Bazar&place_id=ChIJJUltcWjIrTAROzrarWDaOs0&flexible_trip_lengths%5B%5D=one_week&monthly_start_date=2024-07-01&monthly_length=3&monthly_end_date=2024-10-01&search_mode=regular_search&price_filter_input_type=0&channel=EXPLORE&search_type=unknown&price_filter_num_nights=5&federated_search_session_id=54951b16-b403-408f-a5d4-cb7842ed1bf3&pagination_search=true&cursor=eyJzZWN0aW9uX29mZnNldCI6MCwiaXRlbXNfb2Zmc2V0Ijo1NCwidmVyc2lvbiI6MX0%3D\n",
      "https://www.airbnb.com/s/Cox's-Bazar/homes?tab_id=home_tab&refinement_paths%5B%5D=%2Fhomes&query=Cox%27s%20Bazar&place_id=ChIJJUltcWjIrTAROzrarWDaOs0&flexible_trip_lengths%5B%5D=one_week&monthly_start_date=2024-07-01&monthly_length=3&monthly_end_date=2024-10-01&search_mode=regular_search&price_filter_input_type=0&channel=EXPLORE&search_type=unknown&price_filter_num_nights=5&federated_search_session_id=54951b16-b403-408f-a5d4-cb7842ed1bf3&pagination_search=true&cursor=eyJzZWN0aW9uX29mZnNldCI6MCwiaXRlbXNfb2Zmc2V0Ijo3MiwidmVyc2lvbiI6MX0%3D\n",
      "https://www.airbnb.com/s/Cox's-Bazar/homes?tab_id=home_tab&refinement_paths%5B%5D=%2Fhomes&query=Cox%27s%20Bazar&place_id=ChIJJUltcWjIrTAROzrarWDaOs0&flexible_trip_lengths%5B%5D=one_week&monthly_start_date=2024-07-01&monthly_length=3&monthly_end_date=2024-10-01&search_mode=regular_search&price_filter_input_type=0&channel=EXPLORE&search_type=unknown&price_filter_num_nights=5&federated_search_session_id=54951b16-b403-408f-a5d4-cb7842ed1bf3&pagination_search=true&cursor=eyJzZWN0aW9uX29mZnNldCI6MCwiaXRlbXNfb2Zmc2V0Ijo5MCwidmVyc2lvbiI6MX0%3D\n",
      "https://www.airbnb.com/s/Cox's-Bazar/homes?tab_id=home_tab&refinement_paths%5B%5D=%2Fhomes&query=Cox%27s%20Bazar&place_id=ChIJJUltcWjIrTAROzrarWDaOs0&flexible_trip_lengths%5B%5D=one_week&monthly_start_date=2024-07-01&monthly_length=3&monthly_end_date=2024-10-01&search_mode=regular_search&price_filter_input_type=0&channel=EXPLORE&search_type=unknown&price_filter_num_nights=5&federated_search_session_id=54951b16-b403-408f-a5d4-cb7842ed1bf3&pagination_search=true&cursor=eyJzZWN0aW9uX29mZnNldCI6MCwiaXRlbXNfb2Zmc2V0IjoxMDgsInZlcnNpb24iOjF9\n",
      "https://www.airbnb.com/s/Cox's-Bazar/homes?tab_id=home_tab&refinement_paths%5B%5D=%2Fhomes&query=Cox%27s%20Bazar&place_id=ChIJJUltcWjIrTAROzrarWDaOs0&flexible_trip_lengths%5B%5D=one_week&monthly_start_date=2024-07-01&monthly_length=3&monthly_end_date=2024-10-01&search_mode=regular_search&price_filter_input_type=0&channel=EXPLORE&search_type=unknown&price_filter_num_nights=5&federated_search_session_id=54951b16-b403-408f-a5d4-cb7842ed1bf3&pagination_search=true&cursor=eyJzZWN0aW9uX29mZnNldCI6MCwiaXRlbXNfb2Zmc2V0IjoxMjYsInZlcnNpb24iOjF9\n",
      "https://www.airbnb.com/s/Cox's-Bazar/homes?tab_id=home_tab&refinement_paths%5B%5D=%2Fhomes&query=Cox%27s%20Bazar&place_id=ChIJJUltcWjIrTAROzrarWDaOs0&flexible_trip_lengths%5B%5D=one_week&monthly_start_date=2024-07-01&monthly_length=3&monthly_end_date=2024-10-01&search_mode=regular_search&price_filter_input_type=0&channel=EXPLORE&search_type=unknown&price_filter_num_nights=5&federated_search_session_id=54951b16-b403-408f-a5d4-cb7842ed1bf3&pagination_search=true&cursor=eyJzZWN0aW9uX29mZnNldCI6MCwiaXRlbXNfb2Zmc2V0IjoxNDQsInZlcnNpb24iOjF9\n",
      "https://www.airbnb.com/s/Cox's-Bazar/homes?tab_id=home_tab&refinement_paths%5B%5D=%2Fhomes&query=Cox%27s%20Bazar&place_id=ChIJJUltcWjIrTAROzrarWDaOs0&flexible_trip_lengths%5B%5D=one_week&monthly_start_date=2024-07-01&monthly_length=3&monthly_end_date=2024-10-01&search_mode=regular_search&price_filter_input_type=0&channel=EXPLORE&search_type=unknown&price_filter_num_nights=5&federated_search_session_id=54951b16-b403-408f-a5d4-cb7842ed1bf3&pagination_search=true&cursor=eyJzZWN0aW9uX29mZnNldCI6MCwiaXRlbXNfb2Zmc2V0IjoxNjIsInZlcnNpb24iOjF9\n",
      "https://www.airbnb.com/s/Cox's-Bazar/homes?tab_id=home_tab&refinement_paths%5B%5D=%2Fhomes&query=Cox%27s%20Bazar&place_id=ChIJJUltcWjIrTAROzrarWDaOs0&flexible_trip_lengths%5B%5D=one_week&monthly_start_date=2024-07-01&monthly_length=3&monthly_end_date=2024-10-01&search_mode=regular_search&price_filter_input_type=0&channel=EXPLORE&search_type=unknown&price_filter_num_nights=5&federated_search_session_id=54951b16-b403-408f-a5d4-cb7842ed1bf3&pagination_search=true&cursor=eyJzZWN0aW9uX29mZnNldCI6MCwiaXRlbXNfb2Zmc2V0IjoxODAsInZlcnNpb24iOjF9\n",
      "No more listings in  Cox's Bazar\n",
      "No more listings in  Cumilla\n",
      "17  results in  Cumilla\n",
      "1000  results in  Dhaka\n",
      "no next\n",
      "No more listings in  Dinajpur\n",
      "11  results in  Dinajpur\n",
      "No more listings in  Faridpur\n",
      "10  results in  Faridpur\n",
      "No more listings in  Feni\n",
      "11  results in  Feni\n",
      "25  results in  Gaibandha\n",
      "no next\n",
      "1000  results in  Gazipur\n",
      "no next\n",
      "37  results in  Gopalganj\n",
      "https://www.airbnb.com/s/Gopalganj/homes?tab_id=home_tab&refinement_paths%5B%5D=%2Fhomes&query=Gopalganj&place_id=ChIJV68HO5zC_zkR0bzrfk2xlRs&flexible_trip_lengths%5B%5D=one_week&monthly_start_date=2024-07-01&monthly_length=3&monthly_end_date=2024-10-01&search_mode=regular_search&price_filter_input_type=0&channel=EXPLORE&federated_search_session_id=a2947b38-d09e-42b9-83d5-6024c0ea401f&search_type=unknown&pagination_search=true&cursor=eyJzZWN0aW9uX29mZnNldCI6MCwiaXRlbXNfb2Zmc2V0IjoxOCwidmVyc2lvbiI6MX0%3D\n",
      "https://www.airbnb.com/s/Gopalganj/homes?tab_id=home_tab&refinement_paths%5B%5D=%2Fhomes&query=Gopalganj&place_id=ChIJV68HO5zC_zkR0bzrfk2xlRs&flexible_trip_lengths%5B%5D=one_week&monthly_start_date=2024-07-01&monthly_length=3&monthly_end_date=2024-10-01&search_mode=regular_search&price_filter_input_type=0&channel=EXPLORE&search_type=unknown&price_filter_num_nights=5&federated_search_session_id=a2947b38-d09e-42b9-83d5-6024c0ea401f&pagination_search=true&cursor=eyJzZWN0aW9uX29mZnNldCI6MCwiaXRlbXNfb2Zmc2V0IjozNiwidmVyc2lvbiI6MX0%3D\n",
      "No more listings in  Gopalganj\n",
      "38  results in  Habiganj\n",
      "no next\n",
      "23  results in  Jamalpur\n",
      "https://www.airbnb.com/s/Jamalpur/homes?tab_id=home_tab&refinement_paths%5B%5D=%2Fhomes&query=Jamalpur&place_id=ChIJWat5LUN__TkRLGj21m6aTro&flexible_trip_lengths%5B%5D=one_week&monthly_start_date=2024-07-01&monthly_length=3&monthly_end_date=2024-10-01&search_mode=regular_search&price_filter_input_type=0&channel=EXPLORE&federated_search_session_id=222e4d79-1ede-44e9-9e05-a0ba86f80da4&search_type=unknown&pagination_search=true&cursor=eyJzZWN0aW9uX29mZnNldCI6MCwiaXRlbXNfb2Zmc2V0IjoxOCwidmVyc2lvbiI6MX0%3D\n",
      "No more listings in  Jamalpur\n",
      "31  results in  Jashore\n",
      "https://www.airbnb.com/s/Jashore/homes?tab_id=home_tab&refinement_paths%5B%5D=%2Fhomes&query=Jashore&place_id=ChIJZW3qh40Q_zkRz2Ey-U4DfWI&flexible_trip_lengths%5B%5D=one_week&monthly_start_date=2024-07-01&monthly_length=3&monthly_end_date=2024-10-01&search_mode=regular_search&price_filter_input_type=0&channel=EXPLORE&federated_search_session_id=641361be-5a66-42d0-90f5-d3db0968e3eb&search_type=unknown&pagination_search=true&cursor=eyJzZWN0aW9uX29mZnNldCI6MCwiaXRlbXNfb2Zmc2V0IjoxOCwidmVyc2lvbiI6MX0%3D\n",
      "No more listings in  Jashore\n",
      "No more listings in  Jhalokathi\n",
      "15  results in  Jhalokathi\n",
      "No more listings in  Jhenaidah\n",
      "13  results in  Jhenaidah\n",
      "No more listings in  Joypurhat\n",
      "4  results in  Joypurhat\n",
      "No more listings in  Khagrachari\n",
      "2  results in  Khagrachari\n",
      "30  results in  Khulna\n",
      "https://www.airbnb.com/s/Khulna/homes?tab_id=home_tab&refinement_paths%5B%5D=%2Fhomes&query=Khulna&place_id=ChIJS9aCPBmQ_zkRbT1WZMTljNQ&flexible_trip_lengths%5B%5D=one_week&monthly_start_date=2024-07-01&monthly_length=3&monthly_end_date=2024-10-01&search_mode=regular_search&price_filter_input_type=0&channel=EXPLORE&federated_search_session_id=803cf4f1-50a5-4abd-8c0e-08cbb9577fa0&search_type=unknown&pagination_search=true&cursor=eyJzZWN0aW9uX29mZnNldCI6MCwiaXRlbXNfb2Zmc2V0IjoxOCwidmVyc2lvbiI6MX0%3D\n",
      "No more listings in  Khulna\n",
      "20  results in  Kishoreganj\n",
      "https://www.airbnb.com/s/Kishoreganj/homes?tab_id=home_tab&refinement_paths%5B%5D=%2Fhomes&query=Kishoreganj&place_id=ChIJSRXCZ66RVjcRaRCxHoDDNDQ&flexible_trip_lengths%5B%5D=one_week&monthly_start_date=2024-07-01&monthly_length=3&monthly_end_date=2024-10-01&search_mode=regular_search&price_filter_input_type=0&channel=EXPLORE&federated_search_session_id=5567c51e-58ed-46bc-af6a-c858ac360ff6&search_type=unknown&pagination_search=true&cursor=eyJzZWN0aW9uX29mZnNldCI6MCwiaXRlbXNfb2Zmc2V0IjoxOCwidmVyc2lvbiI6MX0%3D\n",
      "No more listings in  Kishoreganj\n",
      "No more listings in  Kurigram\n",
      "1  results in  Kurigram\n",
      "No more listings in  Kushtia\n",
      "7  results in  Kushtia\n",
      "No more listings in  Lakshmipur\n",
      "21  results in  Lakshmipur\n",
      "no next\n",
      "No more listings in  Lalmonirhat\n",
      "12  results in  Lalmonirhat\n",
      "No more listings in  Madaripur\n",
      "8  results in  Madaripur\n",
      "No more listings in  Magura\n",
      "1000  results in  Magura\n",
      "no next\n",
      "No more listings in  Manikganj\n",
      "638  results in  Manikganj\n",
      "no next\n",
      "No more listings in  Meherpur\n",
      "17  results in  Meherpur\n",
      "No more listings in  Moulvibazar\n",
      "36  results in  Moulvibazar\n",
      "no next\n",
      "No more listings in  Munshiganj\n",
      "1000  results in  Munshiganj\n",
      "no next\n",
      "No more listings in  Mymensingh\n",
      "16  results in  Mymensingh\n",
      "59  results in  Naogaon\n",
      "https://www.airbnb.com/s/Naogaon/homes?tab_id=home_tab&refinement_paths%5B%5D=%2Fhomes&query=Naogaon&place_id=ChIJhe6yPVZ7_DkR-7Q3A5XVzDA&flexible_trip_lengths%5B%5D=one_week&monthly_start_date=2024-07-01&monthly_length=3&monthly_end_date=2024-10-01&search_mode=regular_search&price_filter_input_type=0&channel=EXPLORE&federated_search_session_id=9a82ea7b-2ad5-4cff-960c-7a628f1f8e9e&search_type=unknown&pagination_search=true&cursor=eyJzZWN0aW9uX29mZnNldCI6MCwiaXRlbXNfb2Zmc2V0IjoxOCwidmVyc2lvbiI6MX0%3D\n",
      "https://www.airbnb.com/s/Naogaon/homes?tab_id=home_tab&refinement_paths%5B%5D=%2Fhomes&query=Naogaon&place_id=ChIJhe6yPVZ7_DkR-7Q3A5XVzDA&flexible_trip_lengths%5B%5D=one_week&monthly_start_date=2024-07-01&monthly_length=3&monthly_end_date=2024-10-01&search_mode=regular_search&price_filter_input_type=0&channel=EXPLORE&search_type=unknown&price_filter_num_nights=5&federated_search_session_id=9a82ea7b-2ad5-4cff-960c-7a628f1f8e9e&pagination_search=true&cursor=eyJzZWN0aW9uX29mZnNldCI6MCwiaXRlbXNfb2Zmc2V0IjozNiwidmVyc2lvbiI6MX0%3D\n",
      "https://www.airbnb.com/s/Naogaon/homes?tab_id=home_tab&refinement_paths%5B%5D=%2Fhomes&query=Naogaon&place_id=ChIJhe6yPVZ7_DkR-7Q3A5XVzDA&flexible_trip_lengths%5B%5D=one_week&monthly_start_date=2024-07-01&monthly_length=3&monthly_end_date=2024-10-01&search_mode=regular_search&price_filter_input_type=0&channel=EXPLORE&search_type=unknown&price_filter_num_nights=5&federated_search_session_id=9a82ea7b-2ad5-4cff-960c-7a628f1f8e9e&pagination_search=true&cursor=eyJzZWN0aW9uX29mZnNldCI6MCwiaXRlbXNfb2Zmc2V0Ijo1NCwidmVyc2lvbiI6MX0%3D\n",
      "No more listings in  Naogaon\n",
      "No more listings in  Narail\n",
      "No results of  Narail\n",
      "1000  results in  Narayanganj\n",
      "no next\n",
      "1000  results in  Narsingdi\n",
      "https://www.airbnb.com/s/Narsingdi/homes?tab_id=home_tab&refinement_paths%5B%5D=%2Fhomes&query=Narsingdi&place_id=ChIJIVtM5EwwVDcROCdoaDwqCM4&flexible_trip_lengths%5B%5D=one_week&monthly_start_date=2024-07-01&monthly_length=3&monthly_end_date=2024-10-01&search_mode=regular_search&price_filter_input_type=0&channel=EXPLORE&federated_search_session_id=06e8e242-f833-4d2d-a7c7-9ecc5cdcb6f0&search_type=unknown&pagination_search=true&cursor=eyJzZWN0aW9uX29mZnNldCI6MCwiaXRlbXNfb2Zmc2V0IjoxOCwidmVyc2lvbiI6MX0%3D\n",
      "https://www.airbnb.com/s/Narsingdi/homes?tab_id=home_tab&refinement_paths%5B%5D=%2Fhomes&query=Narsingdi&place_id=ChIJIVtM5EwwVDcROCdoaDwqCM4&flexible_trip_lengths%5B%5D=one_week&monthly_start_date=2024-07-01&monthly_length=3&monthly_end_date=2024-10-01&search_mode=regular_search&price_filter_input_type=0&channel=EXPLORE&search_type=unknown&price_filter_num_nights=5&federated_search_session_id=06e8e242-f833-4d2d-a7c7-9ecc5cdcb6f0&pagination_search=true&cursor=eyJzZWN0aW9uX29mZnNldCI6MCwiaXRlbXNfb2Zmc2V0IjozNiwidmVyc2lvbiI6MX0%3D\n",
      "https://www.airbnb.com/s/Narsingdi/homes?tab_id=home_tab&refinement_paths%5B%5D=%2Fhomes&query=Narsingdi&place_id=ChIJIVtM5EwwVDcROCdoaDwqCM4&flexible_trip_lengths%5B%5D=one_week&monthly_start_date=2024-07-01&monthly_length=3&monthly_end_date=2024-10-01&search_mode=regular_search&price_filter_input_type=0&channel=EXPLORE&search_type=unknown&price_filter_num_nights=5&federated_search_session_id=06e8e242-f833-4d2d-a7c7-9ecc5cdcb6f0&pagination_search=true&cursor=eyJzZWN0aW9uX29mZnNldCI6MCwiaXRlbXNfb2Zmc2V0Ijo1NCwidmVyc2lvbiI6MX0%3D\n",
      "https://www.airbnb.com/s/Narsingdi/homes?tab_id=home_tab&refinement_paths%5B%5D=%2Fhomes&query=Narsingdi&place_id=ChIJIVtM5EwwVDcROCdoaDwqCM4&flexible_trip_lengths%5B%5D=one_week&monthly_start_date=2024-07-01&monthly_length=3&monthly_end_date=2024-10-01&search_mode=regular_search&price_filter_input_type=0&channel=EXPLORE&search_type=unknown&price_filter_num_nights=5&federated_search_session_id=06e8e242-f833-4d2d-a7c7-9ecc5cdcb6f0&pagination_search=true&cursor=eyJzZWN0aW9uX29mZnNldCI6MCwiaXRlbXNfb2Zmc2V0Ijo3MiwidmVyc2lvbiI6MX0%3D\n",
      "https://www.airbnb.com/s/Narsingdi/homes?tab_id=home_tab&refinement_paths%5B%5D=%2Fhomes&query=Narsingdi&place_id=ChIJIVtM5EwwVDcROCdoaDwqCM4&flexible_trip_lengths%5B%5D=one_week&monthly_start_date=2024-07-01&monthly_length=3&monthly_end_date=2024-10-01&search_mode=regular_search&price_filter_input_type=0&channel=EXPLORE&search_type=unknown&price_filter_num_nights=5&federated_search_session_id=06e8e242-f833-4d2d-a7c7-9ecc5cdcb6f0&pagination_search=true&cursor=eyJzZWN0aW9uX29mZnNldCI6MCwiaXRlbXNfb2Zmc2V0Ijo5MCwidmVyc2lvbiI6MX0%3D\n",
      "https://www.airbnb.com/s/Narsingdi/homes?tab_id=home_tab&refinement_paths%5B%5D=%2Fhomes&query=Narsingdi&place_id=ChIJIVtM5EwwVDcROCdoaDwqCM4&flexible_trip_lengths%5B%5D=one_week&monthly_start_date=2024-07-01&monthly_length=3&monthly_end_date=2024-10-01&search_mode=regular_search&price_filter_input_type=0&channel=EXPLORE&search_type=unknown&price_filter_num_nights=5&federated_search_session_id=06e8e242-f833-4d2d-a7c7-9ecc5cdcb6f0&pagination_search=true&cursor=eyJzZWN0aW9uX29mZnNldCI6MCwiaXRlbXNfb2Zmc2V0IjoxMDgsInZlcnNpb24iOjF9\n",
      "https://www.airbnb.com/s/Narsingdi/homes?tab_id=home_tab&refinement_paths%5B%5D=%2Fhomes&query=Narsingdi&place_id=ChIJIVtM5EwwVDcROCdoaDwqCM4&flexible_trip_lengths%5B%5D=one_week&monthly_start_date=2024-07-01&monthly_length=3&monthly_end_date=2024-10-01&search_mode=regular_search&price_filter_input_type=0&channel=EXPLORE&search_type=unknown&price_filter_num_nights=5&federated_search_session_id=06e8e242-f833-4d2d-a7c7-9ecc5cdcb6f0&pagination_search=true&cursor=eyJzZWN0aW9uX29mZnNldCI6MCwiaXRlbXNfb2Zmc2V0IjoxMjYsInZlcnNpb24iOjF9\n",
      "https://www.airbnb.com/s/Narsingdi/homes?tab_id=home_tab&refinement_paths%5B%5D=%2Fhomes&query=Narsingdi&place_id=ChIJIVtM5EwwVDcROCdoaDwqCM4&flexible_trip_lengths%5B%5D=one_week&monthly_start_date=2024-07-01&monthly_length=3&monthly_end_date=2024-10-01&search_mode=regular_search&price_filter_input_type=0&channel=EXPLORE&search_type=unknown&price_filter_num_nights=5&federated_search_session_id=06e8e242-f833-4d2d-a7c7-9ecc5cdcb6f0&pagination_search=true&cursor=eyJzZWN0aW9uX29mZnNldCI6MCwiaXRlbXNfb2Zmc2V0IjoxNDQsInZlcnNpb24iOjF9\n",
      "https://www.airbnb.com/s/Narsingdi/homes?tab_id=home_tab&refinement_paths%5B%5D=%2Fhomes&query=Narsingdi&place_id=ChIJIVtM5EwwVDcROCdoaDwqCM4&flexible_trip_lengths%5B%5D=one_week&monthly_start_date=2024-07-01&monthly_length=3&monthly_end_date=2024-10-01&search_mode=regular_search&price_filter_input_type=0&channel=EXPLORE&search_type=unknown&price_filter_num_nights=5&federated_search_session_id=06e8e242-f833-4d2d-a7c7-9ecc5cdcb6f0&pagination_search=true&cursor=eyJzZWN0aW9uX29mZnNldCI6MCwiaXRlbXNfb2Zmc2V0IjoxNjIsInZlcnNpb24iOjF9\n",
      "https://www.airbnb.com/s/Narsingdi/homes?tab_id=home_tab&refinement_paths%5B%5D=%2Fhomes&query=Narsingdi&place_id=ChIJIVtM5EwwVDcROCdoaDwqCM4&flexible_trip_lengths%5B%5D=one_week&monthly_start_date=2024-07-01&monthly_length=3&monthly_end_date=2024-10-01&search_mode=regular_search&price_filter_input_type=0&channel=EXPLORE&search_type=unknown&price_filter_num_nights=5&federated_search_session_id=06e8e242-f833-4d2d-a7c7-9ecc5cdcb6f0&pagination_search=true&cursor=eyJzZWN0aW9uX29mZnNldCI6MCwiaXRlbXNfb2Zmc2V0IjoxODAsInZlcnNpb24iOjF9\n",
      "https://www.airbnb.com/s/Narsingdi/homes?tab_id=home_tab&refinement_paths%5B%5D=%2Fhomes&query=Narsingdi&place_id=ChIJIVtM5EwwVDcROCdoaDwqCM4&flexible_trip_lengths%5B%5D=one_week&monthly_start_date=2024-07-01&monthly_length=3&monthly_end_date=2024-10-01&search_mode=regular_search&price_filter_input_type=0&channel=EXPLORE&search_type=unknown&price_filter_num_nights=5&federated_search_session_id=06e8e242-f833-4d2d-a7c7-9ecc5cdcb6f0&pagination_search=true&cursor=eyJzZWN0aW9uX29mZnNldCI6MCwiaXRlbXNfb2Zmc2V0IjoxOTgsInZlcnNpb24iOjF9\n",
      "https://www.airbnb.com/s/Narsingdi/homes?tab_id=home_tab&refinement_paths%5B%5D=%2Fhomes&query=Narsingdi&place_id=ChIJIVtM5EwwVDcROCdoaDwqCM4&flexible_trip_lengths%5B%5D=one_week&monthly_start_date=2024-07-01&monthly_length=3&monthly_end_date=2024-10-01&search_mode=regular_search&price_filter_input_type=0&channel=EXPLORE&search_type=unknown&price_filter_num_nights=5&federated_search_session_id=06e8e242-f833-4d2d-a7c7-9ecc5cdcb6f0&pagination_search=true&cursor=eyJzZWN0aW9uX29mZnNldCI6MCwiaXRlbXNfb2Zmc2V0IjoyMTYsInZlcnNpb24iOjF9\n",
      "https://www.airbnb.com/s/Narsingdi/homes?tab_id=home_tab&refinement_paths%5B%5D=%2Fhomes&query=Narsingdi&place_id=ChIJIVtM5EwwVDcROCdoaDwqCM4&flexible_trip_lengths%5B%5D=one_week&monthly_start_date=2024-07-01&monthly_length=3&monthly_end_date=2024-10-01&search_mode=regular_search&price_filter_input_type=0&channel=EXPLORE&search_type=unknown&price_filter_num_nights=5&federated_search_session_id=06e8e242-f833-4d2d-a7c7-9ecc5cdcb6f0&pagination_search=true&cursor=eyJzZWN0aW9uX29mZnNldCI6MCwiaXRlbXNfb2Zmc2V0IjoyMzQsInZlcnNpb24iOjF9\n",
      "https://www.airbnb.com/s/Narsingdi/homes?tab_id=home_tab&refinement_paths%5B%5D=%2Fhomes&query=Narsingdi&place_id=ChIJIVtM5EwwVDcROCdoaDwqCM4&flexible_trip_lengths%5B%5D=one_week&monthly_start_date=2024-07-01&monthly_length=3&monthly_end_date=2024-10-01&search_mode=regular_search&price_filter_input_type=0&channel=EXPLORE&search_type=unknown&price_filter_num_nights=5&federated_search_session_id=06e8e242-f833-4d2d-a7c7-9ecc5cdcb6f0&pagination_search=true&cursor=eyJzZWN0aW9uX29mZnNldCI6MCwiaXRlbXNfb2Zmc2V0IjoyNTIsInZlcnNpb24iOjF9\n",
      "None\n",
      "No more listings in  Natore\n",
      "56  results in  Natore\n",
      "no next\n",
      "No more listings in  Netrokona\n",
      "21  results in  Netrokona\n",
      "no next\n",
      "No more listings in  Nilphamari\n",
      "11  results in  Nilphamari\n",
      "No more listings in  Noakhali\n",
      "16  results in  Noakhali\n",
      "No more listings in  Pabna\n",
      "10  results in  Pabna\n",
      "173  results in  Panchagarh\n",
      "https://www.airbnb.com/s/Panchagarh/homes?tab_id=home_tab&refinement_paths%5B%5D=%2Fhomes&query=Panchagarh&place_id=ChIJ15yg-eKL5DkRb57QA0NjUg0&flexible_trip_lengths%5B%5D=one_week&monthly_start_date=2024-07-01&monthly_length=3&monthly_end_date=2024-10-01&search_mode=regular_search&price_filter_input_type=0&channel=EXPLORE&federated_search_session_id=3c77eb85-1e7f-43eb-9cd3-3664886894fe&search_type=unknown&pagination_search=true&cursor=eyJzZWN0aW9uX29mZnNldCI6MCwiaXRlbXNfb2Zmc2V0IjoxOCwidmVyc2lvbiI6MX0%3D\n",
      "https://www.airbnb.com/s/Panchagarh/homes?tab_id=home_tab&refinement_paths%5B%5D=%2Fhomes&query=Panchagarh&place_id=ChIJ15yg-eKL5DkRb57QA0NjUg0&flexible_trip_lengths%5B%5D=one_week&monthly_start_date=2024-07-01&monthly_length=3&monthly_end_date=2024-10-01&search_mode=regular_search&price_filter_input_type=0&channel=EXPLORE&search_type=unknown&price_filter_num_nights=5&federated_search_session_id=3c77eb85-1e7f-43eb-9cd3-3664886894fe&pagination_search=true&cursor=eyJzZWN0aW9uX29mZnNldCI6MCwiaXRlbXNfb2Zmc2V0IjozNiwidmVyc2lvbiI6MX0%3D\n",
      "https://www.airbnb.com/s/Panchagarh/homes?tab_id=home_tab&refinement_paths%5B%5D=%2Fhomes&query=Panchagarh&place_id=ChIJ15yg-eKL5DkRb57QA0NjUg0&flexible_trip_lengths%5B%5D=one_week&monthly_start_date=2024-07-01&monthly_length=3&monthly_end_date=2024-10-01&search_mode=regular_search&price_filter_input_type=0&channel=EXPLORE&search_type=unknown&price_filter_num_nights=5&federated_search_session_id=3c77eb85-1e7f-43eb-9cd3-3664886894fe&pagination_search=true&cursor=eyJzZWN0aW9uX29mZnNldCI6MCwiaXRlbXNfb2Zmc2V0Ijo1NCwidmVyc2lvbiI6MX0%3D\n",
      "https://www.airbnb.com/s/Panchagarh/homes?tab_id=home_tab&refinement_paths%5B%5D=%2Fhomes&query=Panchagarh&place_id=ChIJ15yg-eKL5DkRb57QA0NjUg0&flexible_trip_lengths%5B%5D=one_week&monthly_start_date=2024-07-01&monthly_length=3&monthly_end_date=2024-10-01&search_mode=regular_search&price_filter_input_type=0&channel=EXPLORE&search_type=unknown&price_filter_num_nights=5&federated_search_session_id=3c77eb85-1e7f-43eb-9cd3-3664886894fe&pagination_search=true&cursor=eyJzZWN0aW9uX29mZnNldCI6MCwiaXRlbXNfb2Zmc2V0Ijo3MiwidmVyc2lvbiI6MX0%3D\n",
      "https://www.airbnb.com/s/Panchagarh/homes?tab_id=home_tab&refinement_paths%5B%5D=%2Fhomes&query=Panchagarh&place_id=ChIJ15yg-eKL5DkRb57QA0NjUg0&flexible_trip_lengths%5B%5D=one_week&monthly_start_date=2024-07-01&monthly_length=3&monthly_end_date=2024-10-01&search_mode=regular_search&price_filter_input_type=0&channel=EXPLORE&search_type=unknown&price_filter_num_nights=5&federated_search_session_id=3c77eb85-1e7f-43eb-9cd3-3664886894fe&pagination_search=true&cursor=eyJzZWN0aW9uX29mZnNldCI6MCwiaXRlbXNfb2Zmc2V0Ijo5MCwidmVyc2lvbiI6MX0%3D\n",
      "https://www.airbnb.com/s/Panchagarh/homes?tab_id=home_tab&refinement_paths%5B%5D=%2Fhomes&query=Panchagarh&place_id=ChIJ15yg-eKL5DkRb57QA0NjUg0&flexible_trip_lengths%5B%5D=one_week&monthly_start_date=2024-07-01&monthly_length=3&monthly_end_date=2024-10-01&search_mode=regular_search&price_filter_input_type=0&channel=EXPLORE&search_type=unknown&price_filter_num_nights=5&federated_search_session_id=3c77eb85-1e7f-43eb-9cd3-3664886894fe&pagination_search=true&cursor=eyJzZWN0aW9uX29mZnNldCI6MCwiaXRlbXNfb2Zmc2V0IjoxMDgsInZlcnNpb24iOjF9\n",
      "https://www.airbnb.com/s/Panchagarh/homes?tab_id=home_tab&refinement_paths%5B%5D=%2Fhomes&query=Panchagarh&place_id=ChIJ15yg-eKL5DkRb57QA0NjUg0&flexible_trip_lengths%5B%5D=one_week&monthly_start_date=2024-07-01&monthly_length=3&monthly_end_date=2024-10-01&search_mode=regular_search&price_filter_input_type=0&channel=EXPLORE&search_type=unknown&price_filter_num_nights=5&federated_search_session_id=3c77eb85-1e7f-43eb-9cd3-3664886894fe&pagination_search=true&cursor=eyJzZWN0aW9uX29mZnNldCI6MCwiaXRlbXNfb2Zmc2V0IjoxMjYsInZlcnNpb24iOjF9\n",
      "https://www.airbnb.com/s/Panchagarh/homes?tab_id=home_tab&refinement_paths%5B%5D=%2Fhomes&query=Panchagarh&place_id=ChIJ15yg-eKL5DkRb57QA0NjUg0&flexible_trip_lengths%5B%5D=one_week&monthly_start_date=2024-07-01&monthly_length=3&monthly_end_date=2024-10-01&search_mode=regular_search&price_filter_input_type=0&channel=EXPLORE&search_type=unknown&price_filter_num_nights=5&federated_search_session_id=3c77eb85-1e7f-43eb-9cd3-3664886894fe&pagination_search=true&cursor=eyJzZWN0aW9uX29mZnNldCI6MCwiaXRlbXNfb2Zmc2V0IjoxNDQsInZlcnNpb24iOjF9\n",
      "https://www.airbnb.com/s/Panchagarh/homes?tab_id=home_tab&refinement_paths%5B%5D=%2Fhomes&query=Panchagarh&place_id=ChIJ15yg-eKL5DkRb57QA0NjUg0&flexible_trip_lengths%5B%5D=one_week&monthly_start_date=2024-07-01&monthly_length=3&monthly_end_date=2024-10-01&search_mode=regular_search&price_filter_input_type=0&channel=EXPLORE&search_type=unknown&price_filter_num_nights=5&federated_search_session_id=3c77eb85-1e7f-43eb-9cd3-3664886894fe&pagination_search=true&cursor=eyJzZWN0aW9uX29mZnNldCI6MCwiaXRlbXNfb2Zmc2V0IjoxNjIsInZlcnNpb24iOjF9\n",
      "No more listings in  Panchagarh\n",
      "60  results in  Patuakhali\n",
      "https://www.airbnb.com/s/Patuakhali/homes?tab_id=home_tab&refinement_paths%5B%5D=%2Fhomes&query=Patuakhali&place_id=ChIJoYG7akC5qjARfckRaO155OE&flexible_trip_lengths%5B%5D=one_week&monthly_start_date=2024-07-01&monthly_length=3&monthly_end_date=2024-10-01&search_mode=regular_search&price_filter_input_type=0&channel=EXPLORE&federated_search_session_id=26e2c936-8275-4485-9a04-8fe45ea9b9d8&search_type=unknown&pagination_search=true&cursor=eyJzZWN0aW9uX29mZnNldCI6MCwiaXRlbXNfb2Zmc2V0IjoxOCwidmVyc2lvbiI6MX0%3D\n",
      "https://www.airbnb.com/s/Patuakhali/homes?tab_id=home_tab&refinement_paths%5B%5D=%2Fhomes&query=Patuakhali&place_id=ChIJoYG7akC5qjARfckRaO155OE&flexible_trip_lengths%5B%5D=one_week&monthly_start_date=2024-07-01&monthly_length=3&monthly_end_date=2024-10-01&search_mode=regular_search&price_filter_input_type=0&channel=EXPLORE&search_type=unknown&price_filter_num_nights=5&federated_search_session_id=26e2c936-8275-4485-9a04-8fe45ea9b9d8&pagination_search=true&cursor=eyJzZWN0aW9uX29mZnNldCI6MCwiaXRlbXNfb2Zmc2V0IjozNiwidmVyc2lvbiI6MX0%3D\n",
      "https://www.airbnb.com/s/Patuakhali/homes?tab_id=home_tab&refinement_paths%5B%5D=%2Fhomes&query=Patuakhali&place_id=ChIJoYG7akC5qjARfckRaO155OE&flexible_trip_lengths%5B%5D=one_week&monthly_start_date=2024-07-01&monthly_length=3&monthly_end_date=2024-10-01&search_mode=regular_search&price_filter_input_type=0&channel=EXPLORE&search_type=unknown&price_filter_num_nights=5&federated_search_session_id=26e2c936-8275-4485-9a04-8fe45ea9b9d8&pagination_search=true&cursor=eyJzZWN0aW9uX29mZnNldCI6MCwiaXRlbXNfb2Zmc2V0Ijo1NCwidmVyc2lvbiI6MX0%3D\n",
      "No more listings in  Patuakhali\n",
      "No more listings in  Pirojpur\n",
      "6  results in  Pirojpur\n",
      "24  results in  Rajbari\n",
      "https://www.airbnb.com/s/Rajbari/homes?tab_id=home_tab&refinement_paths%5B%5D=%2Fhomes&query=Rajbari&place_id=ChIJtQs6X9pB_jkRUqNwnIYAd04&flexible_trip_lengths%5B%5D=one_week&monthly_start_date=2024-07-01&monthly_length=3&monthly_end_date=2024-10-01&search_mode=regular_search&price_filter_input_type=0&channel=EXPLORE&federated_search_session_id=26f7406e-c150-414a-8c4f-0ec048aee4c8&search_type=unknown&pagination_search=true&cursor=eyJzZWN0aW9uX29mZnNldCI6MCwiaXRlbXNfb2Zmc2V0IjoxOCwidmVyc2lvbiI6MX0%3D\n",
      "No more listings in  Rajbari\n",
      "55  results in  Rajshahi\n",
      "https://www.airbnb.com/s/Rajshahi/homes?tab_id=home_tab&refinement_paths%5B%5D=%2Fhomes&query=Rajshahi&place_id=ChIJMdA4aqnv-zkREPTWDpU6-RA&flexible_trip_lengths%5B%5D=one_week&monthly_start_date=2024-07-01&monthly_length=3&monthly_end_date=2024-10-01&search_mode=regular_search&price_filter_input_type=0&channel=EXPLORE&federated_search_session_id=936f083d-b9b8-4128-ac78-3253560f7818&search_type=unknown&pagination_search=true&cursor=eyJzZWN0aW9uX29mZnNldCI6MCwiaXRlbXNfb2Zmc2V0IjoxOCwidmVyc2lvbiI6MX0%3D\n",
      "https://www.airbnb.com/s/Rajshahi/homes?tab_id=home_tab&refinement_paths%5B%5D=%2Fhomes&query=Rajshahi&place_id=ChIJMdA4aqnv-zkREPTWDpU6-RA&flexible_trip_lengths%5B%5D=one_week&monthly_start_date=2024-07-01&monthly_length=3&monthly_end_date=2024-10-01&search_mode=regular_search&price_filter_input_type=0&channel=EXPLORE&search_type=unknown&price_filter_num_nights=5&federated_search_session_id=936f083d-b9b8-4128-ac78-3253560f7818&pagination_search=true&cursor=eyJzZWN0aW9uX29mZnNldCI6MCwiaXRlbXNfb2Zmc2V0IjozNiwidmVyc2lvbiI6MX0%3D\n",
      "https://www.airbnb.com/s/Rajshahi/homes?tab_id=home_tab&refinement_paths%5B%5D=%2Fhomes&query=Rajshahi&place_id=ChIJMdA4aqnv-zkREPTWDpU6-RA&flexible_trip_lengths%5B%5D=one_week&monthly_start_date=2024-07-01&monthly_length=3&monthly_end_date=2024-10-01&search_mode=regular_search&price_filter_input_type=0&channel=EXPLORE&search_type=unknown&price_filter_num_nights=5&federated_search_session_id=936f083d-b9b8-4128-ac78-3253560f7818&pagination_search=true&cursor=eyJzZWN0aW9uX29mZnNldCI6MCwiaXRlbXNfb2Zmc2V0Ijo1NCwidmVyc2lvbiI6MX0%3D\n",
      "No more listings in  Rajshahi\n",
      "87  results in  Rangamati\n",
      "no next\n",
      "No more listings in  Rangpur\n",
      "No results of  Rangpur\n",
      "34  results in  Satkhira\n",
      "no next\n",
      "No more listings in  Shariatpur\n",
      "8  results in  Shariatpur\n",
      "26  results in  Sherpur\n",
      "https://www.airbnb.com/s/Sherpur/homes?tab_id=home_tab&refinement_paths%5B%5D=%2Fhomes&query=Sherpur&place_id=ChIJ5ZvNUnXWVzcR8QJ-kHMeWl8&flexible_trip_lengths%5B%5D=one_week&monthly_start_date=2024-07-01&monthly_length=3&monthly_end_date=2024-10-01&search_mode=regular_search&price_filter_input_type=0&channel=EXPLORE&federated_search_session_id=474ad501-4f0f-4199-b2db-5666dd276b0e&search_type=unknown&pagination_search=true&cursor=eyJzZWN0aW9uX29mZnNldCI6MCwiaXRlbXNfb2Zmc2V0IjoxOCwidmVyc2lvbiI6MX0%3D\n",
      "No more listings in  Sherpur\n",
      "1000  results in  Sirajganj\n",
      "https://www.airbnb.com/s/Sirajganj/homes?tab_id=home_tab&refinement_paths%5B%5D=%2Fhomes&query=Sirajganj&place_id=ChIJG7oNg9_B_TkRYovnkrDL8Fg&flexible_trip_lengths%5B%5D=one_week&monthly_start_date=2024-07-01&monthly_length=3&monthly_end_date=2024-10-01&search_mode=regular_search&price_filter_input_type=0&channel=EXPLORE&federated_search_session_id=18d01672-bd18-41c9-86af-3fa3db3a0d1f&search_type=unknown&pagination_search=true&cursor=eyJzZWN0aW9uX29mZnNldCI6MCwiaXRlbXNfb2Zmc2V0IjoxOCwidmVyc2lvbiI6MX0%3D\n",
      "https://www.airbnb.com/s/Sirajganj/homes?tab_id=home_tab&refinement_paths%5B%5D=%2Fhomes&query=Sirajganj&place_id=ChIJG7oNg9_B_TkRYovnkrDL8Fg&flexible_trip_lengths%5B%5D=one_week&monthly_start_date=2024-07-01&monthly_length=3&monthly_end_date=2024-10-01&search_mode=regular_search&price_filter_input_type=0&channel=EXPLORE&search_type=unknown&price_filter_num_nights=5&federated_search_session_id=18d01672-bd18-41c9-86af-3fa3db3a0d1f&pagination_search=true&cursor=eyJzZWN0aW9uX29mZnNldCI6MCwiaXRlbXNfb2Zmc2V0IjozNiwidmVyc2lvbiI6MX0%3D\n",
      "https://www.airbnb.com/s/Sirajganj/homes?tab_id=home_tab&refinement_paths%5B%5D=%2Fhomes&query=Sirajganj&place_id=ChIJG7oNg9_B_TkRYovnkrDL8Fg&flexible_trip_lengths%5B%5D=one_week&monthly_start_date=2024-07-01&monthly_length=3&monthly_end_date=2024-10-01&search_mode=regular_search&price_filter_input_type=0&channel=EXPLORE&search_type=unknown&price_filter_num_nights=5&federated_search_session_id=18d01672-bd18-41c9-86af-3fa3db3a0d1f&pagination_search=true&cursor=eyJzZWN0aW9uX29mZnNldCI6MCwiaXRlbXNfb2Zmc2V0Ijo1NCwidmVyc2lvbiI6MX0%3D\n",
      "https://www.airbnb.com/s/Sirajganj/homes?tab_id=home_tab&refinement_paths%5B%5D=%2Fhomes&query=Sirajganj&place_id=ChIJG7oNg9_B_TkRYovnkrDL8Fg&flexible_trip_lengths%5B%5D=one_week&monthly_start_date=2024-07-01&monthly_length=3&monthly_end_date=2024-10-01&search_mode=regular_search&price_filter_input_type=0&channel=EXPLORE&search_type=unknown&price_filter_num_nights=5&federated_search_session_id=18d01672-bd18-41c9-86af-3fa3db3a0d1f&pagination_search=true&cursor=eyJzZWN0aW9uX29mZnNldCI6MCwiaXRlbXNfb2Zmc2V0Ijo3MiwidmVyc2lvbiI6MX0%3D\n",
      "https://www.airbnb.com/s/Sirajganj/homes?tab_id=home_tab&refinement_paths%5B%5D=%2Fhomes&query=Sirajganj&place_id=ChIJG7oNg9_B_TkRYovnkrDL8Fg&flexible_trip_lengths%5B%5D=one_week&monthly_start_date=2024-07-01&monthly_length=3&monthly_end_date=2024-10-01&search_mode=regular_search&price_filter_input_type=0&channel=EXPLORE&search_type=unknown&price_filter_num_nights=5&federated_search_session_id=18d01672-bd18-41c9-86af-3fa3db3a0d1f&pagination_search=true&cursor=eyJzZWN0aW9uX29mZnNldCI6MCwiaXRlbXNfb2Zmc2V0Ijo5MCwidmVyc2lvbiI6MX0%3D\n",
      "https://www.airbnb.com/s/Sirajganj/homes?tab_id=home_tab&refinement_paths%5B%5D=%2Fhomes&query=Sirajganj&place_id=ChIJG7oNg9_B_TkRYovnkrDL8Fg&flexible_trip_lengths%5B%5D=one_week&monthly_start_date=2024-07-01&monthly_length=3&monthly_end_date=2024-10-01&search_mode=regular_search&price_filter_input_type=0&channel=EXPLORE&search_type=unknown&price_filter_num_nights=5&federated_search_session_id=18d01672-bd18-41c9-86af-3fa3db3a0d1f&pagination_search=true&cursor=eyJzZWN0aW9uX29mZnNldCI6MCwiaXRlbXNfb2Zmc2V0IjoxMDgsInZlcnNpb24iOjF9\n",
      "https://www.airbnb.com/s/Sirajganj/homes?tab_id=home_tab&refinement_paths%5B%5D=%2Fhomes&query=Sirajganj&place_id=ChIJG7oNg9_B_TkRYovnkrDL8Fg&flexible_trip_lengths%5B%5D=one_week&monthly_start_date=2024-07-01&monthly_length=3&monthly_end_date=2024-10-01&search_mode=regular_search&price_filter_input_type=0&channel=EXPLORE&search_type=unknown&price_filter_num_nights=5&federated_search_session_id=18d01672-bd18-41c9-86af-3fa3db3a0d1f&pagination_search=true&cursor=eyJzZWN0aW9uX29mZnNldCI6MCwiaXRlbXNfb2Zmc2V0IjoxMjYsInZlcnNpb24iOjF9\n",
      "https://www.airbnb.com/s/Sirajganj/homes?tab_id=home_tab&refinement_paths%5B%5D=%2Fhomes&query=Sirajganj&place_id=ChIJG7oNg9_B_TkRYovnkrDL8Fg&flexible_trip_lengths%5B%5D=one_week&monthly_start_date=2024-07-01&monthly_length=3&monthly_end_date=2024-10-01&search_mode=regular_search&price_filter_input_type=0&channel=EXPLORE&search_type=unknown&price_filter_num_nights=5&federated_search_session_id=18d01672-bd18-41c9-86af-3fa3db3a0d1f&pagination_search=true&cursor=eyJzZWN0aW9uX29mZnNldCI6MCwiaXRlbXNfb2Zmc2V0IjoxNDQsInZlcnNpb24iOjF9\n",
      "https://www.airbnb.com/s/Sirajganj/homes?tab_id=home_tab&refinement_paths%5B%5D=%2Fhomes&query=Sirajganj&place_id=ChIJG7oNg9_B_TkRYovnkrDL8Fg&flexible_trip_lengths%5B%5D=one_week&monthly_start_date=2024-07-01&monthly_length=3&monthly_end_date=2024-10-01&search_mode=regular_search&price_filter_input_type=0&channel=EXPLORE&search_type=unknown&price_filter_num_nights=5&federated_search_session_id=18d01672-bd18-41c9-86af-3fa3db3a0d1f&pagination_search=true&cursor=eyJzZWN0aW9uX29mZnNldCI6MCwiaXRlbXNfb2Zmc2V0IjoxNjIsInZlcnNpb24iOjF9\n",
      "https://www.airbnb.com/s/Sirajganj/homes?tab_id=home_tab&refinement_paths%5B%5D=%2Fhomes&query=Sirajganj&place_id=ChIJG7oNg9_B_TkRYovnkrDL8Fg&flexible_trip_lengths%5B%5D=one_week&monthly_start_date=2024-07-01&monthly_length=3&monthly_end_date=2024-10-01&search_mode=regular_search&price_filter_input_type=0&channel=EXPLORE&search_type=unknown&price_filter_num_nights=5&federated_search_session_id=18d01672-bd18-41c9-86af-3fa3db3a0d1f&pagination_search=true&cursor=eyJzZWN0aW9uX29mZnNldCI6MCwiaXRlbXNfb2Zmc2V0IjoxODAsInZlcnNpb24iOjF9\n",
      "https://www.airbnb.com/s/Sirajganj/homes?tab_id=home_tab&refinement_paths%5B%5D=%2Fhomes&query=Sirajganj&place_id=ChIJG7oNg9_B_TkRYovnkrDL8Fg&flexible_trip_lengths%5B%5D=one_week&monthly_start_date=2024-07-01&monthly_length=3&monthly_end_date=2024-10-01&search_mode=regular_search&price_filter_input_type=0&channel=EXPLORE&search_type=unknown&price_filter_num_nights=5&federated_search_session_id=18d01672-bd18-41c9-86af-3fa3db3a0d1f&pagination_search=true&cursor=eyJzZWN0aW9uX29mZnNldCI6MCwiaXRlbXNfb2Zmc2V0IjoxOTgsInZlcnNpb24iOjF9\n",
      "https://www.airbnb.com/s/Sirajganj/homes?tab_id=home_tab&refinement_paths%5B%5D=%2Fhomes&query=Sirajganj&place_id=ChIJG7oNg9_B_TkRYovnkrDL8Fg&flexible_trip_lengths%5B%5D=one_week&monthly_start_date=2024-07-01&monthly_length=3&monthly_end_date=2024-10-01&search_mode=regular_search&price_filter_input_type=0&channel=EXPLORE&search_type=unknown&price_filter_num_nights=5&federated_search_session_id=18d01672-bd18-41c9-86af-3fa3db3a0d1f&pagination_search=true&cursor=eyJzZWN0aW9uX29mZnNldCI6MCwiaXRlbXNfb2Zmc2V0IjoyMTYsInZlcnNpb24iOjF9\n",
      "No more listings in  Sirajganj\n",
      "https://www.airbnb.com/s/Sirajganj/homes?tab_id=home_tab&refinement_paths%5B%5D=%2Fhomes&query=Sirajganj&place_id=ChIJG7oNg9_B_TkRYovnkrDL8Fg&flexible_trip_lengths%5B%5D=one_week&monthly_start_date=2024-07-01&monthly_length=3&monthly_end_date=2024-10-01&search_mode=regular_search&price_filter_input_type=0&channel=EXPLORE&search_type=unknown&price_filter_num_nights=5&federated_search_session_id=18d01672-bd18-41c9-86af-3fa3db3a0d1f&pagination_search=true&cursor=eyJzZWN0aW9uX29mZnNldCI6MCwiaXRlbXNfb2Zmc2V0IjoyMzQsInZlcnNpb24iOjF9\n",
      "No more listings in  Sirajganj\n",
      "https://www.airbnb.com/s/Sirajganj/homes?tab_id=home_tab&refinement_paths%5B%5D=%2Fhomes&query=Sirajganj&place_id=ChIJG7oNg9_B_TkRYovnkrDL8Fg&flexible_trip_lengths%5B%5D=one_week&monthly_start_date=2024-07-01&monthly_length=3&monthly_end_date=2024-10-01&search_mode=regular_search&price_filter_input_type=0&channel=EXPLORE&search_type=unknown&price_filter_num_nights=5&federated_search_session_id=18d01672-bd18-41c9-86af-3fa3db3a0d1f&pagination_search=true&cursor=eyJzZWN0aW9uX29mZnNldCI6MCwiaXRlbXNfb2Zmc2V0IjoyNTIsInZlcnNpb24iOjF9\n",
      "None\n",
      "No more listings in  Sunamganj\n",
      "No results of  Sunamganj\n",
      "No more listings in  Sylhet\n",
      "141  results in  Sylhet\n",
      "no next\n",
      "No more listings in  Tangail\n",
      "No results of  Tangail\n",
      "No more listings in  Thakurgaon\n",
      "7  results in  Thakurgaon\n"
     ]
    }
   ],
   "source": [
    "driver = webdriver.Chrome()\n",
    "driver.maximize_window()\n",
    "total_dict = []\n",
    "\n",
    "for location in districts_of_bangladesh:\n",
    "    \n",
    "    main_link = f\"https://www.airbnb.com/s/{location}/homes\"\n",
    "    driver.get(main_link)\n",
    "    time.sleep(2)\n",
    "   \n",
    "  \n",
    "    for i in range(1,19):\n",
    "      dict_ = {\n",
    "        \"location\":location,\n",
    "        \"listing_link\": None,\n",
    "\n",
    "         }\n",
    "      try:\n",
    "        listing_link = driver.find_element('xpath',f\"{xpaths_dict['apartment_link_xpath']}[{i}]\")\n",
    "        dict_['listing_link'] = listing_link.get_attribute('href')\n",
    "        total_dict.append(dict_)\n",
    "       \n",
    "      except:\n",
    "          print(\"No more listings in \", location)\n",
    "          break\n",
    "    \n",
    "    try:\n",
    "        result_count_string = driver.find_element('xpath',xpaths_dict['result_count_xpath']).text\n",
    "        result_count = result_count_maker(result_count_string)\n",
    "        print(result_count ,\" results in \", location)\n",
    "    except:\n",
    "        print(\"No results of \",location)\n",
    "        continue\n",
    "    \n",
    "    page_count = result_count // 18\n",
    "    \n",
    "    if(page_count >= 15):\n",
    "        page_count = 15\n",
    "\n",
    "    while(page_count > 0):\n",
    "\n",
    "       \n",
    "        try:\n",
    "\n",
    "            next_page_link = driver.find_element('xpath',xpaths_dict['next_page_xpath'])\n",
    "            print(next_page_link.get_attribute('href'))\n",
    "            \n",
    "            next_page_link.click()\n",
    "            time.sleep(2)\n",
    "            \n",
    "            for i in range(1,19):\n",
    "      \n",
    "                dict_ = {\n",
    "                    \"location\":location,\n",
    "                    \"listing_link\": None,\n",
    "\n",
    "                }\n",
    "                \n",
    "                try:\n",
    "                    listing_link = driver.find_element('xpath',f\"{xpaths_dict['apartment_link_xpath']}[{i}]\")\n",
    "                    dict_['listing_link'] = listing_link.get_attribute('href')\n",
    "                    total_dict.append(dict_)\n",
    "       \n",
    "                except:\n",
    "                    print(\"No more listings in \", location)\n",
    "                    break\n",
    "\n",
    "        except:\n",
    "            print(\"no next\")\n",
    "            break\n",
    "        \n",
    "\n",
    "        page_count = page_count - 1\n",
    "    \n",
    "\n",
    "    \n",
    "  \n",
    "    \n"
   ]
  },
  {
   "cell_type": "code",
   "execution_count": 24,
   "metadata": {},
   "outputs": [],
   "source": [
    "df = pd.DataFrame(total_dict)"
   ]
  },
  {
   "cell_type": "code",
   "execution_count": 25,
   "metadata": {},
   "outputs": [],
   "source": [
    "def get_base_url(url):\n",
    "    return url.split('?', 1)[0]\n",
    "\n",
    "# Apply the function to the 'urls' column\n",
    "df['base_urls'] = df['listing_link'].apply(get_base_url)"
   ]
  },
  {
   "cell_type": "code",
   "execution_count": 26,
   "metadata": {},
   "outputs": [],
   "source": [
    "\n",
    "df.to_csv('links.csv',index=False)"
   ]
  },
  {
   "cell_type": "code",
   "execution_count": null,
   "metadata": {},
   "outputs": [],
   "source": []
  },
  {
   "cell_type": "code",
   "execution_count": null,
   "metadata": {},
   "outputs": [],
   "source": [
    "df[df['base_url'].unique()]"
   ]
  },
  {
   "cell_type": "code",
   "execution_count": null,
   "metadata": {},
   "outputs": [],
   "source": []
  }
 ],
 "metadata": {
  "kernelspec": {
   "display_name": "Python 3",
   "language": "python",
   "name": "python3"
  },
  "language_info": {
   "codemirror_mode": {
    "name": "ipython",
    "version": 3
   },
   "file_extension": ".py",
   "mimetype": "text/x-python",
   "name": "python",
   "nbconvert_exporter": "python",
   "pygments_lexer": "ipython3",
   "version": "3.11.7"
  }
 },
 "nbformat": 4,
 "nbformat_minor": 2
}
