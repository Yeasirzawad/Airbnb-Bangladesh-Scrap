{
 "cells": [
  {
   "cell_type": "code",
   "execution_count": 7,
   "metadata": {},
   "outputs": [],
   "source": [
    "import pandas as pd\n",
    "import requests\n",
    "import time\n",
    "\n"
   ]
  },
  {
   "cell_type": "code",
   "execution_count": 8,
   "metadata": {},
   "outputs": [],
   "source": [
    "\n",
    "\n",
    "# Load the data into a DataFrame\n",
    "df = pd.read_csv('../data/splited/location_crop.csv')"
   ]
  },
  {
   "cell_type": "code",
   "execution_count": 9,
   "metadata": {},
   "outputs": [],
   "source": [
    "\n",
    "\n",
    "# Define the API endpoint and the API key\n",
    "url = \"https://api-bdc.io/graphql/reverse-geocoding?key=bdc_07958ebe48f74e0dad1f87f56fc5aed7\"\n",
    "\n",
    "# Set up the request headers\n",
    "headers = {\n",
    "    'Content-Type': 'application/json'\n",
    "}"
   ]
  },
  {
   "cell_type": "code",
   "execution_count": 10,
   "metadata": {},
   "outputs": [],
   "source": [
    "\n",
    "\n",
    "\n",
    "# Function to get location data from the API\n",
    "def get_location_data(latitude, longitude):\n",
    "    query = \"\"\"\n",
    "    {\n",
    "      locationData(latitude: %f, longitude: %f, locale: \"en\") {\n",
    "        locality {\n",
    "          continent\n",
    "          continentCode\n",
    "          principalSubdivision\n",
    "          city\n",
    "          localityName\n",
    "          postcode\n",
    "          fips {\n",
    "            state\n",
    "            county\n",
    "            countySubdivision\n",
    "            place\n",
    "          }\n",
    "        }\n",
    "        country {\n",
    "          name\n",
    "          isoAlpha2\n",
    "          isoAlpha3\n",
    "        }\n",
    "      }\n",
    "    }\n",
    "    \"\"\" % (latitude, longitude)\n",
    "\n",
    "    payload = {\n",
    "        \"query\": query\n",
    "    }\n",
    "\n",
    "    response = requests.post(url, json=payload, headers=headers)\n",
    "    \n",
    "    if response.status_code == 200:\n",
    "        return response.json()\n",
    "    else:\n",
    "        print(f\"Request failed with status code {response.status_code}\")\n",
    "        print(response.text)\n",
    "        return None\n",
    "\n",
    "\n"
   ]
  },
  {
   "cell_type": "code",
   "execution_count": 11,
   "metadata": {},
   "outputs": [
    {
     "name": "stdout",
     "output_type": "stream",
     "text": [
      "Request failed with status code 400\n",
      "{\"errors\":[{\"message\":\"Argument \\u0027latitude\\u0027 has invalid value. Expected type \\u0027Float\\u0027, found nan.\",\"locations\":[{\"line\":3,\"column\":20}],\"extensions\":{\"code\":\"ARGUMENTS_OF_CORRECT_TYPE\",\"codes\":[\"ARGUMENTS_OF_CORRECT_TYPE\"],\"number\":\"5.6.1\"}},{\"message\":\"Argument \\u0027longitude\\u0027 has invalid value. Expected type \\u0027Float\\u0027, found nan.\",\"locations\":[{\"line\":3,\"column\":35}],\"extensions\":{\"code\":\"ARGUMENTS_OF_CORRECT_TYPE\",\"codes\":[\"ARGUMENTS_OF_CORRECT_TYPE\"],\"number\":\"5.6.1\"}}],\"extensions\":{\"elapsedMs\":11.8089,\"processedBy\":\"43.204.238.189\"}}\n"
     ]
    }
   ],
   "source": [
    "# Iterate over the DataFrame and get location data for each row\n",
    "results = []\n",
    "\n",
    "for index, row in df.iterrows():\n",
    "    listing_link = row['listing_link']\n",
    "    latitude = row['latitude']\n",
    "    longitude = row['longitude']\n",
    "    result = get_location_data(latitude, longitude)\n",
    "    if result:\n",
    "        result['listing_link'] = listing_link\n",
    "        result['latitude'] = latitude\n",
    "        result['longitude'] = longitude\n",
    "        results.append(result)\n",
    "    time.sleep(1)  # Sleep to avoid hitting rate limits\n",
    "\n",
    "# Extract relevant data and store in a new DataFrame\n",
    "location_data = []\n",
    "\n",
    "for result in results:\n",
    "    if 'data' in result and 'locationData' in result['data']:\n",
    "        locality = result['data']['locationData']['locality']\n",
    "        country = result['data']['locationData']['country']\n",
    "        location_data.append({\n",
    "            'listing_link': result['listing_link'],\n",
    "            'latitude': result['latitude'],\n",
    "            'longitude': result['longitude'],\n",
    "            'continent': locality['continent'],\n",
    "            'continentCode': locality['continentCode'],\n",
    "            'principalSubdivision': locality['principalSubdivision'],\n",
    "            'city': locality['city'],\n",
    "            'localityName': locality['localityName'],\n",
    "            'postcode': locality['postcode'],\n",
    "            'fips': locality['fips'],\n",
    "            'country_name': country['name'],\n",
    "            'country_isoAlpha2': country['isoAlpha2'],\n",
    "            'country_isoAlpha3': country['isoAlpha3']\n",
    "        })\n",
    "\n",
    "location_df = pd.DataFrame(location_data)"
   ]
  },
  {
   "cell_type": "code",
   "execution_count": null,
   "metadata": {},
   "outputs": [],
   "source": [
    "# Print the resulting DataFrame\n",
    "print(location_df)\n",
    "\n",
    "# Save the resulting DataFrame to a CSV file\n",
    "location_df.to_csv('location_data.csv', index=False)"
   ]
  }
 ],
 "metadata": {
  "kernelspec": {
   "display_name": "Python 3",
   "language": "python",
   "name": "python3"
  },
  "language_info": {
   "codemirror_mode": {
    "name": "ipython",
    "version": 3
   },
   "file_extension": ".py",
   "mimetype": "text/x-python",
   "name": "python",
   "nbconvert_exporter": "python",
   "pygments_lexer": "ipython3",
   "version": "3.10.7"
  }
 },
 "nbformat": 4,
 "nbformat_minor": 2
}
