{
 "cells": [
  {
   "cell_type": "code",
   "execution_count": 7,
   "metadata": {},
   "outputs": [],
   "source": [
    "import pandas as pd\n",
    "import requests\n",
    "import time\n",
    "\n"
   ]
  },
  {
   "cell_type": "code",
   "execution_count": 8,
   "metadata": {},
   "outputs": [],
   "source": [
    "\n",
    "\n",
    "# Load the data into a DataFrame\n",
    "df = pd.read_csv('../data/splited/location_crop.csv')"
   ]
  },
  {
   "cell_type": "code",
   "execution_count": 9,
   "metadata": {},
   "outputs": [],
   "source": [
    "\n",
    "\n",
    "# Define the API endpoint and the API key\n",
    "url = \"https://api-bdc.io/graphql/reverse-geocoding?key=bdc_07958ebe48f74e0dad1f87f56fc5aed7\"\n",
    "\n",
    "# Set up the request headers\n",
    "headers = {\n",
    "    'Content-Type': 'application/json'\n",
    "}"
   ]
  },
  {
   "cell_type": "code",
   "execution_count": 10,
   "metadata": {},
   "outputs": [],
   "source": [
    "\n",
    "\n",
    "\n",
    "# Function to get location data from the API\n",
    "def get_location_data(latitude, longitude):\n",
    "    query = \"\"\"\n",
    "    {\n",
    "      locationData(latitude: %f, longitude: %f, locale: \"en\") {\n",
    "        locality {\n",
    "          continent\n",
    "          continentCode\n",
    "          principalSubdivision\n",
    "          city\n",
    "          localityName\n",
    "          postcode\n",
    "          fips {\n",
    "            state\n",
    "            county\n",
    "            countySubdivision\n",
    "            place\n",
    "          }\n",
    "        }\n",
    "        country {\n",
    "          name\n",
    "          isoAlpha2\n",
    "          isoAlpha3\n",
    "        }\n",
    "      }\n",
    "    }\n",
    "    \"\"\" % (latitude, longitude)\n",
    "\n",
    "    payload = {\n",
    "        \"query\": query\n",
    "    }\n",
    "\n",
    "    response = requests.post(url, json=payload, headers=headers)\n",
    "    \n",
    "    if response.status_code == 200:\n",
    "        return response.json()\n",
    "    else:\n",
    "        print(f\"Request failed with status code {response.status_code}\")\n",
    "        print(response.text)\n",
    "        return None\n",
    "\n",
    "\n"
   ]
  },
  {
   "cell_type": "code",
   "execution_count": 11,
   "metadata": {},
   "outputs": [
    {
     "name": "stdout",
     "output_type": "stream",
     "text": [
      "Request failed with status code 400\n",
      "{\"errors\":[{\"message\":\"Argument \\u0027latitude\\u0027 has invalid value. Expected type \\u0027Float\\u0027, found nan.\",\"locations\":[{\"line\":3,\"column\":20}],\"extensions\":{\"code\":\"ARGUMENTS_OF_CORRECT_TYPE\",\"codes\":[\"ARGUMENTS_OF_CORRECT_TYPE\"],\"number\":\"5.6.1\"}},{\"message\":\"Argument \\u0027longitude\\u0027 has invalid value. Expected type \\u0027Float\\u0027, found nan.\",\"locations\":[{\"line\":3,\"column\":35}],\"extensions\":{\"code\":\"ARGUMENTS_OF_CORRECT_TYPE\",\"codes\":[\"ARGUMENTS_OF_CORRECT_TYPE\"],\"number\":\"5.6.1\"}}],\"extensions\":{\"elapsedMs\":11.8089,\"processedBy\":\"43.204.238.189\"}}\n",
      "Request failed with status code 400\n",
      "{\"errors\":[{\"message\":\"Argument \\u0027latitude\\u0027 has invalid value. Expected type \\u0027Float\\u0027, found nan.\",\"locations\":[{\"line\":3,\"column\":20}],\"extensions\":{\"code\":\"ARGUMENTS_OF_CORRECT_TYPE\",\"codes\":[\"ARGUMENTS_OF_CORRECT_TYPE\"],\"number\":\"5.6.1\"}},{\"message\":\"Argument \\u0027longitude\\u0027 has invalid value. Expected type \\u0027Float\\u0027, found nan.\",\"locations\":[{\"line\":3,\"column\":35}],\"extensions\":{\"code\":\"ARGUMENTS_OF_CORRECT_TYPE\",\"codes\":[\"ARGUMENTS_OF_CORRECT_TYPE\"],\"number\":\"5.6.1\"}}],\"extensions\":{\"elapsedMs\":0.5548,\"processedBy\":\"43.204.238.189\"}}\n",
      "Request failed with status code 400\n",
      "{\"errors\":[{\"message\":\"Argument \\u0027latitude\\u0027 has invalid value. Expected type \\u0027Float\\u0027, found nan.\",\"locations\":[{\"line\":3,\"column\":20}],\"extensions\":{\"code\":\"ARGUMENTS_OF_CORRECT_TYPE\",\"codes\":[\"ARGUMENTS_OF_CORRECT_TYPE\"],\"number\":\"5.6.1\"}},{\"message\":\"Argument \\u0027longitude\\u0027 has invalid value. Expected type \\u0027Float\\u0027, found nan.\",\"locations\":[{\"line\":3,\"column\":35}],\"extensions\":{\"code\":\"ARGUMENTS_OF_CORRECT_TYPE\",\"codes\":[\"ARGUMENTS_OF_CORRECT_TYPE\"],\"number\":\"5.6.1\"}}],\"extensions\":{\"elapsedMs\":0.4955,\"processedBy\":\"43.204.238.189\"}}\n",
      "Request failed with status code 400\n",
      "{\"errors\":[{\"message\":\"Argument \\u0027latitude\\u0027 has invalid value. Expected type \\u0027Float\\u0027, found nan.\",\"locations\":[{\"line\":3,\"column\":20}],\"extensions\":{\"code\":\"ARGUMENTS_OF_CORRECT_TYPE\",\"codes\":[\"ARGUMENTS_OF_CORRECT_TYPE\"],\"number\":\"5.6.1\"}},{\"message\":\"Argument \\u0027longitude\\u0027 has invalid value. Expected type \\u0027Float\\u0027, found nan.\",\"locations\":[{\"line\":3,\"column\":35}],\"extensions\":{\"code\":\"ARGUMENTS_OF_CORRECT_TYPE\",\"codes\":[\"ARGUMENTS_OF_CORRECT_TYPE\"],\"number\":\"5.6.1\"}}],\"extensions\":{\"elapsedMs\":0.6101,\"processedBy\":\"43.204.238.189\"}}\n",
      "Request failed with status code 400\n",
      "{\"errors\":[{\"message\":\"Argument \\u0027latitude\\u0027 has invalid value. Expected type \\u0027Float\\u0027, found nan.\",\"locations\":[{\"line\":3,\"column\":20}],\"extensions\":{\"code\":\"ARGUMENTS_OF_CORRECT_TYPE\",\"codes\":[\"ARGUMENTS_OF_CORRECT_TYPE\"],\"number\":\"5.6.1\"}},{\"message\":\"Argument \\u0027longitude\\u0027 has invalid value. Expected type \\u0027Float\\u0027, found nan.\",\"locations\":[{\"line\":3,\"column\":35}],\"extensions\":{\"code\":\"ARGUMENTS_OF_CORRECT_TYPE\",\"codes\":[\"ARGUMENTS_OF_CORRECT_TYPE\"],\"number\":\"5.6.1\"}}],\"extensions\":{\"elapsedMs\":0.6552,\"processedBy\":\"43.204.238.189\"}}\n",
      "Request failed with status code 400\n",
      "{\"errors\":[{\"message\":\"Argument \\u0027latitude\\u0027 has invalid value. Expected type \\u0027Float\\u0027, found nan.\",\"locations\":[{\"line\":3,\"column\":20}],\"extensions\":{\"code\":\"ARGUMENTS_OF_CORRECT_TYPE\",\"codes\":[\"ARGUMENTS_OF_CORRECT_TYPE\"],\"number\":\"5.6.1\"}},{\"message\":\"Argument \\u0027longitude\\u0027 has invalid value. Expected type \\u0027Float\\u0027, found nan.\",\"locations\":[{\"line\":3,\"column\":35}],\"extensions\":{\"code\":\"ARGUMENTS_OF_CORRECT_TYPE\",\"codes\":[\"ARGUMENTS_OF_CORRECT_TYPE\"],\"number\":\"5.6.1\"}}],\"extensions\":{\"elapsedMs\":0.4304,\"processedBy\":\"43.204.238.189\"}}\n",
      "Request failed with status code 400\n",
      "{\"errors\":[{\"message\":\"Argument \\u0027latitude\\u0027 has invalid value. Expected type \\u0027Float\\u0027, found nan.\",\"locations\":[{\"line\":3,\"column\":20}],\"extensions\":{\"code\":\"ARGUMENTS_OF_CORRECT_TYPE\",\"codes\":[\"ARGUMENTS_OF_CORRECT_TYPE\"],\"number\":\"5.6.1\"}},{\"message\":\"Argument \\u0027longitude\\u0027 has invalid value. Expected type \\u0027Float\\u0027, found nan.\",\"locations\":[{\"line\":3,\"column\":35}],\"extensions\":{\"code\":\"ARGUMENTS_OF_CORRECT_TYPE\",\"codes\":[\"ARGUMENTS_OF_CORRECT_TYPE\"],\"number\":\"5.6.1\"}}],\"extensions\":{\"elapsedMs\":0.4146,\"processedBy\":\"43.204.238.189\"}}\n",
      "Request failed with status code 400\n",
      "{\"errors\":[{\"message\":\"Argument \\u0027latitude\\u0027 has invalid value. Expected type \\u0027Float\\u0027, found nan.\",\"locations\":[{\"line\":3,\"column\":20}],\"extensions\":{\"code\":\"ARGUMENTS_OF_CORRECT_TYPE\",\"codes\":[\"ARGUMENTS_OF_CORRECT_TYPE\"],\"number\":\"5.6.1\"}},{\"message\":\"Argument \\u0027longitude\\u0027 has invalid value. Expected type \\u0027Float\\u0027, found nan.\",\"locations\":[{\"line\":3,\"column\":35}],\"extensions\":{\"code\":\"ARGUMENTS_OF_CORRECT_TYPE\",\"codes\":[\"ARGUMENTS_OF_CORRECT_TYPE\"],\"number\":\"5.6.1\"}}],\"extensions\":{\"elapsedMs\":0.4009,\"processedBy\":\"43.204.238.189\"}}\n",
      "Request failed with status code 400\n",
      "{\"errors\":[{\"message\":\"Argument \\u0027latitude\\u0027 has invalid value. Expected type \\u0027Float\\u0027, found nan.\",\"locations\":[{\"line\":3,\"column\":20}],\"extensions\":{\"code\":\"ARGUMENTS_OF_CORRECT_TYPE\",\"codes\":[\"ARGUMENTS_OF_CORRECT_TYPE\"],\"number\":\"5.6.1\"}},{\"message\":\"Argument \\u0027longitude\\u0027 has invalid value. Expected type \\u0027Float\\u0027, found nan.\",\"locations\":[{\"line\":3,\"column\":35}],\"extensions\":{\"code\":\"ARGUMENTS_OF_CORRECT_TYPE\",\"codes\":[\"ARGUMENTS_OF_CORRECT_TYPE\"],\"number\":\"5.6.1\"}}],\"extensions\":{\"elapsedMs\":0.6286,\"processedBy\":\"43.204.238.189\"}}\n"
     ]
    }
   ],
   "source": [
    "# Iterate over the DataFrame and get location data for each row\n",
    "results = []\n",
    "\n",
    "for index, row in df.iterrows():\n",
    "    listing_link = row['listing_link']\n",
    "    latitude = row['latitude']\n",
    "    longitude = row['longitude']\n",
    "    result = get_location_data(latitude, longitude)\n",
    "    if result:\n",
    "        result['listing_link'] = listing_link\n",
    "        result['latitude'] = latitude\n",
    "        result['longitude'] = longitude\n",
    "        results.append(result)\n",
    "    time.sleep(1)  # Sleep to avoid hitting rate limits\n",
    "\n",
    "# Extract relevant data and store in a new DataFrame\n",
    "location_data = []\n",
    "\n",
    "for result in results:\n",
    "    if 'data' in result and 'locationData' in result['data']:\n",
    "        locality = result['data']['locationData']['locality']\n",
    "        country = result['data']['locationData']['country']\n",
    "        location_data.append({\n",
    "            'listing_link': result['listing_link'],\n",
    "            'latitude': result['latitude'],\n",
    "            'longitude': result['longitude'],\n",
    "            'continent': locality['continent'],\n",
    "            'continentCode': locality['continentCode'],\n",
    "            'principalSubdivision': locality['principalSubdivision'],\n",
    "            'city': locality['city'],\n",
    "            'localityName': locality['localityName'],\n",
    "            'postcode': locality['postcode'],\n",
    "            'fips': locality['fips'],\n",
    "            'country_name': country['name'],\n",
    "            'country_isoAlpha2': country['isoAlpha2'],\n",
    "            'country_isoAlpha3': country['isoAlpha3']\n",
    "        })\n",
    "\n",
    "location_df = pd.DataFrame(location_data)"
   ]
  },
  {
   "cell_type": "code",
   "execution_count": 13,
   "metadata": {},
   "outputs": [
    {
     "name": "stdout",
     "output_type": "stream",
     "text": [
      "Cluster 3:\n",
      "- apple fruit\n",
      "- orange fruit\n",
      "- banana fruit\n",
      "\n",
      "Cluster 1:\n",
      "- carrot vegetable\n",
      "- spinach vegetable\n",
      "- tomato vegetable\n",
      "\n",
      "Cluster 2:\n",
      "- dog animal\n",
      "- cat animal\n",
      "- elephant animal\n",
      "\n"
     ]
    }
   ],
   "source": []
  },
  {
   "cell_type": "code",
   "execution_count": 12,
   "metadata": {},
   "outputs": [
    {
     "name": "stdout",
     "output_type": "stream",
     "text": [
      "                                           listing_link   latitude  longitude  \\\n",
      "0     https://www.airbnb.com/rooms/31699739?adults=1...  24.778140  90.368330   \n",
      "1     https://www.airbnb.com/rooms/94052072774264244...  24.698140  90.433410   \n",
      "2     https://www.airbnb.com/rooms/10463077937269931...  24.757100  90.401200   \n",
      "3     https://www.airbnb.com/rooms/93979221326458612...  24.757807  90.394817   \n",
      "4     https://www.airbnb.com/rooms/93979244890044911...  24.757011  90.394424   \n",
      "...                                                 ...        ...        ...   \n",
      "1564  https://www.airbnb.com/rooms/10257503846395791...  22.778333  89.724451   \n",
      "1565  https://www.airbnb.com/rooms/52017590?adults=1...  22.590000  89.848400   \n",
      "1566  https://www.airbnb.com/rooms/11301829800703733...  22.702143  90.371497   \n",
      "1567  https://www.airbnb.com/rooms/53844727?adults=1...  21.818050  90.121490   \n",
      "1568  https://www.airbnb.com/rooms/51131644?adults=1...  22.721640  90.368900   \n",
      "\n",
      "     continent continentCode principalSubdivision        city localityName  \\\n",
      "0         Asia            AS  Mymensingh Division  Mymensingh   Mymensingh   \n",
      "1         Asia            AS  Mymensingh Division  Mymensingh   Mymensingh   \n",
      "2         Asia            AS  Mymensingh Division  Mymensingh   Mymensingh   \n",
      "3         Asia            AS  Mymensingh Division  Mymensingh   Mymensingh   \n",
      "4         Asia            AS  Mymensingh Division  Mymensingh   Mymensingh   \n",
      "...        ...           ...                  ...         ...          ...   \n",
      "1564      Asia            AS      Khulna Division    Fakirhat     Fakirhat   \n",
      "1565      Asia            AS      Khulna Division      Kachua       Kachua   \n",
      "1566      Asia            AS     Barisal Division    Barishal     Barishal   \n",
      "1567      Asia            AS     Barisal Division    Kalapara     Kalapara   \n",
      "1568      Asia            AS     Barisal Division    Barishal     Barishal   \n",
      "\n",
      "     postcode  fips country_name country_isoAlpha2 country_isoAlpha3  \n",
      "0              None   Bangladesh                BD               BGD  \n",
      "1              None   Bangladesh                BD               BGD  \n",
      "2              None   Bangladesh                BD               BGD  \n",
      "3              None   Bangladesh                BD               BGD  \n",
      "4              None   Bangladesh                BD               BGD  \n",
      "...       ...   ...          ...               ...               ...  \n",
      "1564           None   Bangladesh                BD               BGD  \n",
      "1565           None   Bangladesh                BD               BGD  \n",
      "1566           None   Bangladesh                BD               BGD  \n",
      "1567           None   Bangladesh                BD               BGD  \n",
      "1568           None   Bangladesh                BD               BGD  \n",
      "\n",
      "[1569 rows x 13 columns]\n"
     ]
    }
   ],
   "source": [
    "# Print the resulting DataFrame\n",
    "print(location_df)\n",
    "\n",
    "# Save the resulting DataFrame to a CSV file\n",
    "location_df.to_csv('location_data.csv', index=False)"
   ]
  },
  {
   "cell_type": "code",
   "execution_count": null,
   "metadata": {},
   "outputs": [],
   "source": []
  }
 ],
 "metadata": {
  "kernelspec": {
   "display_name": "Python 3",
   "language": "python",
   "name": "python3"
  },
  "language_info": {
   "codemirror_mode": {
    "name": "ipython",
    "version": 3
   },
   "file_extension": ".py",
   "mimetype": "text/x-python",
   "name": "python",
   "nbconvert_exporter": "python",
   "pygments_lexer": "ipython3",
   "version": "3.10.7"
  }
 },
 "nbformat": 4,
 "nbformat_minor": 2
}
