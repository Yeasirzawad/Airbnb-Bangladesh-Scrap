{
 "cells": [
  {
   "cell_type": "code",
   "execution_count": 1,
   "metadata": {},
   "outputs": [],
   "source": [
    "import sys\n",
    "import os"
   ]
  },
  {
   "cell_type": "code",
   "execution_count": 2,
   "metadata": {},
   "outputs": [],
   "source": [
    "sys.path.append(os.path.abspath('../functions'))"
   ]
  },
  {
   "cell_type": "code",
   "execution_count": 3,
   "metadata": {},
   "outputs": [],
   "source": [
    "from scrap_main import scrap_airbnb_listing, airbnb_data_scrap"
   ]
  },
  {
   "cell_type": "code",
   "execution_count": 4,
   "metadata": {},
   "outputs": [],
   "source": [
    "locations_new = [\"Fulbaria\", \"Netrokona\",\"Islampur\", \"Naogaon\",\"Sylhet\", \"Moulvibazar\", \"Habiganj\", \"Sunamganj\" ]"
   ]
  },
  {
   "cell_type": "code",
   "execution_count": 5,
   "metadata": {},
   "outputs": [
    {
     "data": {
      "text/plain": [
       "8"
      ]
     },
     "execution_count": 5,
     "metadata": {},
     "output_type": "execute_result"
    }
   ],
   "source": [
    "len(locations_new)"
   ]
  },
  {
   "cell_type": "code",
   "execution_count": 4,
   "metadata": {},
   "outputs": [
    {
     "ename": "NameError",
     "evalue": "name 'locations_new' is not defined",
     "output_type": "error",
     "traceback": [
      "\u001b[1;31m---------------------------------------------------------------------------\u001b[0m",
      "\u001b[1;31mNameError\u001b[0m                                 Traceback (most recent call last)",
      "Cell \u001b[1;32mIn[4], line 1\u001b[0m\n\u001b[1;32m----> 1\u001b[0m df \u001b[38;5;241m=\u001b[39m scrap_airbnb_listing(locations_new,\u001b[38;5;124m\"\u001b[39m\u001b[38;5;124m../xpaths.json\u001b[39m\u001b[38;5;124m\"\u001b[39m)\n",
      "\u001b[1;31mNameError\u001b[0m: name 'locations_new' is not defined"
     ]
    }
   ],
   "source": [
    "df = scrap_airbnb_listing(locations_new,\"../xpaths.json\")\n"
   ]
  },
  {
   "cell_type": "code",
   "execution_count": 5,
   "metadata": {},
   "outputs": [
    {
     "ename": "NameError",
     "evalue": "name 'df' is not defined",
     "output_type": "error",
     "traceback": [
      "\u001b[1;31m---------------------------------------------------------------------------\u001b[0m",
      "\u001b[1;31mNameError\u001b[0m                                 Traceback (most recent call last)",
      "Cell \u001b[1;32mIn[5], line 1\u001b[0m\n\u001b[1;32m----> 1\u001b[0m df\n",
      "\u001b[1;31mNameError\u001b[0m: name 'df' is not defined"
     ]
    }
   ],
   "source": [
    "df"
   ]
  },
  {
   "cell_type": "code",
   "execution_count": 4,
   "metadata": {},
   "outputs": [],
   "source": [
    "import pandas as pd"
   ]
  },
  {
   "cell_type": "code",
   "execution_count": 7,
   "metadata": {},
   "outputs": [
    {
     "ename": "NameError",
     "evalue": "name 'df' is not defined",
     "output_type": "error",
     "traceback": [
      "\u001b[1;31m---------------------------------------------------------------------------\u001b[0m",
      "\u001b[1;31mNameError\u001b[0m                                 Traceback (most recent call last)",
      "Cell \u001b[1;32mIn[7], line 1\u001b[0m\n\u001b[1;32m----> 1\u001b[0m df\u001b[38;5;241m.\u001b[39mto_csv(\u001b[38;5;124m'\u001b[39m\u001b[38;5;124m./new_location_lins.csv\u001b[39m\u001b[38;5;124m'\u001b[39m,index\u001b[38;5;241m=\u001b[39m\u001b[38;5;28;01mFalse\u001b[39;00m)\n",
      "\u001b[1;31mNameError\u001b[0m: name 'df' is not defined"
     ]
    }
   ],
   "source": [
    "df.to_csv('./new_location_lins.csv',index=False)"
   ]
  },
  {
   "cell_type": "code",
   "execution_count": 5,
   "metadata": {},
   "outputs": [],
   "source": [
    "df = pd.read_csv('./new_location_lins.csv')"
   ]
  },
  {
   "cell_type": "code",
   "execution_count": 6,
   "metadata": {},
   "outputs": [],
   "source": [
    "df = df.iloc[132:,]"
   ]
  },
  {
   "cell_type": "code",
   "execution_count": 7,
   "metadata": {},
   "outputs": [
    {
     "data": {
      "text/html": [
       "<div>\n",
       "<style scoped>\n",
       "    .dataframe tbody tr th:only-of-type {\n",
       "        vertical-align: middle;\n",
       "    }\n",
       "\n",
       "    .dataframe tbody tr th {\n",
       "        vertical-align: top;\n",
       "    }\n",
       "\n",
       "    .dataframe thead th {\n",
       "        text-align: right;\n",
       "    }\n",
       "</style>\n",
       "<table border=\"1\" class=\"dataframe\">\n",
       "  <thead>\n",
       "    <tr style=\"text-align: right;\">\n",
       "      <th></th>\n",
       "      <th>location</th>\n",
       "      <th>listing_link</th>\n",
       "    </tr>\n",
       "  </thead>\n",
       "  <tbody>\n",
       "    <tr>\n",
       "      <th>132</th>\n",
       "      <td>Sylhet</td>\n",
       "      <td>https://www.airbnb.com/rooms/39745282?adults=1...</td>\n",
       "    </tr>\n",
       "    <tr>\n",
       "      <th>133</th>\n",
       "      <td>Sylhet</td>\n",
       "      <td>https://www.airbnb.com/rooms/81444365285008457...</td>\n",
       "    </tr>\n",
       "    <tr>\n",
       "      <th>134</th>\n",
       "      <td>Sylhet</td>\n",
       "      <td>https://www.airbnb.com/rooms/41200797?adults=1...</td>\n",
       "    </tr>\n",
       "    <tr>\n",
       "      <th>135</th>\n",
       "      <td>Sylhet</td>\n",
       "      <td>https://www.airbnb.com/rooms/69530063831717304...</td>\n",
       "    </tr>\n",
       "    <tr>\n",
       "      <th>136</th>\n",
       "      <td>Sylhet</td>\n",
       "      <td>https://www.airbnb.com/rooms/95728845352920336...</td>\n",
       "    </tr>\n",
       "    <tr>\n",
       "      <th>...</th>\n",
       "      <td>...</td>\n",
       "      <td>...</td>\n",
       "    </tr>\n",
       "    <tr>\n",
       "      <th>198</th>\n",
       "      <td>Sunamganj</td>\n",
       "      <td>https://www.airbnb.com/rooms/10665746717405845...</td>\n",
       "    </tr>\n",
       "    <tr>\n",
       "      <th>199</th>\n",
       "      <td>Sunamganj</td>\n",
       "      <td>https://www.airbnb.com/rooms/83308063990365116...</td>\n",
       "    </tr>\n",
       "    <tr>\n",
       "      <th>200</th>\n",
       "      <td>Sunamganj</td>\n",
       "      <td>https://www.airbnb.com/rooms/16504512?adults=1...</td>\n",
       "    </tr>\n",
       "    <tr>\n",
       "      <th>201</th>\n",
       "      <td>Sunamganj</td>\n",
       "      <td>https://www.airbnb.com/rooms/99561058308024771...</td>\n",
       "    </tr>\n",
       "    <tr>\n",
       "      <th>202</th>\n",
       "      <td>Sunamganj</td>\n",
       "      <td>https://www.airbnb.com/rooms/74478759327379727...</td>\n",
       "    </tr>\n",
       "  </tbody>\n",
       "</table>\n",
       "<p>71 rows × 2 columns</p>\n",
       "</div>"
      ],
      "text/plain": [
       "      location                                       listing_link\n",
       "132     Sylhet  https://www.airbnb.com/rooms/39745282?adults=1...\n",
       "133     Sylhet  https://www.airbnb.com/rooms/81444365285008457...\n",
       "134     Sylhet  https://www.airbnb.com/rooms/41200797?adults=1...\n",
       "135     Sylhet  https://www.airbnb.com/rooms/69530063831717304...\n",
       "136     Sylhet  https://www.airbnb.com/rooms/95728845352920336...\n",
       "..         ...                                                ...\n",
       "198  Sunamganj  https://www.airbnb.com/rooms/10665746717405845...\n",
       "199  Sunamganj  https://www.airbnb.com/rooms/83308063990365116...\n",
       "200  Sunamganj  https://www.airbnb.com/rooms/16504512?adults=1...\n",
       "201  Sunamganj  https://www.airbnb.com/rooms/99561058308024771...\n",
       "202  Sunamganj  https://www.airbnb.com/rooms/74478759327379727...\n",
       "\n",
       "[71 rows x 2 columns]"
      ]
     },
     "execution_count": 7,
     "metadata": {},
     "output_type": "execute_result"
    }
   ],
   "source": [
    "df\n"
   ]
  },
  {
   "cell_type": "code",
   "execution_count": 8,
   "metadata": {},
   "outputs": [
    {
     "name": "stdout",
     "output_type": "stream",
     "text": [
      "No modal found\n",
      "facilities closed\n",
      "No modal found\n",
      "review count not found\n",
      "facilities closed\n",
      "No modal found\n",
      "review count not found\n",
      "host response rate not found\n",
      "facilities closed\n",
      "No modal found\n",
      "review count not found\n",
      "facilities closed\n",
      "No modal found\n",
      "review count not found\n",
      "host response rate not found\n",
      "facilities closed\n",
      "No modal found\n",
      "review count not found\n",
      "facilities closed\n",
      "No modal found\n",
      "review count not found\n",
      "facilities closed\n",
      "No modal found\n",
      "review count not found\n",
      "host not found\n",
      "host response rate not found\n",
      "facilities closed\n",
      "No modal found\n",
      "review count not found\n",
      "host response rate not found\n",
      "facilities closed\n",
      "No modal found\n",
      "review count not found\n",
      "host response rate not found\n",
      "facilities closed\n",
      "No modal found\n",
      "review count not found\n",
      "host response rate not found\n",
      "facilities closed\n",
      "No modal found\n",
      "review count not found\n",
      "facilities closed\n",
      "No modal found\n",
      "review count not found\n",
      "facilities closed\n",
      "No modal found\n",
      "review count not found\n",
      "host response rate not found\n",
      "facilities closed\n",
      "show all description button not found\n",
      "No modal found\n",
      "review count not found\n",
      "facilities closed\n",
      "No modal found\n",
      "review count not found\n",
      "host response rate not found\n",
      "facilities closed\n",
      "No modal found\n",
      "review count not found\n",
      "host response rate not found\n",
      "facilities closed\n",
      "No modal found\n",
      "review count not found\n",
      "host response rate not found\n",
      "facilities closed\n",
      "No modal found\n",
      "host response rate not found\n",
      "facilities closed\n",
      "No modal found\n",
      "review count not found\n",
      "host response rate not found\n",
      "facilities closed\n",
      "show all description button not found\n",
      "No modal found\n",
      "review count not found\n",
      "host response rate not found\n",
      "facilities closed\n",
      "show all description button not found\n",
      "No modal found\n",
      "review count not found\n",
      "facilities closed\n",
      "show all description button not found\n",
      "No modal found\n",
      "facilities closed\n",
      "No modal found\n",
      "review count not found\n",
      "facilities closed\n",
      "No modal found\n",
      "facilities closed\n",
      "No modal found\n",
      "review count not found\n",
      "host response rate not found\n",
      "facilities closed\n",
      "No modal found\n",
      "review count not found\n",
      "facilities closed\n",
      "No modal found\n",
      "review count not found\n",
      "host response rate not found\n",
      "facilities closed\n",
      "No modal found\n",
      "review count not found\n",
      "facilities closed\n",
      "No modal found\n",
      "review count not found\n",
      "host response rate not found\n",
      "facilities closed\n",
      "No modal found\n",
      "review count not found\n",
      "facilities closed\n",
      "No modal found\n",
      "facilities closed\n",
      "No modal found\n",
      "review count not found\n",
      "host response rate not found\n",
      "facilities closed\n",
      "No modal found\n",
      "review count not found\n",
      "host response rate not found\n",
      "facilities closed\n",
      "No modal found\n",
      "review count not found\n",
      "host response rate not found\n",
      "facilities closed\n",
      "No modal found\n",
      "review count not found\n",
      "host response rate not found\n",
      "facilities closed\n",
      "No modal found\n",
      "review count not found\n",
      "facilities closed\n",
      "No modal found\n",
      "review count not found\n",
      "facilities closed\n",
      "Modal closed\n",
      "host response rate not found\n",
      "facilities closed\n",
      "No modal found\n",
      "review count not found\n",
      "facilities closed\n",
      "No modal found\n",
      "review count not found\n",
      "host response rate not found\n",
      "facilities closed\n",
      "No modal found\n",
      "facilities closed\n",
      "No modal found\n",
      "review count not found\n",
      "facilities closed\n",
      "No modal found\n",
      "review count not found\n",
      "facilities closed\n",
      "No modal found\n",
      "facilities closed\n",
      "No modal found\n",
      "facilities closed\n",
      "No modal found\n",
      "review count not found\n",
      "host response rate not found\n",
      "facilities closed\n",
      "No modal found\n",
      "review count not found\n",
      "facilities closed\n",
      "No modal found\n",
      "review count not found\n",
      "host response rate not found\n",
      "facilities closed\n",
      "No modal found\n",
      "review count not found\n",
      "host response rate not found\n",
      "facilities closed\n",
      "No modal found\n",
      "review count not found\n",
      "facilities closed\n",
      "No modal found\n",
      "facilities closed\n",
      "No modal found\n",
      "review count not found\n",
      "host response rate not found\n",
      "facilities closed\n",
      "No modal found\n",
      "facilities closed\n",
      "No modal found\n",
      "review count not found\n",
      "facilities closed\n",
      "No modal found\n",
      "review count not found\n",
      "host response rate not found\n",
      "facilities closed\n",
      "No modal found\n",
      "host response rate not found\n",
      "facilities closed\n",
      "No modal found\n",
      "review count not found\n",
      "facilities closed\n",
      "No modal found\n",
      "review count not found\n",
      "host response rate not found\n",
      "facilities closed\n",
      "No modal found\n",
      "facilities closed\n",
      "No modal found\n",
      "facilities closed\n",
      "No modal found\n",
      "facilities closed\n",
      "No modal found\n",
      "facilities closed\n",
      "No modal found\n",
      "review count not found\n",
      "facilities closed\n",
      "No modal found\n",
      "review count not found\n",
      "facilities closed\n",
      "No modal found\n",
      "review count not found\n",
      "facilities closed\n",
      "No modal found\n",
      "review count not found\n",
      "facilities closed\n",
      "No modal found\n",
      "review count not found\n",
      "facilities closed\n",
      "No modal found\n",
      "host response rate not found\n",
      "facilities closed\n",
      "No modal found\n",
      "facilities closed\n",
      "No modal found\n",
      "review count not found\n",
      "host response rate not found\n",
      "facilities closed\n"
     ]
    }
   ],
   "source": [
    "airbnb_data_scrap(df['listing_link'], df['location'],\"../xpaths.json\",1535)"
   ]
  },
  {
   "cell_type": "code",
   "execution_count": null,
   "metadata": {},
   "outputs": [],
   "source": []
  },
  {
   "cell_type": "code",
   "execution_count": null,
   "metadata": {},
   "outputs": [],
   "source": []
  },
  {
   "cell_type": "code",
   "execution_count": null,
   "metadata": {},
   "outputs": [],
   "source": []
  },
  {
   "cell_type": "code",
   "execution_count": null,
   "metadata": {},
   "outputs": [],
   "source": []
  },
  {
   "cell_type": "code",
   "execution_count": null,
   "metadata": {},
   "outputs": [],
   "source": []
  },
  {
   "cell_type": "code",
   "execution_count": null,
   "metadata": {},
   "outputs": [],
   "source": []
  },
  {
   "cell_type": "code",
   "execution_count": null,
   "metadata": {},
   "outputs": [],
   "source": []
  }
 ],
 "metadata": {
  "kernelspec": {
   "display_name": "base",
   "language": "python",
   "name": "python3"
  },
  "language_info": {
   "codemirror_mode": {
    "name": "ipython",
    "version": 3
   },
   "file_extension": ".py",
   "mimetype": "text/x-python",
   "name": "python",
   "nbconvert_exporter": "python",
   "pygments_lexer": "ipython3",
   "version": "3.11.7"
  }
 },
 "nbformat": 4,
 "nbformat_minor": 2
}
