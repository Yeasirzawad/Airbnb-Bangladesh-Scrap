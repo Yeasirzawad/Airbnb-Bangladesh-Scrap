{
 "cells": [
  {
   "cell_type": "code",
   "execution_count": 30,
   "metadata": {},
   "outputs": [],
   "source": [
    "import pandas as pd\n",
    "import os\n",
    "import numpy as np"
   ]
  },
  {
   "cell_type": "code",
   "execution_count": 5,
   "metadata": {},
   "outputs": [],
   "source": [
    "df_list = []\n",
    "\n",
    "for c in os.listdir('./host_csvs'):\n",
    "    df = pd.read_csv('./host_csvs/'+c)\n",
    "    df_list.append(df)\n",
    "\n",
    "host_df = pd.concat(df_list)"
   ]
  },
  {
   "cell_type": "code",
   "execution_count": 7,
   "metadata": {},
   "outputs": [],
   "source": [
    "host_df.reset_index(inplace=True)"
   ]
  },
  {
   "cell_type": "code",
   "execution_count": 9,
   "metadata": {},
   "outputs": [
    {
     "name": "stdout",
     "output_type": "stream",
     "text": [
      "<class 'pandas.core.frame.DataFrame'>\n",
      "RangeIndex: 750 entries, 0 to 749\n",
      "Data columns (total 10 columns):\n",
      " #   Column                      Non-Null Count  Dtype  \n",
      "---  ------                      --------------  -----  \n",
      " 0   index                       750 non-null    int64  \n",
      " 1   host_link                   750 non-null    object \n",
      " 2   host_name                   745 non-null    object \n",
      " 3   host_rating                 401 non-null    float64\n",
      " 4   host_no_of_review           451 non-null    float64\n",
      " 5   host_hosting_duration       667 non-null    object \n",
      " 6   host_no_of_listing          750 non-null    int64  \n",
      " 7   host_listing_links          749 non-null    object \n",
      " 8   host_about                  631 non-null    object \n",
      " 9   host_confirmed_information  750 non-null    object \n",
      "dtypes: float64(2), int64(2), object(6)\n",
      "memory usage: 58.7+ KB\n"
     ]
    }
   ],
   "source": [
    "host_df.info()"
   ]
  },
  {
   "cell_type": "code",
   "execution_count": 10,
   "metadata": {},
   "outputs": [
    {
     "data": {
      "text/plain": [
       "index                           0\n",
       "host_link                       0\n",
       "host_name                       5\n",
       "host_rating                   349\n",
       "host_no_of_review             299\n",
       "host_hosting_duration          83\n",
       "host_no_of_listing              0\n",
       "host_listing_links              1\n",
       "host_about                    119\n",
       "host_confirmed_information      0\n",
       "dtype: int64"
      ]
     },
     "execution_count": 10,
     "metadata": {},
     "output_type": "execute_result"
    }
   ],
   "source": [
    "host_df.isnull().sum()"
   ]
  },
  {
   "cell_type": "code",
   "execution_count": 13,
   "metadata": {},
   "outputs": [
    {
     "data": {
      "text/plain": [
       "host_confirmed_information\n",
       "['Identity', 'Email address', 'Phone number']                  575\n",
       "['Identity', 'Phone number']                                   144\n",
       "['Identity', 'Email address', 'Phone number', 'Work email']     26\n",
       "[]                                                               2\n",
       "['Email address', 'Phone number']                                2\n",
       "['Email address', 'Phone number', 'Work email']                  1\n",
       "Name: count, dtype: int64"
      ]
     },
     "execution_count": 13,
     "metadata": {},
     "output_type": "execute_result"
    }
   ],
   "source": [
    "host_df['host_confirmed_information'].value_counts()"
   ]
  },
  {
   "cell_type": "code",
   "execution_count": 21,
   "metadata": {},
   "outputs": [],
   "source": [
    "info_types = ['Identity', 'Email address', 'Phone number', 'Work email']\n",
    "\n",
    "\n",
    "for info in info_types:\n",
    "    host_df[info] = host_df['host_confirmed_information'].apply(lambda x: info in x).astype(int)"
   ]
  },
  {
   "cell_type": "code",
   "execution_count": 24,
   "metadata": {},
   "outputs": [],
   "source": [
    "host_df.drop(columns=['host_confirmed_information'],inplace=True)"
   ]
  },
  {
   "cell_type": "code",
   "execution_count": 26,
   "metadata": {},
   "outputs": [],
   "source": [
    "host_df.drop(columns=['index'],inplace=True)"
   ]
  },
  {
   "cell_type": "code",
   "execution_count": 29,
   "metadata": {},
   "outputs": [
    {
     "data": {
      "text/plain": [
       "0        1 years\n",
       "1        2 years\n",
       "2        6 years\n",
       "3        5 years\n",
       "4      10 months\n",
       "         ...    \n",
       "745      2 years\n",
       "746     6 months\n",
       "747          NaN\n",
       "748      1 years\n",
       "749      2 years\n",
       "Name: host_hosting_duration, Length: 750, dtype: object"
      ]
     },
     "execution_count": 29,
     "metadata": {},
     "output_type": "execute_result"
    }
   ],
   "source": [
    "host_df['host_hosting_duration']"
   ]
  },
  {
   "cell_type": "code",
   "execution_count": null,
   "metadata": {},
   "outputs": [],
   "source": []
  },
  {
   "cell_type": "code",
   "execution_count": 31,
   "metadata": {},
   "outputs": [],
   "source": [
    "def convert_to_months(duration):\n",
    "    if pd.isna(duration):\n",
    "        return np.nan\n",
    "    num, unit = duration.split()\n",
    "    num = int(num)\n",
    "    if unit == 'years':\n",
    "        return num * 12\n",
    "    elif unit == 'months':\n",
    "        return num\n",
    "    else:\n",
    "        return np.nan  \n",
    "\n",
    "host_df['host_hosting_duration_months'] = host_df['host_hosting_duration'].apply(convert_to_months)\n"
   ]
  },
  {
   "cell_type": "code",
   "execution_count": 32,
   "metadata": {},
   "outputs": [
    {
     "data": {
      "text/plain": [
       "0      12.0\n",
       "1      24.0\n",
       "2      72.0\n",
       "3      60.0\n",
       "4      10.0\n",
       "       ... \n",
       "745    24.0\n",
       "746     6.0\n",
       "747     NaN\n",
       "748    12.0\n",
       "749    24.0\n",
       "Name: host_hosting_duration_months, Length: 750, dtype: float64"
      ]
     },
     "execution_count": 32,
     "metadata": {},
     "output_type": "execute_result"
    }
   ],
   "source": [
    "host_df['host_hosting_duration_months']"
   ]
  },
  {
   "cell_type": "code",
   "execution_count": 33,
   "metadata": {},
   "outputs": [],
   "source": [
    "host_df.drop(columns=['host_hosting_duration'],inplace=True)"
   ]
  },
  {
   "cell_type": "code",
   "execution_count": 35,
   "metadata": {},
   "outputs": [
    {
     "name": "stdout",
     "output_type": "stream",
     "text": [
      "<class 'pandas.core.frame.DataFrame'>\n",
      "RangeIndex: 750 entries, 0 to 749\n",
      "Data columns (total 12 columns):\n",
      " #   Column                        Non-Null Count  Dtype  \n",
      "---  ------                        --------------  -----  \n",
      " 0   host_link                     750 non-null    object \n",
      " 1   host_name                     745 non-null    object \n",
      " 2   host_rating                   401 non-null    float64\n",
      " 3   host_no_of_review             451 non-null    float64\n",
      " 4   host_no_of_listing            750 non-null    int64  \n",
      " 5   host_listing_links            749 non-null    object \n",
      " 6   host_about                    631 non-null    object \n",
      " 7   Identity                      750 non-null    int32  \n",
      " 8   Email address                 750 non-null    int32  \n",
      " 9   Phone number                  750 non-null    int32  \n",
      " 10  Work email                    750 non-null    int32  \n",
      " 11  host_hosting_duration_months  667 non-null    float64\n",
      "dtypes: float64(3), int32(4), int64(1), object(4)\n",
      "memory usage: 58.7+ KB\n"
     ]
    }
   ],
   "source": [
    "host_df.info()"
   ]
  },
  {
   "cell_type": "code",
   "execution_count": 38,
   "metadata": {},
   "outputs": [
    {
     "data": {
      "text/plain": [
       "0      1\n",
       "1      1\n",
       "2      1\n",
       "3      1\n",
       "4      1\n",
       "      ..\n",
       "745    1\n",
       "746    1\n",
       "747    1\n",
       "748    1\n",
       "749    1\n",
       "Name: Phone number, Length: 750, dtype: int32"
      ]
     },
     "execution_count": 38,
     "metadata": {},
     "output_type": "execute_result"
    }
   ],
   "source": [
    "host_df['Phone number']"
   ]
  },
  {
   "cell_type": "code",
   "execution_count": 37,
   "metadata": {},
   "outputs": [
    {
     "data": {
      "text/html": [
       "<div>\n",
       "<style scoped>\n",
       "    .dataframe tbody tr th:only-of-type {\n",
       "        vertical-align: middle;\n",
       "    }\n",
       "\n",
       "    .dataframe tbody tr th {\n",
       "        vertical-align: top;\n",
       "    }\n",
       "\n",
       "    .dataframe thead th {\n",
       "        text-align: right;\n",
       "    }\n",
       "</style>\n",
       "<table border=\"1\" class=\"dataframe\">\n",
       "  <thead>\n",
       "    <tr style=\"text-align: right;\">\n",
       "      <th></th>\n",
       "      <th>host_rating</th>\n",
       "      <th>host_no_of_review</th>\n",
       "      <th>host_no_of_listing</th>\n",
       "      <th>Identity</th>\n",
       "      <th>Email address</th>\n",
       "      <th>Phone number</th>\n",
       "      <th>Work email</th>\n",
       "      <th>host_hosting_duration_months</th>\n",
       "    </tr>\n",
       "  </thead>\n",
       "  <tbody>\n",
       "    <tr>\n",
       "      <th>host_rating</th>\n",
       "      <td>1.000000</td>\n",
       "      <td>-0.020809</td>\n",
       "      <td>-0.148862</td>\n",
       "      <td>-0.030926</td>\n",
       "      <td>0.009712</td>\n",
       "      <td>NaN</td>\n",
       "      <td>0.026165</td>\n",
       "      <td>-0.104020</td>\n",
       "    </tr>\n",
       "    <tr>\n",
       "      <th>host_no_of_review</th>\n",
       "      <td>-0.020809</td>\n",
       "      <td>1.000000</td>\n",
       "      <td>0.216816</td>\n",
       "      <td>0.004622</td>\n",
       "      <td>0.033265</td>\n",
       "      <td>NaN</td>\n",
       "      <td>-0.009534</td>\n",
       "      <td>0.031664</td>\n",
       "    </tr>\n",
       "    <tr>\n",
       "      <th>host_no_of_listing</th>\n",
       "      <td>-0.148862</td>\n",
       "      <td>0.216816</td>\n",
       "      <td>1.000000</td>\n",
       "      <td>0.056777</td>\n",
       "      <td>0.127606</td>\n",
       "      <td>0.052012</td>\n",
       "      <td>0.048166</td>\n",
       "      <td>0.209945</td>\n",
       "    </tr>\n",
       "    <tr>\n",
       "      <th>Identity</th>\n",
       "      <td>-0.030926</td>\n",
       "      <td>0.004622</td>\n",
       "      <td>0.056777</td>\n",
       "      <td>1.000000</td>\n",
       "      <td>0.042485</td>\n",
       "      <td>0.631186</td>\n",
       "      <td>-0.072121</td>\n",
       "      <td>0.023313</td>\n",
       "    </tr>\n",
       "    <tr>\n",
       "      <th>Email address</th>\n",
       "      <td>0.009712</td>\n",
       "      <td>0.033265</td>\n",
       "      <td>0.127606</td>\n",
       "      <td>0.042485</td>\n",
       "      <td>1.000000</td>\n",
       "      <td>0.105173</td>\n",
       "      <td>0.095010</td>\n",
       "      <td>0.213788</td>\n",
       "    </tr>\n",
       "    <tr>\n",
       "      <th>Phone number</th>\n",
       "      <td>NaN</td>\n",
       "      <td>NaN</td>\n",
       "      <td>0.052012</td>\n",
       "      <td>0.631186</td>\n",
       "      <td>0.105173</td>\n",
       "      <td>1.000000</td>\n",
       "      <td>0.009993</td>\n",
       "      <td>NaN</td>\n",
       "    </tr>\n",
       "    <tr>\n",
       "      <th>Work email</th>\n",
       "      <td>0.026165</td>\n",
       "      <td>-0.009534</td>\n",
       "      <td>0.048166</td>\n",
       "      <td>-0.072121</td>\n",
       "      <td>0.095010</td>\n",
       "      <td>0.009993</td>\n",
       "      <td>1.000000</td>\n",
       "      <td>0.181004</td>\n",
       "    </tr>\n",
       "    <tr>\n",
       "      <th>host_hosting_duration_months</th>\n",
       "      <td>-0.104020</td>\n",
       "      <td>0.031664</td>\n",
       "      <td>0.209945</td>\n",
       "      <td>0.023313</td>\n",
       "      <td>0.213788</td>\n",
       "      <td>NaN</td>\n",
       "      <td>0.181004</td>\n",
       "      <td>1.000000</td>\n",
       "    </tr>\n",
       "  </tbody>\n",
       "</table>\n",
       "</div>"
      ],
      "text/plain": [
       "                              host_rating  host_no_of_review  \\\n",
       "host_rating                      1.000000          -0.020809   \n",
       "host_no_of_review               -0.020809           1.000000   \n",
       "host_no_of_listing              -0.148862           0.216816   \n",
       "Identity                        -0.030926           0.004622   \n",
       "Email address                    0.009712           0.033265   \n",
       "Phone number                          NaN                NaN   \n",
       "Work email                       0.026165          -0.009534   \n",
       "host_hosting_duration_months    -0.104020           0.031664   \n",
       "\n",
       "                              host_no_of_listing  Identity  Email address  \\\n",
       "host_rating                            -0.148862 -0.030926       0.009712   \n",
       "host_no_of_review                       0.216816  0.004622       0.033265   \n",
       "host_no_of_listing                      1.000000  0.056777       0.127606   \n",
       "Identity                                0.056777  1.000000       0.042485   \n",
       "Email address                           0.127606  0.042485       1.000000   \n",
       "Phone number                            0.052012  0.631186       0.105173   \n",
       "Work email                              0.048166 -0.072121       0.095010   \n",
       "host_hosting_duration_months            0.209945  0.023313       0.213788   \n",
       "\n",
       "                              Phone number  Work email  \\\n",
       "host_rating                            NaN    0.026165   \n",
       "host_no_of_review                      NaN   -0.009534   \n",
       "host_no_of_listing                0.052012    0.048166   \n",
       "Identity                          0.631186   -0.072121   \n",
       "Email address                     0.105173    0.095010   \n",
       "Phone number                      1.000000    0.009993   \n",
       "Work email                        0.009993    1.000000   \n",
       "host_hosting_duration_months           NaN    0.181004   \n",
       "\n",
       "                              host_hosting_duration_months  \n",
       "host_rating                                      -0.104020  \n",
       "host_no_of_review                                 0.031664  \n",
       "host_no_of_listing                                0.209945  \n",
       "Identity                                          0.023313  \n",
       "Email address                                     0.213788  \n",
       "Phone number                                           NaN  \n",
       "Work email                                        0.181004  \n",
       "host_hosting_duration_months                      1.000000  "
      ]
     },
     "execution_count": 37,
     "metadata": {},
     "output_type": "execute_result"
    }
   ],
   "source": [
    "host_df.select_dtypes('number').corr()"
   ]
  },
  {
   "cell_type": "code",
   "execution_count": 39,
   "metadata": {},
   "outputs": [],
   "source": [
    "host_df.to_csv('./all_unique_hosts_info.csv',index=False)"
   ]
  },
  {
   "cell_type": "code",
   "execution_count": null,
   "metadata": {},
   "outputs": [],
   "source": []
  },
  {
   "cell_type": "code",
   "execution_count": 2,
   "metadata": {},
   "outputs": [],
   "source": [
    "import json"
   ]
  },
  {
   "cell_type": "code",
   "execution_count": 5,
   "metadata": {},
   "outputs": [
    {
     "data": {
      "text/plain": [
       "\"//span[@class='tyi4kqb atm_c8_km0zk7 atm_g3_18khvle atm_fr_1m9t47k atm_cs_9dzvea dir dir-ltr']\""
      ]
     },
     "execution_count": 5,
     "metadata": {},
     "output_type": "execute_result"
    }
   ],
   "source": []
  },
  {
   "cell_type": "code",
   "execution_count": null,
   "metadata": {},
   "outputs": [],
   "source": []
  }
 ],
 "metadata": {
  "kernelspec": {
   "display_name": "Python 3",
   "language": "python",
   "name": "python3"
  },
  "language_info": {
   "codemirror_mode": {
    "name": "ipython",
    "version": 3
   },
   "file_extension": ".py",
   "mimetype": "text/x-python",
   "name": "python",
   "nbconvert_exporter": "python",
   "pygments_lexer": "ipython3",
   "version": "3.10.7"
  }
 },
 "nbformat": 4,
 "nbformat_minor": 2
}
