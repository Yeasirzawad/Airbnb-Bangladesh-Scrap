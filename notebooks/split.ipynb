{
 "cells": [
  {
   "cell_type": "code",
   "execution_count": 2,
   "metadata": {},
   "outputs": [],
   "source": [
    "import pandas as pd"
   ]
  },
  {
   "cell_type": "code",
   "execution_count": 3,
   "metadata": {},
   "outputs": [],
   "source": [
    "merged_df = pd.read_csv('../data/merged/merged_airbnb_2.csv')"
   ]
  },
  {
   "cell_type": "code",
   "execution_count": 4,
   "metadata": {},
   "outputs": [],
   "source": [
    "\n",
    "def extract_lat_lng(url):\n",
    "    if isinstance(url, str):  \n",
    "        params = url.split('?')[1].split('&')\n",
    "        latitude = None\n",
    "        longitude = None\n",
    "        for param in params:\n",
    "            key_value = param.split('=')\n",
    "            if key_value[0] == 'll':\n",
    "                lat_lng = key_value[1].split(',')\n",
    "                latitude = float(lat_lng[0])\n",
    "                longitude = float(lat_lng[1])\n",
    "                break\n",
    "        return latitude, longitude\n",
    "    else:\n",
    "        return None, None  "
   ]
  },
  {
   "cell_type": "code",
   "execution_count": 5,
   "metadata": {},
   "outputs": [],
   "source": [
    "\n",
    "\n",
    "merged_df[['latitude', 'longitude']] = merged_df['google_map_location_link'].apply(lambda x: pd.Series(extract_lat_lng(x)))\n",
    "\n",
    "\n"
   ]
  },
  {
   "cell_type": "code",
   "execution_count": 6,
   "metadata": {},
   "outputs": [
    {
     "data": {
      "text/plain": [
       "(1578, 21)"
      ]
     },
     "execution_count": 6,
     "metadata": {},
     "output_type": "execute_result"
    }
   ],
   "source": [
    "merged_df.shape"
   ]
  },
  {
   "cell_type": "code",
   "execution_count": 7,
   "metadata": {},
   "outputs": [],
   "source": [
    "merged_df_croped = merged_df[['listing_link','latitude','longitude']]"
   ]
  },
  {
   "cell_type": "code",
   "execution_count": 8,
   "metadata": {},
   "outputs": [
    {
     "data": {
      "text/html": [
       "<div>\n",
       "<style scoped>\n",
       "    .dataframe tbody tr th:only-of-type {\n",
       "        vertical-align: middle;\n",
       "    }\n",
       "\n",
       "    .dataframe tbody tr th {\n",
       "        vertical-align: top;\n",
       "    }\n",
       "\n",
       "    .dataframe thead th {\n",
       "        text-align: right;\n",
       "    }\n",
       "</style>\n",
       "<table border=\"1\" class=\"dataframe\">\n",
       "  <thead>\n",
       "    <tr style=\"text-align: right;\">\n",
       "      <th></th>\n",
       "      <th>listing_link</th>\n",
       "      <th>latitude</th>\n",
       "      <th>longitude</th>\n",
       "    </tr>\n",
       "  </thead>\n",
       "  <tbody>\n",
       "    <tr>\n",
       "      <th>0</th>\n",
       "      <td>https://www.airbnb.com/rooms/31699739?adults=1...</td>\n",
       "      <td>24.778140</td>\n",
       "      <td>90.368330</td>\n",
       "    </tr>\n",
       "    <tr>\n",
       "      <th>1</th>\n",
       "      <td>https://www.airbnb.com/rooms/94052072774264244...</td>\n",
       "      <td>24.698140</td>\n",
       "      <td>90.433410</td>\n",
       "    </tr>\n",
       "    <tr>\n",
       "      <th>2</th>\n",
       "      <td>https://www.airbnb.com/rooms/10463077937269931...</td>\n",
       "      <td>24.757100</td>\n",
       "      <td>90.401200</td>\n",
       "    </tr>\n",
       "    <tr>\n",
       "      <th>3</th>\n",
       "      <td>https://www.airbnb.com/rooms/93979221326458612...</td>\n",
       "      <td>24.757807</td>\n",
       "      <td>90.394817</td>\n",
       "    </tr>\n",
       "    <tr>\n",
       "      <th>4</th>\n",
       "      <td>https://www.airbnb.com/rooms/93979244890044911...</td>\n",
       "      <td>24.757011</td>\n",
       "      <td>90.394424</td>\n",
       "    </tr>\n",
       "    <tr>\n",
       "      <th>...</th>\n",
       "      <td>...</td>\n",
       "      <td>...</td>\n",
       "      <td>...</td>\n",
       "    </tr>\n",
       "    <tr>\n",
       "      <th>1573</th>\n",
       "      <td>https://www.airbnb.com/rooms/10257503846395791...</td>\n",
       "      <td>22.778333</td>\n",
       "      <td>89.724451</td>\n",
       "    </tr>\n",
       "    <tr>\n",
       "      <th>1574</th>\n",
       "      <td>https://www.airbnb.com/rooms/52017590?adults=1...</td>\n",
       "      <td>22.590000</td>\n",
       "      <td>89.848400</td>\n",
       "    </tr>\n",
       "    <tr>\n",
       "      <th>1575</th>\n",
       "      <td>https://www.airbnb.com/rooms/11301829800703733...</td>\n",
       "      <td>22.702143</td>\n",
       "      <td>90.371497</td>\n",
       "    </tr>\n",
       "    <tr>\n",
       "      <th>1576</th>\n",
       "      <td>https://www.airbnb.com/rooms/53844727?adults=1...</td>\n",
       "      <td>21.818050</td>\n",
       "      <td>90.121490</td>\n",
       "    </tr>\n",
       "    <tr>\n",
       "      <th>1577</th>\n",
       "      <td>https://www.airbnb.com/rooms/51131644?adults=1...</td>\n",
       "      <td>22.721640</td>\n",
       "      <td>90.368900</td>\n",
       "    </tr>\n",
       "  </tbody>\n",
       "</table>\n",
       "<p>1578 rows × 3 columns</p>\n",
       "</div>"
      ],
      "text/plain": [
       "                                           listing_link   latitude  longitude\n",
       "0     https://www.airbnb.com/rooms/31699739?adults=1...  24.778140  90.368330\n",
       "1     https://www.airbnb.com/rooms/94052072774264244...  24.698140  90.433410\n",
       "2     https://www.airbnb.com/rooms/10463077937269931...  24.757100  90.401200\n",
       "3     https://www.airbnb.com/rooms/93979221326458612...  24.757807  90.394817\n",
       "4     https://www.airbnb.com/rooms/93979244890044911...  24.757011  90.394424\n",
       "...                                                 ...        ...        ...\n",
       "1573  https://www.airbnb.com/rooms/10257503846395791...  22.778333  89.724451\n",
       "1574  https://www.airbnb.com/rooms/52017590?adults=1...  22.590000  89.848400\n",
       "1575  https://www.airbnb.com/rooms/11301829800703733...  22.702143  90.371497\n",
       "1576  https://www.airbnb.com/rooms/53844727?adults=1...  21.818050  90.121490\n",
       "1577  https://www.airbnb.com/rooms/51131644?adults=1...  22.721640  90.368900\n",
       "\n",
       "[1578 rows x 3 columns]"
      ]
     },
     "execution_count": 8,
     "metadata": {},
     "output_type": "execute_result"
    }
   ],
   "source": [
    "merged_df_croped"
   ]
  },
  {
   "cell_type": "code",
   "execution_count": 9,
   "metadata": {},
   "outputs": [],
   "source": [
    "merged_df_croped.to_csv('../data/splited/location_crop.csv',index=False)"
   ]
  },
  {
   "cell_type": "code",
   "execution_count": 1,
   "metadata": {},
   "outputs": [
    {
     "ename": "NameError",
     "evalue": "name 'merged_df_croped' is not defined",
     "output_type": "error",
     "traceback": [
      "\u001b[1;31m---------------------------------------------------------------------------\u001b[0m",
      "\u001b[1;31mNameError\u001b[0m                                 Traceback (most recent call last)",
      "Cell \u001b[1;32mIn [1], line 1\u001b[0m\n\u001b[1;32m----> 1\u001b[0m \u001b[43mmerged_df_croped\u001b[49m\n",
      "\u001b[1;31mNameError\u001b[0m: name 'merged_df_croped' is not defined"
     ]
    }
   ],
   "source": [
    "merged_df_croped"
   ]
  },
  {
   "cell_type": "code",
   "execution_count": 32,
   "metadata": {},
   "outputs": [],
   "source": [
    "\n",
    "chunk_size = 90\n",
    "\n",
    "# Loop through the DataFrame and save chunks to CSV files\n",
    "for i in range(0, merged_df_croped.shape[0], chunk_size):\n",
    "    chunk = merged_df_croped.iloc[i:i + chunk_size]\n",
    "    chunk.to_csv(f'../data/splited/merge_df_chunk_{i//chunk_size + 1}.csv', index=False)"
   ]
  },
  {
   "cell_type": "code",
   "execution_count": null,
   "metadata": {},
   "outputs": [],
   "source": []
  }
 ],
 "metadata": {
  "kernelspec": {
   "display_name": "Python 3",
   "language": "python",
   "name": "python3"
  },
  "language_info": {
   "codemirror_mode": {
    "name": "ipython",
    "version": 3
   },
   "file_extension": ".py",
   "mimetype": "text/x-python",
   "name": "python",
   "nbconvert_exporter": "python",
   "pygments_lexer": "ipython3",
   "version": "3.10.7"
  }
 },
 "nbformat": 4,
 "nbformat_minor": 2
}
