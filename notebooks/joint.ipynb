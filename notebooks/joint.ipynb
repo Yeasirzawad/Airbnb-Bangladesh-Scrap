{
 "cells": [
  {
   "cell_type": "code",
   "execution_count": 1,
   "metadata": {},
   "outputs": [],
   "source": [
    "import pandas as pd\n",
    "import numpy as np"
   ]
  },
  {
   "cell_type": "code",
   "execution_count": 2,
   "metadata": {},
   "outputs": [],
   "source": [
    "airbnb_listing = pd.read_csv('./merged_airbnb.csv')"
   ]
  },
  {
   "cell_type": "code",
   "execution_count": 4,
   "metadata": {},
   "outputs": [
    {
     "data": {
      "text/plain": [
       "0       https://www.airbnb.com/users/show/513745807\n",
       "1       https://www.airbnb.com/users/show/483375765\n",
       "2       https://www.airbnb.com/users/show/193917847\n",
       "3       https://www.airbnb.com/users/show/249410653\n",
       "4       https://www.airbnb.com/users/show/196272404\n",
       "                           ...                     \n",
       "1425    https://www.airbnb.com/users/show/126063499\n",
       "1426    https://www.airbnb.com/users/show/117580222\n",
       "1427    https://www.airbnb.com/users/show/566943528\n",
       "1428    https://www.airbnb.com/users/show/337730115\n",
       "1429    https://www.airbnb.com/users/show/413792589\n",
       "Name: host_link, Length: 1430, dtype: object"
      ]
     },
     "execution_count": 4,
     "metadata": {},
     "output_type": "execute_result"
    }
   ],
   "source": [
    "airbnb_listing['host_link']"
   ]
  },
  {
   "cell_type": "code",
   "execution_count": 5,
   "metadata": {},
   "outputs": [],
   "source": [
    "host_df = pd.read_csv('./all_unique_hosts_info.csv')"
   ]
  },
  {
   "cell_type": "code",
   "execution_count": 6,
   "metadata": {},
   "outputs": [
    {
     "data": {
      "text/plain": [
       "0      https://www.airbnb.com/users/show/513745807\n",
       "1      https://www.airbnb.com/users/show/483375765\n",
       "2      https://www.airbnb.com/users/show/193917847\n",
       "3      https://www.airbnb.com/users/show/249410653\n",
       "4      https://www.airbnb.com/users/show/196272404\n",
       "                          ...                     \n",
       "745    https://www.airbnb.com/users/show/483012730\n",
       "746    https://www.airbnb.com/users/show/550606390\n",
       "747    https://www.airbnb.com/users/show/579728827\n",
       "748    https://www.airbnb.com/users/show/308478632\n",
       "749    https://www.airbnb.com/users/show/436725323\n",
       "Name: host_link, Length: 750, dtype: object"
      ]
     },
     "execution_count": 6,
     "metadata": {},
     "output_type": "execute_result"
    }
   ],
   "source": [
    "host_df['host_link']"
   ]
  },
  {
   "cell_type": "code",
   "execution_count": 7,
   "metadata": {},
   "outputs": [],
   "source": [
    "merged_airbnb_host = pd.merge(airbnb_listing, host_df, on='host_link', how='inner')"
   ]
  },
  {
   "cell_type": "code",
   "execution_count": 10,
   "metadata": {},
   "outputs": [
    {
     "name": "stdout",
     "output_type": "stream",
     "text": [
      "<class 'pandas.core.frame.DataFrame'>\n",
      "RangeIndex: 1428 entries, 0 to 1427\n",
      "Data columns (total 28 columns):\n",
      " #   Column                        Non-Null Count  Dtype  \n",
      "---  ------                        --------------  -----  \n",
      " 0   listing_link                  1428 non-null   object \n",
      " 1   searched_location             1428 non-null   object \n",
      " 2   title_bed_bats_review         1428 non-null   object \n",
      " 3   price_per_night               900 non-null    object \n",
      " 4   review_count                  533 non-null    object \n",
      " 5   review_count_link             533 non-null    object \n",
      " 6   host_link                     1428 non-null   object \n",
      " 7   host_response_rate            989 non-null    object \n",
      " 8   listing_description           868 non-null    object \n",
      " 9   cleanliness_ratings           378 non-null    float64\n",
      " 10  accuracy_ratings              378 non-null    float64\n",
      " 11  check-in_ratings              378 non-null    float64\n",
      " 12  communication_ratings         378 non-null    float64\n",
      " 13  location_ratings              378 non-null    float64\n",
      " 14  value_ratings                 378 non-null    float64\n",
      " 15  google_map_location_link      1416 non-null   object \n",
      " 16  facilities                    1427 non-null   object \n",
      " 17  host_name                     1423 non-null   object \n",
      " 18  host_rating                   1016 non-null   float64\n",
      " 19  host_no_of_review             1080 non-null   float64\n",
      " 20  host_no_of_listing            1428 non-null   int64  \n",
      " 21  host_listing_links            1427 non-null   object \n",
      " 22  host_about                    1297 non-null   object \n",
      " 23  Identity                      1428 non-null   int64  \n",
      " 24  Email address                 1428 non-null   int64  \n",
      " 25  Phone number                  1428 non-null   int64  \n",
      " 26  Work email                    1428 non-null   int64  \n",
      " 27  host_hosting_duration_months  1310 non-null   float64\n",
      "dtypes: float64(9), int64(5), object(14)\n",
      "memory usage: 312.5+ KB\n"
     ]
    }
   ],
   "source": [
    "merged_airbnb_host.info()"
   ]
  },
  {
   "cell_type": "code",
   "execution_count": 11,
   "metadata": {},
   "outputs": [],
   "source": [
    "merged_airbnb_host.to_csv('./merged_airbnb_host.csv',index=False)"
   ]
  },
  {
   "cell_type": "code",
   "execution_count": null,
   "metadata": {},
   "outputs": [],
   "source": []
  }
 ],
 "metadata": {
  "kernelspec": {
   "display_name": "Python 3",
   "language": "python",
   "name": "python3"
  },
  "language_info": {
   "codemirror_mode": {
    "name": "ipython",
    "version": 3
   },
   "file_extension": ".py",
   "mimetype": "text/x-python",
   "name": "python",
   "nbconvert_exporter": "python",
   "pygments_lexer": "ipython3",
   "version": "3.10.7"
  }
 },
 "nbformat": 4,
 "nbformat_minor": 2
}
