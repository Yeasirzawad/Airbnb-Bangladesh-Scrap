{
 "cells": [
  {
   "cell_type": "code",
   "execution_count": 1,
   "metadata": {},
   "outputs": [],
   "source": [
    "import pandas as pd\n",
    "import numpy as np"
   ]
  },
  {
   "cell_type": "code",
   "execution_count": 3,
   "metadata": {},
   "outputs": [],
   "source": [
    "airbnb_listing = pd.read_csv(\"../data/merged/merged_airbnb_2.csv\")"
   ]
  },
  {
   "cell_type": "code",
   "execution_count": 4,
   "metadata": {},
   "outputs": [
    {
     "data": {
      "text/plain": [
       "0       https://www.airbnb.com/users/show/165101119\n",
       "1        https://www.airbnb.com/users/show/45832328\n",
       "2       https://www.airbnb.com/users/show/199048845\n",
       "3        https://www.airbnb.com/users/show/45832328\n",
       "4        https://www.airbnb.com/users/show/45832328\n",
       "                           ...                     \n",
       "1573    https://www.airbnb.com/users/show/126063499\n",
       "1574    https://www.airbnb.com/users/show/117580222\n",
       "1575    https://www.airbnb.com/users/show/566943528\n",
       "1576    https://www.airbnb.com/users/show/337730115\n",
       "1577    https://www.airbnb.com/users/show/413792589\n",
       "Name: host_link, Length: 1578, dtype: object"
      ]
     },
     "execution_count": 4,
     "metadata": {},
     "output_type": "execute_result"
    }
   ],
   "source": [
    "airbnb_listing['host_link']"
   ]
  },
  {
   "cell_type": "code",
   "execution_count": 5,
   "metadata": {},
   "outputs": [],
   "source": [
    "host_df = pd.read_csv('../data/host_csvs/host_all.csv')"
   ]
  },
  {
   "cell_type": "code",
   "execution_count": 6,
   "metadata": {},
   "outputs": [
    {
     "data": {
      "text/plain": [
       "0      https://www.airbnb.com/users/show/513745807\n",
       "1      https://www.airbnb.com/users/show/483375765\n",
       "2      https://www.airbnb.com/users/show/193917847\n",
       "3      https://www.airbnb.com/users/show/249410653\n",
       "4      https://www.airbnb.com/users/show/196272404\n",
       "                          ...                     \n",
       "874    https://www.airbnb.com/users/show/483012730\n",
       "875    https://www.airbnb.com/users/show/550606390\n",
       "876    https://www.airbnb.com/users/show/579728827\n",
       "877    https://www.airbnb.com/users/show/308478632\n",
       "878    https://www.airbnb.com/users/show/436725323\n",
       "Name: host_link, Length: 879, dtype: object"
      ]
     },
     "execution_count": 6,
     "metadata": {},
     "output_type": "execute_result"
    }
   ],
   "source": [
    "host_df['host_link']"
   ]
  },
  {
   "cell_type": "code",
   "execution_count": 7,
   "metadata": {},
   "outputs": [],
   "source": [
    "merged_airbnb_host = pd.merge(airbnb_listing, host_df, on='host_link', how='inner')"
   ]
  },
  {
   "cell_type": "code",
   "execution_count": 12,
   "metadata": {},
   "outputs": [
    {
     "data": {
      "text/plain": [
       "(1853, 28)"
      ]
     },
     "execution_count": 12,
     "metadata": {},
     "output_type": "execute_result"
    }
   ],
   "source": [
    "merged_airbnb_host.shape"
   ]
  },
  {
   "cell_type": "code",
   "execution_count": 9,
   "metadata": {},
   "outputs": [],
   "source": [
    "merged_airbnb_host.to_csv(\"../data/merged/merged_airbnb_host_main.csv\",index=False)"
   ]
  },
  {
   "cell_type": "code",
   "execution_count": 10,
   "metadata": {},
   "outputs": [],
   "source": [
    "df = pd.read_csv('../data/merged/merged_airbnb_host_main.csv')"
   ]
  },
  {
   "cell_type": "code",
   "execution_count": 17,
   "metadata": {},
   "outputs": [],
   "source": [
    "df.drop_duplicates(subset=\"base_urls\",inplace= True)"
   ]
  },
  {
   "cell_type": "code",
   "execution_count": 20,
   "metadata": {},
   "outputs": [],
   "source": [
    "df.to_csv(\"../data/merged/merged_main.csv\",index= False)"
   ]
  },
  {
   "cell_type": "code",
   "execution_count": 21,
   "metadata": {},
   "outputs": [
    {
     "data": {
      "text/plain": [
       "host_name\n",
       "Md. Gias          217\n",
       "Aafwan             33\n",
       "Robin              27\n",
       "JatraRooms         26\n",
       "Farhad Holding     19\n",
       "                 ... \n",
       "Nasif Ashraf        1\n",
       "MD. Anisur          1\n",
       "Shahna              1\n",
       "Syd                 1\n",
       "Md Forkanun         1\n",
       "Name: count, Length: 735, dtype: int64"
      ]
     },
     "execution_count": 21,
     "metadata": {},
     "output_type": "execute_result"
    }
   ],
   "source": [
    "df[\"host_name\"].value_counts()"
   ]
  },
  {
   "cell_type": "code",
   "execution_count": null,
   "metadata": {},
   "outputs": [],
   "source": []
  }
 ],
 "metadata": {
  "kernelspec": {
   "display_name": "Python 3",
   "language": "python",
   "name": "python3"
  },
  "language_info": {
   "codemirror_mode": {
    "name": "ipython",
    "version": 3
   },
   "file_extension": ".py",
   "mimetype": "text/x-python",
   "name": "python",
   "nbconvert_exporter": "python",
   "pygments_lexer": "ipython3",
   "version": "3.11.7"
  }
 },
 "nbformat": 4,
 "nbformat_minor": 2
}
