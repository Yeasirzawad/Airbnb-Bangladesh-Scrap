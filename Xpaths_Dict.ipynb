{
 "cells": [
  {
   "cell_type": "code",
   "execution_count": null,
   "metadata": {},
   "outputs": [],
   "source": [
    "import pandas as pd\n",
    "import os\n",
    "import re\n",
    "from selenium import webdriver\n",
    "from selenium.webdriver.common.by import By\n",
    "import time"
   ]
  },
  {
   "cell_type": "code",
   "execution_count": 15,
   "metadata": {},
   "outputs": [
    {
     "ename": "SyntaxError",
     "evalue": "invalid decimal literal (xpaths.py, line 16)",
     "output_type": "error",
     "traceback": [
      "Traceback \u001b[1;36m(most recent call last)\u001b[0m:\n",
      "\u001b[0m  File \u001b[0;32mc:\\ProgramData\\anaconda3\\Lib\\site-packages\\IPython\\core\\interactiveshell.py:3553\u001b[0m in \u001b[0;35mrun_code\u001b[0m\n    exec(code_obj, self.user_global_ns, self.user_ns)\u001b[0m\n",
      "\u001b[1;36m  Cell \u001b[1;32mIn[15], line 1\u001b[1;36m\n\u001b[1;33m    from xpaths import xpaths_dict\u001b[1;36m\n",
      "\u001b[1;36m  File \u001b[1;32md:\\Sifat\\AirBNB\\xpaths.py:16\u001b[1;36m\u001b[0m\n\u001b[1;33m    >>>>>>> 90f98dc9fa99421d5e1227178384df5215f92d5d\u001b[0m\n\u001b[1;37m             ^\u001b[0m\n\u001b[1;31mSyntaxError\u001b[0m\u001b[1;31m:\u001b[0m invalid decimal literal\n"
     ]
    }
   ],
   "source": [
    "from xpaths import xpaths_dict\n"
   ]
  },
  {
   "cell_type": "code",
   "execution_count": null,
   "metadata": {},
   "outputs": [],
   "source": [
    "# Initialize the webdriver (make sure to specify the path to your webdriver executable)\n",
    "driver = webdriver.Chrome()\n",
    "driver.maximize_window()\n",
    "\n",
    "# Open the webpage\n",
    "\n",
    "driver.get('https://www.airbnb.com/rooms/1000726311681971865?adults=1&category_tag=Tag%3A8678&children=0&enable_m3_private_room=true&infants=0&pets=0&photo_id=1809749827&search_mode=regular_search&check_in=2024-06-18&check_out=2024-06-23&source_impression_id=p3_1718264597_P3l_vZ1J4wc8Bdsn&previous_page_section_name=1000&federated_search_id=89526df2-6217-4279-94f1-79aecbc3abc3')\n",
    "time.sleep(1)\n",
    "# Find the section within the specified div\n",
    "\n",
    "button_element = driver.find_element(By.XPATH,\"//div[@class='sx1pl6d atm_h3_8tjzot dir dir-ltr']/button\")\n",
    "button_element.click()\n",
    "time.sleep(1)\n",
    "section_element = driver.find_element(By.XPATH, '//div[@data-section-id=\"DESCRIPTION_MODAL\"]/section')\n",
    "# Extract all the text content of the section\n",
    "section_text = section_element.text\n",
    "print(section_text)\n",
    "time.sleep(1)\n",
    "button_close = driver.find_element(By.XPATH, \"//button[@aria-label='Close']\")\n",
    "button_close.click()\n",
    "# Close the webdriver\n",
    "driver.quit()\n"
   ]
  },
  {
   "cell_type": "code",
   "execution_count": null,
   "metadata": {},
   "outputs": [],
   "source": [
    "    \"host_link_Xpath\": \"//div[@class='colzjmk atm_mk_stnw88 atm_tk_idpfg4 atm_6i_idpfg4 atm_fq_idpfg4 atm_n3_idpfg4 dir dir-ltr']/a\",\n",
    "    \"response_rate_Xpath\": \"//div[@class='h1geptgj atm_9s_1txwivl atm_ar_1bp4okc atm_cx_exct8b dir dir-ltr']/div[1]\",\n",
    "    \"facilities_xpath\": \"//div[@class='twad414 atm_7l_jt7fhx atm_9j_1kw7nm4 atm_bx_48h72j atm_c8_2x1prs atm_g3_1jbyh58 atm_fr_11a07z3 dir dir-ltr']\"\n",
    "    \"facilities_button_xpath\":\"//button[@class='l1ovpqvx atm_1he2i46_1k8pnbi_10saat9 atm_yxpdqi_1pv6nv4_10saat9 atm_1a0hdzc_w1h1e8_10saat9 atm_2bu6ew_929bqk_10saat9 atm_12oyo1u_73u7pn_10saat9 atm_fiaz40_1etamxe_10saat9 b65jmrv atm_9j_tlke0l atm_9s_1o8liyq atm_gi_idpfg4 atm_mk_h2mmj6 atm_r3_1h6ojuz atm_rd_glywfm atm_3f_uuagnh atm_70_5j5alw atm_vy_1wugsn5 atm_tl_1gw4zv3 atm_9j_13gfvf7_1o5j5ji v7aged4 atm_bx_48h72j atm_c8_2x1prs atm_g3_1jbyh58 atm_cs_9dzvea atm_5j_t09oo2 atm_6h_t94yts atm_66_nqa18y atm_uc_1c5iv21 atm_kd_glywfm atm_4b_dezgoh atm_26_1p8m8iw atm_7l_dezgoh atm_l8_1vkzbvs atm_uc_glywfm__1rrf6b5 atm_3f_glywfm_jo46a5 atm_l8_idpfg4_jo46a5 atm_gi_idpfg4_jo46a5 atm_3f_glywfm_1icshfk atm_kd_glywfm_19774hq atm_uc_aaiy6o_1w3cfyq atm_uc_glywfm_1w3cfyq_1rrf6b5 atm_uc_aaiy6o_pfnrn2_1oszvuo atm_uc_glywfm_pfnrn2_1o31aam atm_tr_18md41p_csw3t1 atm_k4_kb7nvz_1o5j5ji atm_4b_dezgoh_1w3cfyq atm_7l_dezgoh_1w3cfyq atm_70_1x1xnix_1w3cfyq atm_4b_dezgoh_pfnrn2_1oszvuo atm_7l_dezgoh_pfnrn2_1oszvuo atm_70_1x1xnix_pfnrn2_1oszvuo atm_4b_1cpjb8p_1nos8r atm_26_116dmco_1nos8r atm_7l_dezgoh_1nos8r atm_4b_1cpjb8p_csw3t1 atm_26_116dmco_csw3t1 atm_7l_dezgoh_csw3t1 atm_4b_1oqmvsg_1o5j5ji atm_26_1p8m8iw_1o5j5ji atm_7l_1oqmvsg_1o5j5ji dir dir-ltr']\","
   ]
  },
  {
   "cell_type": "code",
   "execution_count": null,
   "metadata": {},
   "outputs": [],
   "source": [
    "for listing in df['listing_link']:\n",
    "    driver.get(listing)\n",
    "    time.sleep(2)\n",
    "\n",
    "    try:\n",
    "        host_link = driver.find_element('xpath',xpaths_dict[\"host_link_Xpath\"])\n",
    "    except:\n",
    "        "
   ]
  },
  {
   "cell_type": "code",
   "execution_count": null,
   "metadata": {},
   "outputs": [],
   "source": []
  },
  {
   "cell_type": "code",
   "execution_count": null,
   "metadata": {},
   "outputs": [],
   "source": []
  }
 ],
 "metadata": {
  "kernelspec": {
   "display_name": "base",
   "language": "python",
   "name": "python3"
  },
  "language_info": {
   "codemirror_mode": {
    "name": "ipython",
    "version": 3
   },
   "file_extension": ".py",
   "mimetype": "text/x-python",
   "name": "python",
   "nbconvert_exporter": "python",
   "pygments_lexer": "ipython3",
   "version": "3.11.7"
  }
 },
 "nbformat": 4,
 "nbformat_minor": 2
}
