{
 "cells": [
  {
   "cell_type": "code",
   "execution_count": 2,
   "metadata": {},
   "outputs": [],
   "source": [
    "import pandas as pd\n",
    "import os\n",
    "import re\n",
    "from selenium import webdriver\n",
    "from selenium.webdriver.common.by import By\n",
    "import time"
   ]
  },
  {
   "cell_type": "code",
   "execution_count": 3,
   "metadata": {},
   "outputs": [],
   "source": [
    "df = pd.read_csv('./links.csv')"
   ]
  },
  {
   "cell_type": "code",
   "execution_count": null,
   "metadata": {},
   "outputs": [],
   "source": []
  },
  {
   "cell_type": "code",
   "execution_count": 4,
   "metadata": {},
   "outputs": [],
   "source": [
    "from xpaths import xpaths_dict"
   ]
  },
  {
   "cell_type": "code",
   "execution_count": 5,
   "metadata": {},
   "outputs": [
    {
     "data": {
      "text/plain": [
       "\"//a[@title='Open this area in Google Maps (opens a new window)']\""
      ]
     },
     "execution_count": 5,
     "metadata": {},
     "output_type": "execute_result"
    }
   ],
   "source": [
    "xpaths_dict['lat-lon-link']"
   ]
  },
  {
   "cell_type": "code",
   "execution_count": 6,
   "metadata": {},
   "outputs": [],
   "source": [
    "from selenium import webdriver\n",
    "from selenium.webdriver.common.by import By\n",
    "from selenium.webdriver.support.ui import WebDriverWait\n",
    "from selenium.webdriver.support import expected_conditions as EC\n",
    "import time\n",
    "import pandas as pd\n"
   ]
  },
  {
   "cell_type": "code",
   "execution_count": null,
   "metadata": {},
   "outputs": [],
   "source": []
  },
  {
   "cell_type": "code",
   "execution_count": null,
   "metadata": {},
   "outputs": [],
   "source": [
    "# Initialize the WebDriver\n",
    "driver = webdriver.Chrome()\n",
    "driver.maximize_window()\n",
    "\n",
    "# Loop through each listing in the DataFrame\n",
    "for listing in df['listing_link']:\n",
    "    driver.get(listing)\n",
    "    time.sleep(2)\n",
    "\n",
    "    try:\n",
    "        title_bed_bats_review = driver.find_element('xpath',xpaths_dict['title_bed_bats_review'])\n",
    "        print(title_bed_bats_review.get_attribute('content'))\n",
    "    except:\n",
    "        print(\"no Meta\")\n",
    "\n",
    "    try:\n",
    "        google_map_location = driver.find_element('xpath',xpaths_dict['lat-lon-link'])\n",
    "        google_map_location_link = google_map_location.get_attribute('href')\n",
    "        print(google_map_location_link)\n",
    "    \n",
    "    except:\n",
    "        print(\"no google map link\")"
   ]
  },
  {
   "cell_type": "code",
   "execution_count": 8,
   "metadata": {},
   "outputs": [
    {
     "name": "stdout",
     "output_type": "stream",
     "text": [
      "https://maps.google.com/maps?ll=22.6552,89.778&z=14&t=m&hl=en&gl=BD&mapclient=apiv3\n",
      "https://maps.google.com/maps?ll=22.778333,89.724451&z=14&t=m&hl=en&gl=BD&mapclient=apiv3\n",
      "no google map link\n",
      "no google map link\n",
      "no google map link\n",
      "no google map link\n",
      "no google map link\n",
      "no google map link\n",
      "no google map link\n",
      "no google map link\n",
      "no google map link\n",
      "https://maps.google.com/maps?ll=22.8197,89.5569&z=14&t=m&hl=en&gl=BD&mapclient=apiv3\n",
      "https://maps.google.com/maps?ll=22.83205,89.54618&z=14&t=m&hl=en&gl=BD&mapclient=apiv3\n",
      "https://maps.google.com/maps?ll=22.8189,89.5421&z=14&t=m&hl=en&gl=BD&mapclient=apiv3\n",
      "https://maps.google.com/maps?ll=22.535523,89.868471&z=14&t=m&hl=en&gl=BD&mapclient=apiv3\n",
      "https://maps.google.com/maps?ll=22.81923,89.54771&z=14&t=m&hl=en&gl=BD&mapclient=apiv3\n",
      "https://maps.google.com/maps?ll=22.45744,89.54549&z=14&t=m&hl=en&gl=BD&mapclient=apiv3\n",
      "https://maps.google.com/maps?ll=22.80615,89.54297&z=14&t=m&hl=en&gl=BD&mapclient=apiv3\n",
      "no google map link\n",
      "no google map link\n",
      "no google map link\n",
      "https://maps.google.com/maps?ll=22.86254,89.53493&z=14&t=m&hl=en&gl=BD&mapclient=apiv3\n",
      "no google map link\n",
      "https://maps.google.com/maps?ll=22.83201,89.5469&z=14&t=m&hl=en&gl=BD&mapclient=apiv3\n",
      "https://maps.google.com/maps?ll=22.807863,89.560234&z=14&t=m&hl=en&gl=BD&mapclient=apiv3\n",
      "https://maps.google.com/maps?ll=22.7442,90.09845&z=14&t=m&hl=en&gl=BD&mapclient=apiv3\n",
      "https://maps.google.com/maps?ll=22.82278,89.54021&z=14&t=m&hl=en&gl=BD&mapclient=apiv3\n",
      "https://maps.google.com/maps?ll=22.79599,89.55649&z=14&t=m&hl=en&gl=BD&mapclient=apiv3\n",
      "https://maps.google.com/maps?ll=22.82129,89.55517&z=14&t=m&hl=en&gl=BD&mapclient=apiv3\n",
      "https://maps.google.com/maps?ll=22.8016,89.5525&z=14&t=m&hl=en&gl=BD&mapclient=apiv3\n",
      "https://maps.google.com/maps?ll=22.81168,89.55601&z=14&t=m&hl=en&gl=BD&mapclient=apiv3\n",
      "https://maps.google.com/maps?ll=22.82447,89.54891&z=14&t=m&hl=en&gl=BD&mapclient=apiv3\n",
      "https://maps.google.com/maps?ll=22.8072,89.55053&z=14&t=m&hl=en&gl=BD&mapclient=apiv3\n",
      "https://maps.google.com/maps?ll=22.8003,89.5398&z=14&t=m&hl=en&gl=BD&mapclient=apiv3\n",
      "https://maps.google.com/maps?ll=22.12616,92.14975&z=14&t=m&hl=en&gl=BD&mapclient=apiv3\n",
      "https://maps.google.com/maps?ll=22.115424,92.012332&z=14&t=m&hl=en&gl=BD&mapclient=apiv3\n"
     ]
    },
    {
     "ename": "WebDriverException",
     "evalue": "Message: disconnected: not connected to DevTools\n  (failed to check if window was closed: disconnected: not connected to DevTools)\n  (Session info: chrome=125.0.6422.142)\nStacktrace:\n\tGetHandleVerifier [0x00007FF6FF8D1F52+60322]\n\t(No symbol) [0x00007FF6FF84CEC9]\n\t(No symbol) [0x00007FF6FF707EBA]\n\t(No symbol) [0x00007FF6FF6EF1CC]\n\t(No symbol) [0x00007FF6FF6EF090]\n\t(No symbol) [0x00007FF6FF70A4E1]\n\t(No symbol) [0x00007FF6FF79B359]\n\t(No symbol) [0x00007FF6FF77BFC3]\n\t(No symbol) [0x00007FF6FF749617]\n\t(No symbol) [0x00007FF6FF74A211]\n\tGetHandleVerifier [0x00007FF6FFBE94AD+3301629]\n\tGetHandleVerifier [0x00007FF6FFC336D3+3605283]\n\tGetHandleVerifier [0x00007FF6FFC29450+3563680]\n\tGetHandleVerifier [0x00007FF6FF984326+790390]\n\t(No symbol) [0x00007FF6FF85750F]\n\t(No symbol) [0x00007FF6FF853404]\n\t(No symbol) [0x00007FF6FF853592]\n\t(No symbol) [0x00007FF6FF842F9F]\n\tBaseThreadInitThunk [0x00007FF99296257D+29]\n\tRtlUserThreadStart [0x00007FF9941AAA48+40]\n",
     "output_type": "error",
     "traceback": [
      "\u001b[1;31m---------------------------------------------------------------------------\u001b[0m",
      "\u001b[1;31mWebDriverException\u001b[0m                        Traceback (most recent call last)",
      "Cell \u001b[1;32mIn [8], line 18\u001b[0m\n\u001b[0;32m     15\u001b[0m \u001b[38;5;66;03m# Scroll through the entire page slowly\u001b[39;00m\n\u001b[0;32m     16\u001b[0m \u001b[38;5;28;01mfor\u001b[39;00m i \u001b[38;5;129;01min\u001b[39;00m \u001b[38;5;28mrange\u001b[39m(\u001b[38;5;241m0\u001b[39m, total_height, scroll_step):\n\u001b[0;32m     17\u001b[0m     \u001b[38;5;66;03m# Scroll to the current position\u001b[39;00m\n\u001b[1;32m---> 18\u001b[0m     \u001b[43mdriver\u001b[49m\u001b[38;5;241;43m.\u001b[39;49m\u001b[43mexecute_script\u001b[49m\u001b[43m(\u001b[49m\u001b[38;5;124;43mf\u001b[39;49m\u001b[38;5;124;43m\"\u001b[39;49m\u001b[38;5;124;43mwindow.scrollTo(0, \u001b[39;49m\u001b[38;5;132;43;01m{\u001b[39;49;00m\u001b[43mi\u001b[49m\u001b[38;5;132;43;01m}\u001b[39;49;00m\u001b[38;5;124;43m);\u001b[39;49m\u001b[38;5;124;43m\"\u001b[39;49m\u001b[43m)\u001b[49m\n\u001b[0;32m     19\u001b[0m     time\u001b[38;5;241m.\u001b[39msleep(\u001b[38;5;241m0.1\u001b[39m)  \u001b[38;5;66;03m# Adjust sleep time for scrolling speed\u001b[39;00m\n\u001b[0;32m     21\u001b[0m \u001b[38;5;66;03m# Optionally, wait for a few seconds to see the final position\u001b[39;00m\n",
      "File \u001b[1;32m~\\AppData\\Roaming\\Python\\Python310\\site-packages\\selenium\\webdriver\\remote\\webdriver.py:407\u001b[0m, in \u001b[0;36mWebDriver.execute_script\u001b[1;34m(self, script, *args)\u001b[0m\n\u001b[0;32m    404\u001b[0m converted_args \u001b[38;5;241m=\u001b[39m \u001b[38;5;28mlist\u001b[39m(args)\n\u001b[0;32m    405\u001b[0m command \u001b[38;5;241m=\u001b[39m Command\u001b[38;5;241m.\u001b[39mW3C_EXECUTE_SCRIPT\n\u001b[1;32m--> 407\u001b[0m \u001b[38;5;28;01mreturn\u001b[39;00m \u001b[38;5;28;43mself\u001b[39;49m\u001b[38;5;241;43m.\u001b[39;49m\u001b[43mexecute\u001b[49m\u001b[43m(\u001b[49m\u001b[43mcommand\u001b[49m\u001b[43m,\u001b[49m\u001b[43m \u001b[49m\u001b[43m{\u001b[49m\u001b[38;5;124;43m\"\u001b[39;49m\u001b[38;5;124;43mscript\u001b[39;49m\u001b[38;5;124;43m\"\u001b[39;49m\u001b[43m:\u001b[49m\u001b[43m \u001b[49m\u001b[43mscript\u001b[49m\u001b[43m,\u001b[49m\u001b[43m \u001b[49m\u001b[38;5;124;43m\"\u001b[39;49m\u001b[38;5;124;43margs\u001b[39;49m\u001b[38;5;124;43m\"\u001b[39;49m\u001b[43m:\u001b[49m\u001b[43m \u001b[49m\u001b[43mconverted_args\u001b[49m\u001b[43m}\u001b[49m\u001b[43m)\u001b[49m[\u001b[38;5;124m\"\u001b[39m\u001b[38;5;124mvalue\u001b[39m\u001b[38;5;124m\"\u001b[39m]\n",
      "File \u001b[1;32m~\\AppData\\Roaming\\Python\\Python310\\site-packages\\selenium\\webdriver\\remote\\webdriver.py:347\u001b[0m, in \u001b[0;36mWebDriver.execute\u001b[1;34m(self, driver_command, params)\u001b[0m\n\u001b[0;32m    345\u001b[0m response \u001b[38;5;241m=\u001b[39m \u001b[38;5;28mself\u001b[39m\u001b[38;5;241m.\u001b[39mcommand_executor\u001b[38;5;241m.\u001b[39mexecute(driver_command, params)\n\u001b[0;32m    346\u001b[0m \u001b[38;5;28;01mif\u001b[39;00m response:\n\u001b[1;32m--> 347\u001b[0m     \u001b[38;5;28;43mself\u001b[39;49m\u001b[38;5;241;43m.\u001b[39;49m\u001b[43merror_handler\u001b[49m\u001b[38;5;241;43m.\u001b[39;49m\u001b[43mcheck_response\u001b[49m\u001b[43m(\u001b[49m\u001b[43mresponse\u001b[49m\u001b[43m)\u001b[49m\n\u001b[0;32m    348\u001b[0m     response[\u001b[38;5;124m\"\u001b[39m\u001b[38;5;124mvalue\u001b[39m\u001b[38;5;124m\"\u001b[39m] \u001b[38;5;241m=\u001b[39m \u001b[38;5;28mself\u001b[39m\u001b[38;5;241m.\u001b[39m_unwrap_value(response\u001b[38;5;241m.\u001b[39mget(\u001b[38;5;124m\"\u001b[39m\u001b[38;5;124mvalue\u001b[39m\u001b[38;5;124m\"\u001b[39m, \u001b[38;5;28;01mNone\u001b[39;00m))\n\u001b[0;32m    349\u001b[0m     \u001b[38;5;28;01mreturn\u001b[39;00m response\n",
      "File \u001b[1;32m~\\AppData\\Roaming\\Python\\Python310\\site-packages\\selenium\\webdriver\\remote\\errorhandler.py:229\u001b[0m, in \u001b[0;36mErrorHandler.check_response\u001b[1;34m(self, response)\u001b[0m\n\u001b[0;32m    227\u001b[0m         alert_text \u001b[38;5;241m=\u001b[39m value[\u001b[38;5;124m\"\u001b[39m\u001b[38;5;124malert\u001b[39m\u001b[38;5;124m\"\u001b[39m]\u001b[38;5;241m.\u001b[39mget(\u001b[38;5;124m\"\u001b[39m\u001b[38;5;124mtext\u001b[39m\u001b[38;5;124m\"\u001b[39m)\n\u001b[0;32m    228\u001b[0m     \u001b[38;5;28;01mraise\u001b[39;00m exception_class(message, screen, stacktrace, alert_text)  \u001b[38;5;66;03m# type: ignore[call-arg]  # mypy is not smart enough here\u001b[39;00m\n\u001b[1;32m--> 229\u001b[0m \u001b[38;5;28;01mraise\u001b[39;00m exception_class(message, screen, stacktrace)\n",
      "\u001b[1;31mWebDriverException\u001b[0m: Message: disconnected: not connected to DevTools\n  (failed to check if window was closed: disconnected: not connected to DevTools)\n  (Session info: chrome=125.0.6422.142)\nStacktrace:\n\tGetHandleVerifier [0x00007FF6FF8D1F52+60322]\n\t(No symbol) [0x00007FF6FF84CEC9]\n\t(No symbol) [0x00007FF6FF707EBA]\n\t(No symbol) [0x00007FF6FF6EF1CC]\n\t(No symbol) [0x00007FF6FF6EF090]\n\t(No symbol) [0x00007FF6FF70A4E1]\n\t(No symbol) [0x00007FF6FF79B359]\n\t(No symbol) [0x00007FF6FF77BFC3]\n\t(No symbol) [0x00007FF6FF749617]\n\t(No symbol) [0x00007FF6FF74A211]\n\tGetHandleVerifier [0x00007FF6FFBE94AD+3301629]\n\tGetHandleVerifier [0x00007FF6FFC336D3+3605283]\n\tGetHandleVerifier [0x00007FF6FFC29450+3563680]\n\tGetHandleVerifier [0x00007FF6FF984326+790390]\n\t(No symbol) [0x00007FF6FF85750F]\n\t(No symbol) [0x00007FF6FF853404]\n\t(No symbol) [0x00007FF6FF853592]\n\t(No symbol) [0x00007FF6FF842F9F]\n\tBaseThreadInitThunk [0x00007FF99296257D+29]\n\tRtlUserThreadStart [0x00007FF9941AAA48+40]\n"
     ]
    }
   ],
   "source": [
    "# Initialize the WebDriver\n",
    "driver = webdriver.Chrome()\n",
    "driver.maximize_window()\n",
    "\n",
    "# Loop through each listing in the DataFrame\n",
    "for listing in df['listing_link']:\n",
    "    driver.get(listing)\n",
    "    time.sleep(2)\n",
    "\n",
    "    total_height = driver.execute_script(\"return document.body.scrollHeight\")\n",
    "\n",
    "    # Define scroll step size (adjust as needed)\n",
    "    scroll_step = 100  # pixels\n",
    "\n",
    "    # Scroll through the entire page slowly\n",
    "    for i in range(0, total_height, scroll_step):\n",
    "        # Scroll to the current position\n",
    "        driver.execute_script(f\"window.scrollTo(0, {i});\")\n",
    "        time.sleep(0.1)  # Adjust sleep time for scrolling speed\n",
    "\n",
    "    # Optionally, wait for a few seconds to see the final position\n",
    "    time.sleep(3)\n",
    "\n",
    "    try:\n",
    "        google_map_location = driver.find_element('xpath',xpaths_dict['lat-lon-link'])\n",
    "        google_map_location_link = google_map_location.get_attribute('href')\n",
    "        print(google_map_location_link)\n",
    "    \n",
    "    except:\n",
    "        print(\"no google map link\")"
   ]
  },
  {
   "cell_type": "code",
   "execution_count": null,
   "metadata": {},
   "outputs": [],
   "source": []
  }
 ],
 "metadata": {
  "kernelspec": {
   "display_name": "Python 3",
   "language": "python",
   "name": "python3"
  },
  "language_info": {
   "codemirror_mode": {
    "name": "ipython",
    "version": 3
   },
   "file_extension": ".py",
   "mimetype": "text/x-python",
   "name": "python",
   "nbconvert_exporter": "python",
   "pygments_lexer": "ipython3",
   "version": "3.10.7"
  }
 },
 "nbformat": 4,
 "nbformat_minor": 2
}
