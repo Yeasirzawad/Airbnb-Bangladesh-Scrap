{
 "cells": [
  {
   "cell_type": "code",
   "execution_count": 58,
   "metadata": {},
   "outputs": [],
   "source": [
    "import os\n",
    "import pandas as pd"
   ]
  },
  {
   "cell_type": "code",
   "execution_count": 59,
   "metadata": {},
   "outputs": [
    {
     "data": {
      "text/plain": [
       "['airbnb_0.csv',\n",
       " 'airbnb_10.csv',\n",
       " 'airbnb_100.csv',\n",
       " 'airbnb_1000.csv',\n",
       " 'airbnb_1005.csv',\n",
       " 'airbnb_1010.csv',\n",
       " 'airbnb_1015.csv',\n",
       " 'airbnb_1020.csv',\n",
       " 'airbnb_1025.csv',\n",
       " 'airbnb_1030.csv',\n",
       " 'airbnb_1035.csv',\n",
       " 'airbnb_1040.csv',\n",
       " 'airbnb_1045.csv',\n",
       " 'airbnb_105.csv',\n",
       " 'airbnb_1050.csv',\n",
       " 'airbnb_1055.csv',\n",
       " 'airbnb_1060.csv',\n",
       " 'airbnb_1065.csv',\n",
       " 'airbnb_1070.csv',\n",
       " 'airbnb_1075.csv',\n",
       " 'airbnb_1080.csv',\n",
       " 'airbnb_1085.csv',\n",
       " 'airbnb_1090.csv',\n",
       " 'airbnb_1095.csv',\n",
       " 'airbnb_110.csv',\n",
       " 'airbnb_1100.csv',\n",
       " 'airbnb_1105.csv',\n",
       " 'airbnb_1110.csv',\n",
       " 'airbnb_1115.csv',\n",
       " 'airbnb_1120.csv',\n",
       " 'airbnb_1125.csv',\n",
       " 'airbnb_1130.csv',\n",
       " 'airbnb_1135.csv',\n",
       " 'airbnb_1140.csv',\n",
       " 'airbnb_1145.csv',\n",
       " 'airbnb_115.csv',\n",
       " 'airbnb_1150.csv',\n",
       " 'airbnb_1155.csv',\n",
       " 'airbnb_1160.csv',\n",
       " 'airbnb_1165.csv',\n",
       " 'airbnb_1170.csv',\n",
       " 'airbnb_1175.csv',\n",
       " 'airbnb_1180.csv',\n",
       " 'airbnb_1185.csv',\n",
       " 'airbnb_1190.csv',\n",
       " 'airbnb_1195.csv',\n",
       " 'airbnb_120.csv',\n",
       " 'airbnb_1200.csv',\n",
       " 'airbnb_1205.csv',\n",
       " 'airbnb_1210.csv',\n",
       " 'airbnb_1215.csv',\n",
       " 'airbnb_1220.csv',\n",
       " 'airbnb_1225.csv',\n",
       " 'airbnb_1230.csv',\n",
       " 'airbnb_1235.csv',\n",
       " 'airbnb_1240.csv',\n",
       " 'airbnb_1245.csv',\n",
       " 'airbnb_125.csv',\n",
       " 'airbnb_1250.csv',\n",
       " 'airbnb_1255.csv',\n",
       " 'airbnb_1260.csv',\n",
       " 'airbnb_1265.csv',\n",
       " 'airbnb_1270.csv',\n",
       " 'airbnb_1275.csv',\n",
       " 'airbnb_1280.csv',\n",
       " 'airbnb_1285.csv',\n",
       " 'airbnb_1290.csv',\n",
       " 'airbnb_1295.csv',\n",
       " 'airbnb_130.csv',\n",
       " 'airbnb_1300.csv',\n",
       " 'airbnb_1305.csv',\n",
       " 'airbnb_1310.csv',\n",
       " 'airbnb_1315.csv',\n",
       " 'airbnb_1320.csv',\n",
       " 'airbnb_1325.csv',\n",
       " 'airbnb_1330.csv',\n",
       " 'airbnb_1335.csv',\n",
       " 'airbnb_1340.csv',\n",
       " 'airbnb_1345.csv',\n",
       " 'airbnb_135.csv',\n",
       " 'airbnb_1350.csv',\n",
       " 'airbnb_1355.csv',\n",
       " 'airbnb_1360.csv',\n",
       " 'airbnb_1365.csv',\n",
       " 'airbnb_1370.csv',\n",
       " 'airbnb_1375.csv',\n",
       " 'airbnb_1380.csv',\n",
       " 'airbnb_1385.csv',\n",
       " 'airbnb_1390.csv',\n",
       " 'airbnb_1395.csv',\n",
       " 'airbnb_140.csv',\n",
       " 'airbnb_1400.csv',\n",
       " 'airbnb_1405.csv',\n",
       " 'airbnb_1410.csv',\n",
       " 'airbnb_1415.csv',\n",
       " 'airbnb_1420.csv',\n",
       " 'airbnb_1425.csv',\n",
       " 'airbnb_1430.csv',\n",
       " 'airbnb_145.csv',\n",
       " 'airbnb_15.csv',\n",
       " 'airbnb_150.csv',\n",
       " 'airbnb_155.csv',\n",
       " 'airbnb_160.csv',\n",
       " 'airbnb_165.csv',\n",
       " 'airbnb_170.csv',\n",
       " 'airbnb_175.csv',\n",
       " 'airbnb_180.csv',\n",
       " 'airbnb_185.csv',\n",
       " 'airbnb_190.csv',\n",
       " 'airbnb_195.csv',\n",
       " 'airbnb_20.csv',\n",
       " 'airbnb_200.csv',\n",
       " 'airbnb_205.csv',\n",
       " 'airbnb_210.csv',\n",
       " 'airbnb_215.csv',\n",
       " 'airbnb_220.csv',\n",
       " 'airbnb_225.csv',\n",
       " 'airbnb_230.csv',\n",
       " 'airbnb_235.csv',\n",
       " 'airbnb_240.csv',\n",
       " 'airbnb_245.csv',\n",
       " 'airbnb_25.csv',\n",
       " 'airbnb_250.csv',\n",
       " 'airbnb_255.csv',\n",
       " 'airbnb_260.csv',\n",
       " 'airbnb_265.csv',\n",
       " 'airbnb_270.csv',\n",
       " 'airbnb_275.csv',\n",
       " 'airbnb_280.csv',\n",
       " 'airbnb_285.csv',\n",
       " 'airbnb_290.csv',\n",
       " 'airbnb_295.csv',\n",
       " 'airbnb_30.csv',\n",
       " 'airbnb_300.csv',\n",
       " 'airbnb_305.csv',\n",
       " 'airbnb_310.csv',\n",
       " 'airbnb_315.csv',\n",
       " 'airbnb_320.csv',\n",
       " 'airbnb_325.csv',\n",
       " 'airbnb_330.csv',\n",
       " 'airbnb_335.csv',\n",
       " 'airbnb_340.csv',\n",
       " 'airbnb_345.csv',\n",
       " 'airbnb_35.csv',\n",
       " 'airbnb_350.csv',\n",
       " 'airbnb_355.csv',\n",
       " 'airbnb_360.csv',\n",
       " 'airbnb_365.csv',\n",
       " 'airbnb_370.csv',\n",
       " 'airbnb_375.csv',\n",
       " 'airbnb_380.csv',\n",
       " 'airbnb_385.csv',\n",
       " 'airbnb_390.csv',\n",
       " 'airbnb_395.csv',\n",
       " 'airbnb_40.csv',\n",
       " 'airbnb_400.csv',\n",
       " 'airbnb_405.csv',\n",
       " 'airbnb_410.csv',\n",
       " 'airbnb_415.csv',\n",
       " 'airbnb_420.csv',\n",
       " 'airbnb_425.csv',\n",
       " 'airbnb_430.csv',\n",
       " 'airbnb_435.csv',\n",
       " 'airbnb_440.csv',\n",
       " 'airbnb_445.csv',\n",
       " 'airbnb_45.csv',\n",
       " 'airbnb_450.csv',\n",
       " 'airbnb_455.csv',\n",
       " 'airbnb_460.csv',\n",
       " 'airbnb_465.csv',\n",
       " 'airbnb_470.csv',\n",
       " 'airbnb_475.csv',\n",
       " 'airbnb_480.csv',\n",
       " 'airbnb_485.csv',\n",
       " 'airbnb_490.csv',\n",
       " 'airbnb_495.csv',\n",
       " 'airbnb_5.csv',\n",
       " 'airbnb_50.csv',\n",
       " 'airbnb_500.csv',\n",
       " 'airbnb_505.csv',\n",
       " 'airbnb_510.csv',\n",
       " 'airbnb_515.csv',\n",
       " 'airbnb_520.csv',\n",
       " 'airbnb_525.csv',\n",
       " 'airbnb_530.csv',\n",
       " 'airbnb_535.csv',\n",
       " 'airbnb_540.csv',\n",
       " 'airbnb_545.csv',\n",
       " 'airbnb_55.csv',\n",
       " 'airbnb_550.csv',\n",
       " 'airbnb_555.csv',\n",
       " 'airbnb_560.csv',\n",
       " 'airbnb_565.csv',\n",
       " 'airbnb_570.csv',\n",
       " 'airbnb_575.csv',\n",
       " 'airbnb_580.csv',\n",
       " 'airbnb_585.csv',\n",
       " 'airbnb_590.csv',\n",
       " 'airbnb_595.csv',\n",
       " 'airbnb_60.csv',\n",
       " 'airbnb_600.csv',\n",
       " 'airbnb_605.csv',\n",
       " 'airbnb_610.csv',\n",
       " 'airbnb_615.csv',\n",
       " 'airbnb_620.csv',\n",
       " 'airbnb_625.csv',\n",
       " 'airbnb_630.csv',\n",
       " 'airbnb_635.csv',\n",
       " 'airbnb_640.csv',\n",
       " 'airbnb_645.csv',\n",
       " 'airbnb_65.csv',\n",
       " 'airbnb_650.csv',\n",
       " 'airbnb_655.csv',\n",
       " 'airbnb_660.csv',\n",
       " 'airbnb_665.csv',\n",
       " 'airbnb_670.csv',\n",
       " 'airbnb_675.csv',\n",
       " 'airbnb_680.csv',\n",
       " 'airbnb_685.csv',\n",
       " 'airbnb_690.csv',\n",
       " 'airbnb_695.csv',\n",
       " 'airbnb_70.csv',\n",
       " 'airbnb_700.csv',\n",
       " 'airbnb_705.csv',\n",
       " 'airbnb_710.csv',\n",
       " 'airbnb_715.csv',\n",
       " 'airbnb_720.csv',\n",
       " 'airbnb_725.csv',\n",
       " 'airbnb_730.csv',\n",
       " 'airbnb_735.csv',\n",
       " 'airbnb_740.csv',\n",
       " 'airbnb_745.csv',\n",
       " 'airbnb_75.csv',\n",
       " 'airbnb_750.csv',\n",
       " 'airbnb_755.csv',\n",
       " 'airbnb_760.csv',\n",
       " 'airbnb_765.csv',\n",
       " 'airbnb_770.csv',\n",
       " 'airbnb_775.csv',\n",
       " 'airbnb_780.csv',\n",
       " 'airbnb_785.csv',\n",
       " 'airbnb_790.csv',\n",
       " 'airbnb_795.csv',\n",
       " 'airbnb_80.csv',\n",
       " 'airbnb_800.csv',\n",
       " 'airbnb_805.csv',\n",
       " 'airbnb_810.csv',\n",
       " 'airbnb_815.csv',\n",
       " 'airbnb_820.csv',\n",
       " 'airbnb_825.csv',\n",
       " 'airbnb_830.csv',\n",
       " 'airbnb_835.csv',\n",
       " 'airbnb_840.csv',\n",
       " 'airbnb_845.csv',\n",
       " 'airbnb_85.csv',\n",
       " 'airbnb_850.csv',\n",
       " 'airbnb_855.csv',\n",
       " 'airbnb_860.csv',\n",
       " 'airbnb_865.csv',\n",
       " 'airbnb_870.csv',\n",
       " 'airbnb_875.csv',\n",
       " 'airbnb_880.csv',\n",
       " 'airbnb_885.csv',\n",
       " 'airbnb_890.csv',\n",
       " 'airbnb_895.csv',\n",
       " 'airbnb_90.csv',\n",
       " 'airbnb_900.csv',\n",
       " 'airbnb_905.csv',\n",
       " 'airbnb_910.csv',\n",
       " 'airbnb_915.csv',\n",
       " 'airbnb_920.csv',\n",
       " 'airbnb_925.csv',\n",
       " 'airbnb_930.csv',\n",
       " 'airbnb_935.csv',\n",
       " 'airbnb_940.csv',\n",
       " 'airbnb_945.csv',\n",
       " 'airbnb_95.csv',\n",
       " 'airbnb_950.csv',\n",
       " 'airbnb_955.csv',\n",
       " 'airbnb_960.csv',\n",
       " 'airbnb_965.csv',\n",
       " 'airbnb_970.csv',\n",
       " 'airbnb_975.csv',\n",
       " 'airbnb_980.csv',\n",
       " 'airbnb_985.csv',\n",
       " 'airbnb_990.csv',\n",
       " 'airbnb_995.csv']"
      ]
     },
     "execution_count": 59,
     "metadata": {},
     "output_type": "execute_result"
    }
   ],
   "source": [
    "os.listdir('./csvs')"
   ]
  },
  {
   "cell_type": "code",
   "execution_count": 60,
   "metadata": {},
   "outputs": [],
   "source": [
    "df_list = []\n",
    "\n",
    "\n",
    "\n",
    "for c in os.listdir('./csvs'):\n",
    "    df = pd.read_csv('./csvs/'+c)\n",
    "    df_list.append(df)\n",
    "\n",
    "all_df = pd.concat(df_list)"
   ]
  },
  {
   "cell_type": "code",
   "execution_count": 61,
   "metadata": {},
   "outputs": [
    {
     "data": {
      "text/plain": [
       "(1430, 17)"
      ]
     },
     "execution_count": 61,
     "metadata": {},
     "output_type": "execute_result"
    }
   ],
   "source": [
    "all_df.shape"
   ]
  },
  {
   "cell_type": "code",
   "execution_count": 62,
   "metadata": {},
   "outputs": [
    {
     "data": {
      "text/plain": [
       "listing_link                   0\n",
       "searched_location              0\n",
       "title_bed_bats_review          0\n",
       "price_per_night              530\n",
       "review_count                 896\n",
       "review_count_link            896\n",
       "host_link                      1\n",
       "host_response_rate           441\n",
       "listing_description          561\n",
       "cleanliness_ratings         1051\n",
       "accuracy_ratings            1051\n",
       "check-in_ratings            1051\n",
       "communication_ratings       1051\n",
       "location_ratings            1051\n",
       "value_ratings               1051\n",
       "google_map_location_link      12\n",
       "facilities                     1\n",
       "dtype: int64"
      ]
     },
     "execution_count": 62,
     "metadata": {},
     "output_type": "execute_result"
    }
   ],
   "source": [
    "all_df.isnull().sum()\n"
   ]
  },
  {
   "cell_type": "code",
   "execution_count": 63,
   "metadata": {},
   "outputs": [
    {
     "data": {
      "text/plain": [
       "0    $70 \n",
       "0    $84 \n",
       "1    $20 \n",
       "2    $14 \n",
       "3     $8 \n",
       "     ... \n",
       "0     NaN\n",
       "1     NaN\n",
       "2     NaN\n",
       "3     NaN\n",
       "4     NaN\n",
       "Name: price_per_night, Length: 1430, dtype: object"
      ]
     },
     "execution_count": 63,
     "metadata": {},
     "output_type": "execute_result"
    }
   ],
   "source": [
    "all_df['price_per_night']"
   ]
  },
  {
   "cell_type": "code",
   "execution_count": 64,
   "metadata": {},
   "outputs": [],
   "source": [
    "all_df['price_per_night'] = all_df['price_per_night'].replace('[\\$,]', '', regex=True).astype(float)"
   ]
  },
  {
   "cell_type": "code",
   "execution_count": 65,
   "metadata": {},
   "outputs": [],
   "source": [
    "import numpy as np"
   ]
  },
  {
   "cell_type": "code",
   "execution_count": 68,
   "metadata": {},
   "outputs": [
    {
     "name": "stdout",
     "output_type": "stream",
     "text": [
      "<class 'pandas.core.frame.DataFrame'>\n",
      "RangeIndex: 5 entries, 0 to 4\n",
      "Data columns (total 17 columns):\n",
      " #   Column                    Non-Null Count  Dtype  \n",
      "---  ------                    --------------  -----  \n",
      " 0   listing_link              5 non-null      object \n",
      " 1   searched_location         5 non-null      object \n",
      " 2   title_bed_bats_review     5 non-null      object \n",
      " 3   price_per_night           0 non-null      float64\n",
      " 4   review_count              0 non-null      float64\n",
      " 5   review_count_link         0 non-null      float64\n",
      " 6   host_link                 5 non-null      object \n",
      " 7   host_response_rate        1 non-null      object \n",
      " 8   listing_description       5 non-null      object \n",
      " 9   cleanliness_ratings       0 non-null      float64\n",
      " 10  accuracy_ratings          0 non-null      float64\n",
      " 11  check-in_ratings          0 non-null      float64\n",
      " 12  communication_ratings     0 non-null      float64\n",
      " 13  location_ratings          0 non-null      float64\n",
      " 14  value_ratings             0 non-null      float64\n",
      " 15  google_map_location_link  5 non-null      object \n",
      " 16  facilities                5 non-null      object \n",
      "dtypes: float64(9), object(8)\n",
      "memory usage: 808.0+ bytes\n"
     ]
    }
   ],
   "source": [
    "df.info()"
   ]
  },
  {
   "cell_type": "code",
   "execution_count": 70,
   "metadata": {},
   "outputs": [
    {
     "data": {
      "text/plain": [
       "listing_link                   0\n",
       "searched_location              0\n",
       "title_bed_bats_review          0\n",
       "price_per_night              530\n",
       "review_count                 896\n",
       "review_count_link            896\n",
       "host_link                      1\n",
       "host_response_rate           441\n",
       "listing_description          561\n",
       "cleanliness_ratings         1051\n",
       "accuracy_ratings            1051\n",
       "check-in_ratings            1051\n",
       "communication_ratings       1051\n",
       "location_ratings            1051\n",
       "value_ratings               1051\n",
       "google_map_location_link      12\n",
       "facilities                     1\n",
       "dtype: int64"
      ]
     },
     "execution_count": 70,
     "metadata": {},
     "output_type": "execute_result"
    }
   ],
   "source": [
    "all_df.isnull().sum()"
   ]
  },
  {
   "cell_type": "code",
   "execution_count": 72,
   "metadata": {},
   "outputs": [
    {
     "data": {
      "text/plain": [
       "4.693403693931398"
      ]
     },
     "execution_count": 72,
     "metadata": {},
     "output_type": "execute_result"
    }
   ],
   "source": [
    "all_df['accuracy_ratings'].mean()"
   ]
  },
  {
   "cell_type": "code",
   "execution_count": null,
   "metadata": {},
   "outputs": [],
   "source": []
  },
  {
   "cell_type": "code",
   "execution_count": 67,
   "metadata": {},
   "outputs": [
    {
     "data": {
      "text/plain": [
       "(1430, 17)"
      ]
     },
     "execution_count": 67,
     "metadata": {},
     "output_type": "execute_result"
    }
   ],
   "source": [
    "all_df.shape"
   ]
  },
  {
   "cell_type": "code",
   "execution_count": 66,
   "metadata": {},
   "outputs": [
    {
     "data": {
      "text/plain": [
       "<Axes: >"
      ]
     },
     "execution_count": 66,
     "metadata": {},
     "output_type": "execute_result"
    },
    {
     "data": {
      "image/png": "[encoded data removed]",
      "text/plain": [
       "<Figure size 640x480 with 1 Axes>"
      ]
     },
     "metadata": {},
     "output_type": "display_data"
    }
   ],
   "source": [
    "all_df['price_per_night'].hist(bins=[ i for i in range(0,400)])"
   ]
  },
  {
   "cell_type": "code",
   "execution_count": null,
   "metadata": {},
   "outputs": [],
   "source": []
  }
 ],
 "metadata": {
  "kernelspec": {
   "display_name": "Python 3",
   "language": "python",
   "name": "python3"
  },
  "language_info": {
   "codemirror_mode": {
    "name": "ipython",
    "version": 3
   },
   "file_extension": ".py",
   "mimetype": "text/x-python",
   "name": "python",
   "nbconvert_exporter": "python",
   "pygments_lexer": "ipython3",
   "version": "3.10.7"
  }
 },
 "nbformat": 4,
 "nbformat_minor": 2
}
